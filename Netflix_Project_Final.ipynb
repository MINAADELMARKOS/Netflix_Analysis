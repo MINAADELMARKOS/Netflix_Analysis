{
  "cells": [
    {
      "cell_type": "markdown",
      "metadata": {
        "id": "view-in-github",
        "colab_type": "text"
      },
      "source": [
        "<a href=\"https://colab.research.google.com/github/MINAADELMARKOS/Netflix_Analysis/blob/main/Netflix_Project_Final.ipynb\" target=\"_parent\"><img src=\"https://colab.research.google.com/assets/colab-badge.svg\" alt=\"Open In Colab\"/></a>"
      ]
    },
    {
      "cell_type": "code",
      "execution_count": null,
      "id": "f53f47ec",
      "metadata": {
        "id": "f53f47ec"
      },
      "outputs": [],
      "source": [
        "import pandas as pd\n",
        "import numpy as np\n",
        "import datetime\n",
        "import plotly.express as px\n",
        "import plotly.graph_objects as go\n"
      ]
    },
    {
      "cell_type": "code",
      "execution_count": null,
      "id": "d080ffa1",
      "metadata": {
        "id": "d080ffa1"
      },
      "outputs": [],
      "source": [
        "df = pd.read_csv('netflix_titles.csv')"
      ]
    },
    {
      "cell_type": "code",
      "execution_count": null,
      "id": "4999f0f7",
      "metadata": {
        "id": "4999f0f7",
        "outputId": "fb79bac4-bea2-4350-ab83-7f1ef24bec10"
      },
      "outputs": [
        {
          "data": {
            "text/html": [
              "<div>\n",
              "<style scoped>\n",
              "    .dataframe tbody tr th:only-of-type {\n",
              "        vertical-align: middle;\n",
              "    }\n",
              "\n",
              "    .dataframe tbody tr th {\n",
              "        vertical-align: top;\n",
              "    }\n",
              "\n",
              "    .dataframe thead th {\n",
              "        text-align: right;\n",
              "    }\n",
              "</style>\n",
              "<table border=\"1\" class=\"dataframe\">\n",
              "  <thead>\n",
              "    <tr style=\"text-align: right;\">\n",
              "      <th></th>\n",
              "      <th>show_id</th>\n",
              "      <th>type</th>\n",
              "      <th>title</th>\n",
              "      <th>director</th>\n",
              "      <th>cast</th>\n",
              "      <th>country</th>\n",
              "      <th>date_added</th>\n",
              "      <th>release_year</th>\n",
              "      <th>rating</th>\n",
              "      <th>duration</th>\n",
              "      <th>listed_in</th>\n",
              "      <th>description</th>\n",
              "    </tr>\n",
              "  </thead>\n",
              "  <tbody>\n",
              "    <tr>\n",
              "      <th>0</th>\n",
              "      <td>s1</td>\n",
              "      <td>Movie</td>\n",
              "      <td>Dick Johnson Is Dead</td>\n",
              "      <td>Kirsten Johnson</td>\n",
              "      <td>NaN</td>\n",
              "      <td>United States</td>\n",
              "      <td>September 25, 2021</td>\n",
              "      <td>2020</td>\n",
              "      <td>PG-13</td>\n",
              "      <td>90 min</td>\n",
              "      <td>Documentaries</td>\n",
              "      <td>As her father nears the end of his life, filmm...</td>\n",
              "    </tr>\n",
              "    <tr>\n",
              "      <th>1</th>\n",
              "      <td>s2</td>\n",
              "      <td>TV Show</td>\n",
              "      <td>Blood &amp; Water</td>\n",
              "      <td>NaN</td>\n",
              "      <td>Ama Qamata, Khosi Ngema, Gail Mabalane, Thaban...</td>\n",
              "      <td>South Africa</td>\n",
              "      <td>September 24, 2021</td>\n",
              "      <td>2021</td>\n",
              "      <td>TV-MA</td>\n",
              "      <td>2 Seasons</td>\n",
              "      <td>International TV Shows, TV Dramas, TV Mysteries</td>\n",
              "      <td>After crossing paths at a party, a Cape Town t...</td>\n",
              "    </tr>\n",
              "    <tr>\n",
              "      <th>2</th>\n",
              "      <td>s3</td>\n",
              "      <td>TV Show</td>\n",
              "      <td>Ganglands</td>\n",
              "      <td>Julien Leclercq</td>\n",
              "      <td>Sami Bouajila, Tracy Gotoas, Samuel Jouy, Nabi...</td>\n",
              "      <td>NaN</td>\n",
              "      <td>September 24, 2021</td>\n",
              "      <td>2021</td>\n",
              "      <td>TV-MA</td>\n",
              "      <td>1 Season</td>\n",
              "      <td>Crime TV Shows, International TV Shows, TV Act...</td>\n",
              "      <td>To protect his family from a powerful drug lor...</td>\n",
              "    </tr>\n",
              "    <tr>\n",
              "      <th>3</th>\n",
              "      <td>s4</td>\n",
              "      <td>TV Show</td>\n",
              "      <td>Jailbirds New Orleans</td>\n",
              "      <td>NaN</td>\n",
              "      <td>NaN</td>\n",
              "      <td>NaN</td>\n",
              "      <td>September 24, 2021</td>\n",
              "      <td>2021</td>\n",
              "      <td>TV-MA</td>\n",
              "      <td>1 Season</td>\n",
              "      <td>Docuseries, Reality TV</td>\n",
              "      <td>Feuds, flirtations and toilet talk go down amo...</td>\n",
              "    </tr>\n",
              "    <tr>\n",
              "      <th>4</th>\n",
              "      <td>s5</td>\n",
              "      <td>TV Show</td>\n",
              "      <td>Kota Factory</td>\n",
              "      <td>NaN</td>\n",
              "      <td>Mayur More, Jitendra Kumar, Ranjan Raj, Alam K...</td>\n",
              "      <td>India</td>\n",
              "      <td>September 24, 2021</td>\n",
              "      <td>2021</td>\n",
              "      <td>TV-MA</td>\n",
              "      <td>2 Seasons</td>\n",
              "      <td>International TV Shows, Romantic TV Shows, TV ...</td>\n",
              "      <td>In a city of coaching centers known to train I...</td>\n",
              "    </tr>\n",
              "  </tbody>\n",
              "</table>\n",
              "</div>"
            ],
            "text/plain": [
              "  show_id     type                  title         director  \\\n",
              "0      s1    Movie   Dick Johnson Is Dead  Kirsten Johnson   \n",
              "1      s2  TV Show          Blood & Water              NaN   \n",
              "2      s3  TV Show              Ganglands  Julien Leclercq   \n",
              "3      s4  TV Show  Jailbirds New Orleans              NaN   \n",
              "4      s5  TV Show           Kota Factory              NaN   \n",
              "\n",
              "                                                cast        country  \\\n",
              "0                                                NaN  United States   \n",
              "1  Ama Qamata, Khosi Ngema, Gail Mabalane, Thaban...   South Africa   \n",
              "2  Sami Bouajila, Tracy Gotoas, Samuel Jouy, Nabi...            NaN   \n",
              "3                                                NaN            NaN   \n",
              "4  Mayur More, Jitendra Kumar, Ranjan Raj, Alam K...          India   \n",
              "\n",
              "           date_added  release_year rating   duration  \\\n",
              "0  September 25, 2021          2020  PG-13     90 min   \n",
              "1  September 24, 2021          2021  TV-MA  2 Seasons   \n",
              "2  September 24, 2021          2021  TV-MA   1 Season   \n",
              "3  September 24, 2021          2021  TV-MA   1 Season   \n",
              "4  September 24, 2021          2021  TV-MA  2 Seasons   \n",
              "\n",
              "                                           listed_in  \\\n",
              "0                                      Documentaries   \n",
              "1    International TV Shows, TV Dramas, TV Mysteries   \n",
              "2  Crime TV Shows, International TV Shows, TV Act...   \n",
              "3                             Docuseries, Reality TV   \n",
              "4  International TV Shows, Romantic TV Shows, TV ...   \n",
              "\n",
              "                                         description  \n",
              "0  As her father nears the end of his life, filmm...  \n",
              "1  After crossing paths at a party, a Cape Town t...  \n",
              "2  To protect his family from a powerful drug lor...  \n",
              "3  Feuds, flirtations and toilet talk go down amo...  \n",
              "4  In a city of coaching centers known to train I...  "
            ]
          },
          "execution_count": 109,
          "metadata": {},
          "output_type": "execute_result"
        }
      ],
      "source": [
        "df.head(5)"
      ]
    },
    {
      "cell_type": "code",
      "execution_count": null,
      "id": "62578e98",
      "metadata": {
        "id": "62578e98",
        "outputId": "e876b1fa-0247-431b-f069-813478bcad41"
      },
      "outputs": [
        {
          "name": "stdout",
          "output_type": "stream",
          "text": [
            "<class 'pandas.core.frame.DataFrame'>\n",
            "RangeIndex: 8807 entries, 0 to 8806\n",
            "Data columns (total 12 columns):\n",
            " #   Column        Non-Null Count  Dtype \n",
            "---  ------        --------------  ----- \n",
            " 0   show_id       8807 non-null   object\n",
            " 1   type          8807 non-null   object\n",
            " 2   title         8807 non-null   object\n",
            " 3   director      6173 non-null   object\n",
            " 4   cast          7982 non-null   object\n",
            " 5   country       7976 non-null   object\n",
            " 6   date_added    8797 non-null   object\n",
            " 7   release_year  8807 non-null   int64 \n",
            " 8   rating        8803 non-null   object\n",
            " 9   duration      8804 non-null   object\n",
            " 10  listed_in     8807 non-null   object\n",
            " 11  description   8807 non-null   object\n",
            "dtypes: int64(1), object(11)\n",
            "memory usage: 825.8+ KB\n"
          ]
        }
      ],
      "source": [
        "df.info()"
      ]
    },
    {
      "cell_type": "code",
      "execution_count": null,
      "id": "6209b068",
      "metadata": {
        "id": "6209b068",
        "outputId": "2315f386-79cc-488a-e430-fb836f490bc4"
      },
      "outputs": [
        {
          "data": {
            "text/plain": [
              "8807"
            ]
          },
          "execution_count": 111,
          "metadata": {},
          "output_type": "execute_result"
        }
      ],
      "source": [
        "df.shape[0]"
      ]
    },
    {
      "cell_type": "code",
      "execution_count": null,
      "id": "6d50b2db",
      "metadata": {
        "id": "6d50b2db",
        "outputId": "c8af3b89-6cba-4b02-f5d4-d99df33b129c"
      },
      "outputs": [
        {
          "data": {
            "text/plain": [
              "show_id          0.00\n",
              "type             0.00\n",
              "title            0.00\n",
              "director        29.91\n",
              "cast             9.37\n",
              "country          9.44\n",
              "date_added       0.11\n",
              "release_year     0.00\n",
              "rating           0.05\n",
              "duration         0.03\n",
              "listed_in        0.00\n",
              "description      0.00\n",
              "dtype: float64"
            ]
          },
          "execution_count": 112,
          "metadata": {},
          "output_type": "execute_result"
        }
      ],
      "source": [
        "np.round((df.isnull().sum()) / (df.shape[0]) * 100, 2)"
      ]
    },
    {
      "cell_type": "code",
      "execution_count": null,
      "id": "8a261d50",
      "metadata": {
        "id": "8a261d50"
      },
      "outputs": [],
      "source": [
        "df['date_added_cleaned'] = pd.to_datetime(df['date_added'], errors='coerce')"
      ]
    },
    {
      "cell_type": "code",
      "execution_count": null,
      "id": "d6ccb312",
      "metadata": {
        "id": "d6ccb312",
        "outputId": "96a5ddcf-12e8-4200-ee8a-040bf3c763aa"
      },
      "outputs": [
        {
          "name": "stdout",
          "output_type": "stream",
          "text": [
            "<class 'pandas.core.frame.DataFrame'>\n",
            "RangeIndex: 8807 entries, 0 to 8806\n",
            "Data columns (total 13 columns):\n",
            " #   Column              Non-Null Count  Dtype         \n",
            "---  ------              --------------  -----         \n",
            " 0   show_id             8807 non-null   object        \n",
            " 1   type                8807 non-null   object        \n",
            " 2   title               8807 non-null   object        \n",
            " 3   director            6173 non-null   object        \n",
            " 4   cast                7982 non-null   object        \n",
            " 5   country             7976 non-null   object        \n",
            " 6   date_added          8797 non-null   object        \n",
            " 7   release_year        8807 non-null   int64         \n",
            " 8   rating              8803 non-null   object        \n",
            " 9   duration            8804 non-null   object        \n",
            " 10  listed_in           8807 non-null   object        \n",
            " 11  description         8807 non-null   object        \n",
            " 12  date_added_cleaned  8797 non-null   datetime64[ns]\n",
            "dtypes: datetime64[ns](1), int64(1), object(11)\n",
            "memory usage: 894.6+ KB\n"
          ]
        }
      ],
      "source": [
        "df.info()"
      ]
    },
    {
      "cell_type": "code",
      "execution_count": null,
      "id": "c675f36a",
      "metadata": {
        "id": "c675f36a"
      },
      "outputs": [],
      "source": [
        "df.fillna(\n",
        "    {\n",
        "       'director': 'unknown',\n",
        "        'cast': 'unknown',\n",
        "        'country': 'unknown',\n",
        "        'duration': 'not added'\n",
        "    }, inplace=True\n",
        ")"
      ]
    },
    {
      "cell_type": "code",
      "execution_count": null,
      "id": "5e8974fb",
      "metadata": {
        "id": "5e8974fb",
        "outputId": "8c9f591b-039f-4a17-faed-69a47d0f61f7"
      },
      "outputs": [
        {
          "data": {
            "text/plain": [
              "show_id                0\n",
              "type                   0\n",
              "title                  0\n",
              "director               0\n",
              "cast                   0\n",
              "country                0\n",
              "date_added            10\n",
              "release_year           0\n",
              "rating                 4\n",
              "duration               0\n",
              "listed_in              0\n",
              "description            0\n",
              "date_added_cleaned    10\n",
              "dtype: int64"
            ]
          },
          "execution_count": 116,
          "metadata": {},
          "output_type": "execute_result"
        }
      ],
      "source": [
        "df.isna().sum()"
      ]
    },
    {
      "cell_type": "code",
      "execution_count": null,
      "id": "8a557998",
      "metadata": {
        "id": "8a557998"
      },
      "outputs": [],
      "source": [
        "# director, cast, country, => unknown\n",
        "# duration => not added\n",
        "df['director'].fillna('unknown', inplace=True)\n",
        "df['cast'].fillna('unknown', inplace=True)\n",
        "df['country'].fillna('unknown', inplace=True)\n",
        "df['duration'].fillna('not added', inplace=True)"
      ]
    },
    {
      "cell_type": "code",
      "execution_count": null,
      "id": "b4abc7e2",
      "metadata": {
        "id": "b4abc7e2",
        "outputId": "c1fada09-458c-4223-e395-439759e7faa7"
      },
      "outputs": [
        {
          "data": {
            "text/html": [
              "<div>\n",
              "<style scoped>\n",
              "    .dataframe tbody tr th:only-of-type {\n",
              "        vertical-align: middle;\n",
              "    }\n",
              "\n",
              "    .dataframe tbody tr th {\n",
              "        vertical-align: top;\n",
              "    }\n",
              "\n",
              "    .dataframe thead th {\n",
              "        text-align: right;\n",
              "    }\n",
              "</style>\n",
              "<table border=\"1\" class=\"dataframe\">\n",
              "  <thead>\n",
              "    <tr style=\"text-align: right;\">\n",
              "      <th></th>\n",
              "      <th>show_id</th>\n",
              "      <th>type</th>\n",
              "      <th>title</th>\n",
              "      <th>director</th>\n",
              "      <th>cast</th>\n",
              "      <th>country</th>\n",
              "      <th>date_added</th>\n",
              "      <th>release_year</th>\n",
              "      <th>rating</th>\n",
              "      <th>duration</th>\n",
              "      <th>listed_in</th>\n",
              "      <th>description</th>\n",
              "      <th>date_added_cleaned</th>\n",
              "    </tr>\n",
              "  </thead>\n",
              "  <tbody>\n",
              "    <tr>\n",
              "      <th>0</th>\n",
              "      <td>s1</td>\n",
              "      <td>Movie</td>\n",
              "      <td>Dick Johnson Is Dead</td>\n",
              "      <td>Kirsten Johnson</td>\n",
              "      <td>unknown</td>\n",
              "      <td>United States</td>\n",
              "      <td>September 25, 2021</td>\n",
              "      <td>2020</td>\n",
              "      <td>PG-13</td>\n",
              "      <td>90 min</td>\n",
              "      <td>Documentaries</td>\n",
              "      <td>As her father nears the end of his life, filmm...</td>\n",
              "      <td>2021-09-25</td>\n",
              "    </tr>\n",
              "    <tr>\n",
              "      <th>1</th>\n",
              "      <td>s2</td>\n",
              "      <td>TV Show</td>\n",
              "      <td>Blood &amp; Water</td>\n",
              "      <td>unknown</td>\n",
              "      <td>Ama Qamata, Khosi Ngema, Gail Mabalane, Thaban...</td>\n",
              "      <td>South Africa</td>\n",
              "      <td>September 24, 2021</td>\n",
              "      <td>2021</td>\n",
              "      <td>TV-MA</td>\n",
              "      <td>2 Seasons</td>\n",
              "      <td>International TV Shows, TV Dramas, TV Mysteries</td>\n",
              "      <td>After crossing paths at a party, a Cape Town t...</td>\n",
              "      <td>2021-09-24</td>\n",
              "    </tr>\n",
              "    <tr>\n",
              "      <th>2</th>\n",
              "      <td>s3</td>\n",
              "      <td>TV Show</td>\n",
              "      <td>Ganglands</td>\n",
              "      <td>Julien Leclercq</td>\n",
              "      <td>Sami Bouajila, Tracy Gotoas, Samuel Jouy, Nabi...</td>\n",
              "      <td>unknown</td>\n",
              "      <td>September 24, 2021</td>\n",
              "      <td>2021</td>\n",
              "      <td>TV-MA</td>\n",
              "      <td>1 Season</td>\n",
              "      <td>Crime TV Shows, International TV Shows, TV Act...</td>\n",
              "      <td>To protect his family from a powerful drug lor...</td>\n",
              "      <td>2021-09-24</td>\n",
              "    </tr>\n",
              "    <tr>\n",
              "      <th>3</th>\n",
              "      <td>s4</td>\n",
              "      <td>TV Show</td>\n",
              "      <td>Jailbirds New Orleans</td>\n",
              "      <td>unknown</td>\n",
              "      <td>unknown</td>\n",
              "      <td>unknown</td>\n",
              "      <td>September 24, 2021</td>\n",
              "      <td>2021</td>\n",
              "      <td>TV-MA</td>\n",
              "      <td>1 Season</td>\n",
              "      <td>Docuseries, Reality TV</td>\n",
              "      <td>Feuds, flirtations and toilet talk go down amo...</td>\n",
              "      <td>2021-09-24</td>\n",
              "    </tr>\n",
              "    <tr>\n",
              "      <th>4</th>\n",
              "      <td>s5</td>\n",
              "      <td>TV Show</td>\n",
              "      <td>Kota Factory</td>\n",
              "      <td>unknown</td>\n",
              "      <td>Mayur More, Jitendra Kumar, Ranjan Raj, Alam K...</td>\n",
              "      <td>India</td>\n",
              "      <td>September 24, 2021</td>\n",
              "      <td>2021</td>\n",
              "      <td>TV-MA</td>\n",
              "      <td>2 Seasons</td>\n",
              "      <td>International TV Shows, Romantic TV Shows, TV ...</td>\n",
              "      <td>In a city of coaching centers known to train I...</td>\n",
              "      <td>2021-09-24</td>\n",
              "    </tr>\n",
              "    <tr>\n",
              "      <th>5</th>\n",
              "      <td>s6</td>\n",
              "      <td>TV Show</td>\n",
              "      <td>Midnight Mass</td>\n",
              "      <td>Mike Flanagan</td>\n",
              "      <td>Kate Siegel, Zach Gilford, Hamish Linklater, H...</td>\n",
              "      <td>unknown</td>\n",
              "      <td>September 24, 2021</td>\n",
              "      <td>2021</td>\n",
              "      <td>TV-MA</td>\n",
              "      <td>1 Season</td>\n",
              "      <td>TV Dramas, TV Horror, TV Mysteries</td>\n",
              "      <td>The arrival of a charismatic young priest brin...</td>\n",
              "      <td>2021-09-24</td>\n",
              "    </tr>\n",
              "    <tr>\n",
              "      <th>6</th>\n",
              "      <td>s7</td>\n",
              "      <td>Movie</td>\n",
              "      <td>My Little Pony: A New Generation</td>\n",
              "      <td>Robert Cullen, José Luis Ucha</td>\n",
              "      <td>Vanessa Hudgens, Kimiko Glenn, James Marsden, ...</td>\n",
              "      <td>unknown</td>\n",
              "      <td>September 24, 2021</td>\n",
              "      <td>2021</td>\n",
              "      <td>PG</td>\n",
              "      <td>91 min</td>\n",
              "      <td>Children &amp; Family Movies</td>\n",
              "      <td>Equestria's divided. But a bright-eyed hero be...</td>\n",
              "      <td>2021-09-24</td>\n",
              "    </tr>\n",
              "    <tr>\n",
              "      <th>7</th>\n",
              "      <td>s8</td>\n",
              "      <td>Movie</td>\n",
              "      <td>Sankofa</td>\n",
              "      <td>Haile Gerima</td>\n",
              "      <td>Kofi Ghanaba, Oyafunmike Ogunlano, Alexandra D...</td>\n",
              "      <td>United States, Ghana, Burkina Faso, United Kin...</td>\n",
              "      <td>September 24, 2021</td>\n",
              "      <td>1993</td>\n",
              "      <td>TV-MA</td>\n",
              "      <td>125 min</td>\n",
              "      <td>Dramas, Independent Movies, International Movies</td>\n",
              "      <td>On a photo shoot in Ghana, an American model s...</td>\n",
              "      <td>2021-09-24</td>\n",
              "    </tr>\n",
              "    <tr>\n",
              "      <th>8</th>\n",
              "      <td>s9</td>\n",
              "      <td>TV Show</td>\n",
              "      <td>The Great British Baking Show</td>\n",
              "      <td>Andy Devonshire</td>\n",
              "      <td>Mel Giedroyc, Sue Perkins, Mary Berry, Paul Ho...</td>\n",
              "      <td>United Kingdom</td>\n",
              "      <td>September 24, 2021</td>\n",
              "      <td>2021</td>\n",
              "      <td>TV-14</td>\n",
              "      <td>9 Seasons</td>\n",
              "      <td>British TV Shows, Reality TV</td>\n",
              "      <td>A talented batch of amateur bakers face off in...</td>\n",
              "      <td>2021-09-24</td>\n",
              "    </tr>\n",
              "    <tr>\n",
              "      <th>9</th>\n",
              "      <td>s10</td>\n",
              "      <td>Movie</td>\n",
              "      <td>The Starling</td>\n",
              "      <td>Theodore Melfi</td>\n",
              "      <td>Melissa McCarthy, Chris O'Dowd, Kevin Kline, T...</td>\n",
              "      <td>United States</td>\n",
              "      <td>September 24, 2021</td>\n",
              "      <td>2021</td>\n",
              "      <td>PG-13</td>\n",
              "      <td>104 min</td>\n",
              "      <td>Comedies, Dramas</td>\n",
              "      <td>A woman adjusting to life after a loss contend...</td>\n",
              "      <td>2021-09-24</td>\n",
              "    </tr>\n",
              "    <tr>\n",
              "      <th>10</th>\n",
              "      <td>s11</td>\n",
              "      <td>TV Show</td>\n",
              "      <td>Vendetta: Truth, Lies and The Mafia</td>\n",
              "      <td>unknown</td>\n",
              "      <td>unknown</td>\n",
              "      <td>unknown</td>\n",
              "      <td>September 24, 2021</td>\n",
              "      <td>2021</td>\n",
              "      <td>TV-MA</td>\n",
              "      <td>1 Season</td>\n",
              "      <td>Crime TV Shows, Docuseries, International TV S...</td>\n",
              "      <td>Sicily boasts a bold \"Anti-Mafia\" coalition. B...</td>\n",
              "      <td>2021-09-24</td>\n",
              "    </tr>\n",
              "  </tbody>\n",
              "</table>\n",
              "</div>"
            ],
            "text/plain": [
              "   show_id     type                                title  \\\n",
              "0       s1    Movie                 Dick Johnson Is Dead   \n",
              "1       s2  TV Show                        Blood & Water   \n",
              "2       s3  TV Show                            Ganglands   \n",
              "3       s4  TV Show                Jailbirds New Orleans   \n",
              "4       s5  TV Show                         Kota Factory   \n",
              "5       s6  TV Show                        Midnight Mass   \n",
              "6       s7    Movie     My Little Pony: A New Generation   \n",
              "7       s8    Movie                              Sankofa   \n",
              "8       s9  TV Show        The Great British Baking Show   \n",
              "9      s10    Movie                         The Starling   \n",
              "10     s11  TV Show  Vendetta: Truth, Lies and The Mafia   \n",
              "\n",
              "                         director  \\\n",
              "0                 Kirsten Johnson   \n",
              "1                         unknown   \n",
              "2                 Julien Leclercq   \n",
              "3                         unknown   \n",
              "4                         unknown   \n",
              "5                   Mike Flanagan   \n",
              "6   Robert Cullen, José Luis Ucha   \n",
              "7                    Haile Gerima   \n",
              "8                 Andy Devonshire   \n",
              "9                  Theodore Melfi   \n",
              "10                        unknown   \n",
              "\n",
              "                                                 cast  \\\n",
              "0                                             unknown   \n",
              "1   Ama Qamata, Khosi Ngema, Gail Mabalane, Thaban...   \n",
              "2   Sami Bouajila, Tracy Gotoas, Samuel Jouy, Nabi...   \n",
              "3                                             unknown   \n",
              "4   Mayur More, Jitendra Kumar, Ranjan Raj, Alam K...   \n",
              "5   Kate Siegel, Zach Gilford, Hamish Linklater, H...   \n",
              "6   Vanessa Hudgens, Kimiko Glenn, James Marsden, ...   \n",
              "7   Kofi Ghanaba, Oyafunmike Ogunlano, Alexandra D...   \n",
              "8   Mel Giedroyc, Sue Perkins, Mary Berry, Paul Ho...   \n",
              "9   Melissa McCarthy, Chris O'Dowd, Kevin Kline, T...   \n",
              "10                                            unknown   \n",
              "\n",
              "                                              country          date_added  \\\n",
              "0                                       United States  September 25, 2021   \n",
              "1                                        South Africa  September 24, 2021   \n",
              "2                                             unknown  September 24, 2021   \n",
              "3                                             unknown  September 24, 2021   \n",
              "4                                               India  September 24, 2021   \n",
              "5                                             unknown  September 24, 2021   \n",
              "6                                             unknown  September 24, 2021   \n",
              "7   United States, Ghana, Burkina Faso, United Kin...  September 24, 2021   \n",
              "8                                      United Kingdom  September 24, 2021   \n",
              "9                                       United States  September 24, 2021   \n",
              "10                                            unknown  September 24, 2021   \n",
              "\n",
              "    release_year rating   duration  \\\n",
              "0           2020  PG-13     90 min   \n",
              "1           2021  TV-MA  2 Seasons   \n",
              "2           2021  TV-MA   1 Season   \n",
              "3           2021  TV-MA   1 Season   \n",
              "4           2021  TV-MA  2 Seasons   \n",
              "5           2021  TV-MA   1 Season   \n",
              "6           2021     PG     91 min   \n",
              "7           1993  TV-MA    125 min   \n",
              "8           2021  TV-14  9 Seasons   \n",
              "9           2021  PG-13    104 min   \n",
              "10          2021  TV-MA   1 Season   \n",
              "\n",
              "                                            listed_in  \\\n",
              "0                                       Documentaries   \n",
              "1     International TV Shows, TV Dramas, TV Mysteries   \n",
              "2   Crime TV Shows, International TV Shows, TV Act...   \n",
              "3                              Docuseries, Reality TV   \n",
              "4   International TV Shows, Romantic TV Shows, TV ...   \n",
              "5                  TV Dramas, TV Horror, TV Mysteries   \n",
              "6                            Children & Family Movies   \n",
              "7    Dramas, Independent Movies, International Movies   \n",
              "8                        British TV Shows, Reality TV   \n",
              "9                                    Comedies, Dramas   \n",
              "10  Crime TV Shows, Docuseries, International TV S...   \n",
              "\n",
              "                                          description date_added_cleaned  \n",
              "0   As her father nears the end of his life, filmm...         2021-09-25  \n",
              "1   After crossing paths at a party, a Cape Town t...         2021-09-24  \n",
              "2   To protect his family from a powerful drug lor...         2021-09-24  \n",
              "3   Feuds, flirtations and toilet talk go down amo...         2021-09-24  \n",
              "4   In a city of coaching centers known to train I...         2021-09-24  \n",
              "5   The arrival of a charismatic young priest brin...         2021-09-24  \n",
              "6   Equestria's divided. But a bright-eyed hero be...         2021-09-24  \n",
              "7   On a photo shoot in Ghana, an American model s...         2021-09-24  \n",
              "8   A talented batch of amateur bakers face off in...         2021-09-24  \n",
              "9   A woman adjusting to life after a loss contend...         2021-09-24  \n",
              "10  Sicily boasts a bold \"Anti-Mafia\" coalition. B...         2021-09-24  "
            ]
          },
          "execution_count": 118,
          "metadata": {},
          "output_type": "execute_result"
        }
      ],
      "source": [
        "df[df['date_added_cleaned'] >= datetime.datetime(year=2021, month=9, day=24)]"
      ]
    },
    {
      "cell_type": "code",
      "execution_count": null,
      "id": "efe55ce0",
      "metadata": {
        "id": "efe55ce0",
        "outputId": "47667b87-06c3-405c-eb8b-621f12d0cac0"
      },
      "outputs": [
        {
          "data": {
            "text/plain": [
              "show_id                0\n",
              "type                   0\n",
              "title                  0\n",
              "director               0\n",
              "cast                   0\n",
              "country                0\n",
              "date_added            10\n",
              "release_year           0\n",
              "rating                 4\n",
              "duration               0\n",
              "listed_in              0\n",
              "description            0\n",
              "date_added_cleaned    10\n",
              "dtype: int64"
            ]
          },
          "execution_count": 119,
          "metadata": {},
          "output_type": "execute_result"
        }
      ],
      "source": [
        "df.isna().sum()"
      ]
    },
    {
      "cell_type": "code",
      "execution_count": null,
      "id": "bc1ca9d4",
      "metadata": {
        "id": "bc1ca9d4"
      },
      "outputs": [],
      "source": [
        "# year, month, month name from column date_added_cleaned\n",
        "df['year_added'] = df['date_added_cleaned'].dt.year\n",
        "df['month_added'] = df['date_added_cleaned'].dt.month\n",
        "df['month_name'] = df['date_added_cleaned'].dt.month_name()\n"
      ]
    },
    {
      "cell_type": "code",
      "execution_count": null,
      "id": "10a2be7e",
      "metadata": {
        "id": "10a2be7e",
        "outputId": "aca0cc81-9363-444c-a151-63e4070d6bd4"
      },
      "outputs": [
        {
          "data": {
            "text/html": [
              "<div>\n",
              "<style scoped>\n",
              "    .dataframe tbody tr th:only-of-type {\n",
              "        vertical-align: middle;\n",
              "    }\n",
              "\n",
              "    .dataframe tbody tr th {\n",
              "        vertical-align: top;\n",
              "    }\n",
              "\n",
              "    .dataframe thead th {\n",
              "        text-align: right;\n",
              "    }\n",
              "</style>\n",
              "<table border=\"1\" class=\"dataframe\">\n",
              "  <thead>\n",
              "    <tr style=\"text-align: right;\">\n",
              "      <th></th>\n",
              "      <th>show_id</th>\n",
              "      <th>type</th>\n",
              "      <th>title</th>\n",
              "      <th>director</th>\n",
              "      <th>cast</th>\n",
              "      <th>country</th>\n",
              "      <th>date_added</th>\n",
              "      <th>release_year</th>\n",
              "      <th>rating</th>\n",
              "      <th>duration</th>\n",
              "      <th>listed_in</th>\n",
              "      <th>description</th>\n",
              "      <th>date_added_cleaned</th>\n",
              "      <th>year_added</th>\n",
              "      <th>month_added</th>\n",
              "      <th>month_name</th>\n",
              "    </tr>\n",
              "  </thead>\n",
              "  <tbody>\n",
              "    <tr>\n",
              "      <th>0</th>\n",
              "      <td>s1</td>\n",
              "      <td>Movie</td>\n",
              "      <td>Dick Johnson Is Dead</td>\n",
              "      <td>Kirsten Johnson</td>\n",
              "      <td>unknown</td>\n",
              "      <td>United States</td>\n",
              "      <td>September 25, 2021</td>\n",
              "      <td>2020</td>\n",
              "      <td>PG-13</td>\n",
              "      <td>90 min</td>\n",
              "      <td>Documentaries</td>\n",
              "      <td>As her father nears the end of his life, filmm...</td>\n",
              "      <td>2021-09-25</td>\n",
              "      <td>2021.0</td>\n",
              "      <td>9.0</td>\n",
              "      <td>September</td>\n",
              "    </tr>\n",
              "    <tr>\n",
              "      <th>1</th>\n",
              "      <td>s2</td>\n",
              "      <td>TV Show</td>\n",
              "      <td>Blood &amp; Water</td>\n",
              "      <td>unknown</td>\n",
              "      <td>Ama Qamata, Khosi Ngema, Gail Mabalane, Thaban...</td>\n",
              "      <td>South Africa</td>\n",
              "      <td>September 24, 2021</td>\n",
              "      <td>2021</td>\n",
              "      <td>TV-MA</td>\n",
              "      <td>2 Seasons</td>\n",
              "      <td>International TV Shows, TV Dramas, TV Mysteries</td>\n",
              "      <td>After crossing paths at a party, a Cape Town t...</td>\n",
              "      <td>2021-09-24</td>\n",
              "      <td>2021.0</td>\n",
              "      <td>9.0</td>\n",
              "      <td>September</td>\n",
              "    </tr>\n",
              "  </tbody>\n",
              "</table>\n",
              "</div>"
            ],
            "text/plain": [
              "  show_id     type                 title         director  \\\n",
              "0      s1    Movie  Dick Johnson Is Dead  Kirsten Johnson   \n",
              "1      s2  TV Show         Blood & Water          unknown   \n",
              "\n",
              "                                                cast        country  \\\n",
              "0                                            unknown  United States   \n",
              "1  Ama Qamata, Khosi Ngema, Gail Mabalane, Thaban...   South Africa   \n",
              "\n",
              "           date_added  release_year rating   duration  \\\n",
              "0  September 25, 2021          2020  PG-13     90 min   \n",
              "1  September 24, 2021          2021  TV-MA  2 Seasons   \n",
              "\n",
              "                                         listed_in  \\\n",
              "0                                    Documentaries   \n",
              "1  International TV Shows, TV Dramas, TV Mysteries   \n",
              "\n",
              "                                         description date_added_cleaned  \\\n",
              "0  As her father nears the end of his life, filmm...         2021-09-25   \n",
              "1  After crossing paths at a party, a Cape Town t...         2021-09-24   \n",
              "\n",
              "   year_added  month_added month_name  \n",
              "0      2021.0          9.0  September  \n",
              "1      2021.0          9.0  September  "
            ]
          },
          "execution_count": 121,
          "metadata": {},
          "output_type": "execute_result"
        }
      ],
      "source": [
        "df.head(2)"
      ]
    },
    {
      "cell_type": "code",
      "execution_count": null,
      "id": "9c447515",
      "metadata": {
        "id": "9c447515"
      },
      "outputs": [],
      "source": [
        "df[['year_added', 'month_added']] = df[['year_added', 'month_added']].astype('Int64')"
      ]
    },
    {
      "cell_type": "code",
      "execution_count": null,
      "id": "579ec1ee",
      "metadata": {
        "id": "579ec1ee"
      },
      "outputs": [],
      "source": [
        "# create column named season_count\n",
        "def get_season(duration):\n",
        "    duration = duration.lower()\n",
        "    if 'season' in duration:\n",
        "        return int(duration.split(' ')[0])\n",
        "    else:\n",
        "        return np.nan"
      ]
    },
    {
      "cell_type": "code",
      "execution_count": null,
      "id": "8008845b",
      "metadata": {
        "id": "8008845b"
      },
      "outputs": [],
      "source": [
        "def get_duration(duration):\n",
        "    duration = duration.lower()\n",
        "    if 'min' in duration:\n",
        "        return int(duration.split(' ')[0])\n",
        "    else:\n",
        "        return np.nan"
      ]
    },
    {
      "cell_type": "code",
      "execution_count": null,
      "id": "1c3af794",
      "metadata": {
        "id": "1c3af794"
      },
      "outputs": [],
      "source": [
        "df['season_count'] = df['duration'].apply(get_season).astype('Int64')"
      ]
    },
    {
      "cell_type": "code",
      "execution_count": null,
      "id": "96347605",
      "metadata": {
        "id": "96347605"
      },
      "outputs": [],
      "source": [
        "df['duration_cleaned'] = df['duration'].apply(get_duration).astype('Int64')"
      ]
    },
    {
      "cell_type": "code",
      "execution_count": null,
      "id": "8e7d227d",
      "metadata": {
        "id": "8e7d227d",
        "outputId": "af194a9c-8978-4919-e0b3-60e8ac75c872"
      },
      "outputs": [
        {
          "data": {
            "text/html": [
              "<div>\n",
              "<style scoped>\n",
              "    .dataframe tbody tr th:only-of-type {\n",
              "        vertical-align: middle;\n",
              "    }\n",
              "\n",
              "    .dataframe tbody tr th {\n",
              "        vertical-align: top;\n",
              "    }\n",
              "\n",
              "    .dataframe thead th {\n",
              "        text-align: right;\n",
              "    }\n",
              "</style>\n",
              "<table border=\"1\" class=\"dataframe\">\n",
              "  <thead>\n",
              "    <tr style=\"text-align: right;\">\n",
              "      <th></th>\n",
              "      <th>show_id</th>\n",
              "      <th>type</th>\n",
              "      <th>title</th>\n",
              "      <th>director</th>\n",
              "      <th>cast</th>\n",
              "      <th>country</th>\n",
              "      <th>date_added</th>\n",
              "      <th>release_year</th>\n",
              "      <th>rating</th>\n",
              "      <th>duration</th>\n",
              "      <th>listed_in</th>\n",
              "      <th>description</th>\n",
              "      <th>date_added_cleaned</th>\n",
              "      <th>year_added</th>\n",
              "      <th>month_added</th>\n",
              "      <th>month_name</th>\n",
              "      <th>season_count</th>\n",
              "      <th>duration_cleaned</th>\n",
              "    </tr>\n",
              "  </thead>\n",
              "  <tbody>\n",
              "    <tr>\n",
              "      <th>0</th>\n",
              "      <td>s1</td>\n",
              "      <td>Movie</td>\n",
              "      <td>Dick Johnson Is Dead</td>\n",
              "      <td>Kirsten Johnson</td>\n",
              "      <td>unknown</td>\n",
              "      <td>United States</td>\n",
              "      <td>September 25, 2021</td>\n",
              "      <td>2020</td>\n",
              "      <td>PG-13</td>\n",
              "      <td>90 min</td>\n",
              "      <td>Documentaries</td>\n",
              "      <td>As her father nears the end of his life, filmm...</td>\n",
              "      <td>2021-09-25</td>\n",
              "      <td>2021</td>\n",
              "      <td>9</td>\n",
              "      <td>September</td>\n",
              "      <td>&lt;NA&gt;</td>\n",
              "      <td>90</td>\n",
              "    </tr>\n",
              "    <tr>\n",
              "      <th>1</th>\n",
              "      <td>s2</td>\n",
              "      <td>TV Show</td>\n",
              "      <td>Blood &amp; Water</td>\n",
              "      <td>unknown</td>\n",
              "      <td>Ama Qamata, Khosi Ngema, Gail Mabalane, Thaban...</td>\n",
              "      <td>South Africa</td>\n",
              "      <td>September 24, 2021</td>\n",
              "      <td>2021</td>\n",
              "      <td>TV-MA</td>\n",
              "      <td>2 Seasons</td>\n",
              "      <td>International TV Shows, TV Dramas, TV Mysteries</td>\n",
              "      <td>After crossing paths at a party, a Cape Town t...</td>\n",
              "      <td>2021-09-24</td>\n",
              "      <td>2021</td>\n",
              "      <td>9</td>\n",
              "      <td>September</td>\n",
              "      <td>2</td>\n",
              "      <td>&lt;NA&gt;</td>\n",
              "    </tr>\n",
              "    <tr>\n",
              "      <th>2</th>\n",
              "      <td>s3</td>\n",
              "      <td>TV Show</td>\n",
              "      <td>Ganglands</td>\n",
              "      <td>Julien Leclercq</td>\n",
              "      <td>Sami Bouajila, Tracy Gotoas, Samuel Jouy, Nabi...</td>\n",
              "      <td>unknown</td>\n",
              "      <td>September 24, 2021</td>\n",
              "      <td>2021</td>\n",
              "      <td>TV-MA</td>\n",
              "      <td>1 Season</td>\n",
              "      <td>Crime TV Shows, International TV Shows, TV Act...</td>\n",
              "      <td>To protect his family from a powerful drug lor...</td>\n",
              "      <td>2021-09-24</td>\n",
              "      <td>2021</td>\n",
              "      <td>9</td>\n",
              "      <td>September</td>\n",
              "      <td>1</td>\n",
              "      <td>&lt;NA&gt;</td>\n",
              "    </tr>\n",
              "    <tr>\n",
              "      <th>3</th>\n",
              "      <td>s4</td>\n",
              "      <td>TV Show</td>\n",
              "      <td>Jailbirds New Orleans</td>\n",
              "      <td>unknown</td>\n",
              "      <td>unknown</td>\n",
              "      <td>unknown</td>\n",
              "      <td>September 24, 2021</td>\n",
              "      <td>2021</td>\n",
              "      <td>TV-MA</td>\n",
              "      <td>1 Season</td>\n",
              "      <td>Docuseries, Reality TV</td>\n",
              "      <td>Feuds, flirtations and toilet talk go down amo...</td>\n",
              "      <td>2021-09-24</td>\n",
              "      <td>2021</td>\n",
              "      <td>9</td>\n",
              "      <td>September</td>\n",
              "      <td>1</td>\n",
              "      <td>&lt;NA&gt;</td>\n",
              "    </tr>\n",
              "    <tr>\n",
              "      <th>4</th>\n",
              "      <td>s5</td>\n",
              "      <td>TV Show</td>\n",
              "      <td>Kota Factory</td>\n",
              "      <td>unknown</td>\n",
              "      <td>Mayur More, Jitendra Kumar, Ranjan Raj, Alam K...</td>\n",
              "      <td>India</td>\n",
              "      <td>September 24, 2021</td>\n",
              "      <td>2021</td>\n",
              "      <td>TV-MA</td>\n",
              "      <td>2 Seasons</td>\n",
              "      <td>International TV Shows, Romantic TV Shows, TV ...</td>\n",
              "      <td>In a city of coaching centers known to train I...</td>\n",
              "      <td>2021-09-24</td>\n",
              "      <td>2021</td>\n",
              "      <td>9</td>\n",
              "      <td>September</td>\n",
              "      <td>2</td>\n",
              "      <td>&lt;NA&gt;</td>\n",
              "    </tr>\n",
              "  </tbody>\n",
              "</table>\n",
              "</div>"
            ],
            "text/plain": [
              "  show_id     type                  title         director  \\\n",
              "0      s1    Movie   Dick Johnson Is Dead  Kirsten Johnson   \n",
              "1      s2  TV Show          Blood & Water          unknown   \n",
              "2      s3  TV Show              Ganglands  Julien Leclercq   \n",
              "3      s4  TV Show  Jailbirds New Orleans          unknown   \n",
              "4      s5  TV Show           Kota Factory          unknown   \n",
              "\n",
              "                                                cast        country  \\\n",
              "0                                            unknown  United States   \n",
              "1  Ama Qamata, Khosi Ngema, Gail Mabalane, Thaban...   South Africa   \n",
              "2  Sami Bouajila, Tracy Gotoas, Samuel Jouy, Nabi...        unknown   \n",
              "3                                            unknown        unknown   \n",
              "4  Mayur More, Jitendra Kumar, Ranjan Raj, Alam K...          India   \n",
              "\n",
              "           date_added  release_year rating   duration  \\\n",
              "0  September 25, 2021          2020  PG-13     90 min   \n",
              "1  September 24, 2021          2021  TV-MA  2 Seasons   \n",
              "2  September 24, 2021          2021  TV-MA   1 Season   \n",
              "3  September 24, 2021          2021  TV-MA   1 Season   \n",
              "4  September 24, 2021          2021  TV-MA  2 Seasons   \n",
              "\n",
              "                                           listed_in  \\\n",
              "0                                      Documentaries   \n",
              "1    International TV Shows, TV Dramas, TV Mysteries   \n",
              "2  Crime TV Shows, International TV Shows, TV Act...   \n",
              "3                             Docuseries, Reality TV   \n",
              "4  International TV Shows, Romantic TV Shows, TV ...   \n",
              "\n",
              "                                         description date_added_cleaned  \\\n",
              "0  As her father nears the end of his life, filmm...         2021-09-25   \n",
              "1  After crossing paths at a party, a Cape Town t...         2021-09-24   \n",
              "2  To protect his family from a powerful drug lor...         2021-09-24   \n",
              "3  Feuds, flirtations and toilet talk go down amo...         2021-09-24   \n",
              "4  In a city of coaching centers known to train I...         2021-09-24   \n",
              "\n",
              "   year_added  month_added month_name  season_count  duration_cleaned  \n",
              "0        2021            9  September          <NA>                90  \n",
              "1        2021            9  September             2              <NA>  \n",
              "2        2021            9  September             1              <NA>  \n",
              "3        2021            9  September             1              <NA>  \n",
              "4        2021            9  September             2              <NA>  "
            ]
          },
          "execution_count": 127,
          "metadata": {},
          "output_type": "execute_result"
        }
      ],
      "source": [
        "df.head(5)"
      ]
    },
    {
      "cell_type": "code",
      "execution_count": null,
      "id": "0a2f9840",
      "metadata": {
        "id": "0a2f9840",
        "outputId": "57281506-3efc-4763-867a-9c52872eb4cc"
      },
      "outputs": [
        {
          "data": {
            "text/plain": [
              "Movie      6131\n",
              "TV Show    2676\n",
              "Name: type, dtype: int64"
            ]
          },
          "execution_count": 128,
          "metadata": {},
          "output_type": "execute_result"
        }
      ],
      "source": [
        "df['type'].value_counts()"
      ]
    },
    {
      "cell_type": "code",
      "execution_count": null,
      "id": "95e4d5f1",
      "metadata": {
        "id": "95e4d5f1"
      },
      "outputs": [],
      "source": [
        "# horror\n",
        "df['is_horror'] = df['listed_in'].str.contains('horror', case=False, na=False)"
      ]
    },
    {
      "cell_type": "code",
      "execution_count": null,
      "id": "b9bcf86b",
      "metadata": {
        "id": "b9bcf86b"
      },
      "outputs": [],
      "source": []
    },
    {
      "cell_type": "code",
      "execution_count": null,
      "id": "6f8e683d",
      "metadata": {
        "id": "6f8e683d",
        "outputId": "584ea1dc-5b1c-4296-adee-54ae7cb53898"
      },
      "outputs": [
        {
          "data": {
            "text/html": [
              "<div>\n",
              "<style scoped>\n",
              "    .dataframe tbody tr th:only-of-type {\n",
              "        vertical-align: middle;\n",
              "    }\n",
              "\n",
              "    .dataframe tbody tr th {\n",
              "        vertical-align: top;\n",
              "    }\n",
              "\n",
              "    .dataframe thead th {\n",
              "        text-align: right;\n",
              "    }\n",
              "</style>\n",
              "<table border=\"1\" class=\"dataframe\">\n",
              "  <thead>\n",
              "    <tr style=\"text-align: right;\">\n",
              "      <th></th>\n",
              "      <th>is_horror</th>\n",
              "    </tr>\n",
              "    <tr>\n",
              "      <th>type</th>\n",
              "      <th></th>\n",
              "    </tr>\n",
              "  </thead>\n",
              "  <tbody>\n",
              "    <tr>\n",
              "      <th>Movie</th>\n",
              "      <td>357</td>\n",
              "    </tr>\n",
              "    <tr>\n",
              "      <th>TV Show</th>\n",
              "      <td>75</td>\n",
              "    </tr>\n",
              "  </tbody>\n",
              "</table>\n",
              "</div>"
            ],
            "text/plain": [
              "         is_horror\n",
              "type              \n",
              "Movie          357\n",
              "TV Show         75"
            ]
          },
          "execution_count": 130,
          "metadata": {},
          "output_type": "execute_result"
        }
      ],
      "source": [
        "df.groupby('type').agg({\n",
        "    'is_horror': 'sum'\n",
        "})"
      ]
    },
    {
      "cell_type": "code",
      "execution_count": null,
      "id": "1b7028c2",
      "metadata": {
        "id": "1b7028c2",
        "outputId": "e75cb260-369f-4cda-d89e-c9aa3560b8d3"
      },
      "outputs": [
        {
          "data": {
            "text/html": [
              "<div>\n",
              "<style scoped>\n",
              "    .dataframe tbody tr th:only-of-type {\n",
              "        vertical-align: middle;\n",
              "    }\n",
              "\n",
              "    .dataframe tbody tr th {\n",
              "        vertical-align: top;\n",
              "    }\n",
              "\n",
              "    .dataframe thead th {\n",
              "        text-align: right;\n",
              "    }\n",
              "</style>\n",
              "<table border=\"1\" class=\"dataframe\">\n",
              "  <thead>\n",
              "    <tr style=\"text-align: right;\">\n",
              "      <th></th>\n",
              "      <th>show_id</th>\n",
              "      <th>type</th>\n",
              "      <th>title</th>\n",
              "      <th>director</th>\n",
              "      <th>cast</th>\n",
              "      <th>country</th>\n",
              "      <th>date_added</th>\n",
              "      <th>release_year</th>\n",
              "      <th>rating</th>\n",
              "      <th>duration</th>\n",
              "      <th>listed_in</th>\n",
              "      <th>description</th>\n",
              "      <th>date_added_cleaned</th>\n",
              "      <th>year_added</th>\n",
              "      <th>month_added</th>\n",
              "      <th>month_name</th>\n",
              "      <th>season_count</th>\n",
              "      <th>duration_cleaned</th>\n",
              "      <th>is_horror</th>\n",
              "    </tr>\n",
              "  </thead>\n",
              "  <tbody>\n",
              "    <tr>\n",
              "      <th>28</th>\n",
              "      <td>s29</td>\n",
              "      <td>Movie</td>\n",
              "      <td>Dark Skies</td>\n",
              "      <td>Scott Stewart</td>\n",
              "      <td>Keri Russell, Josh Hamilton, J.K. Simmons, Dak...</td>\n",
              "      <td>United States</td>\n",
              "      <td>September 19, 2021</td>\n",
              "      <td>2013</td>\n",
              "      <td>PG-13</td>\n",
              "      <td>97 min</td>\n",
              "      <td>Horror Movies, Sci-Fi &amp; Fantasy</td>\n",
              "      <td>A family’s idyllic suburban life shatters when...</td>\n",
              "      <td>2021-09-19</td>\n",
              "      <td>2021</td>\n",
              "      <td>9</td>\n",
              "      <td>September</td>\n",
              "      <td>&lt;NA&gt;</td>\n",
              "      <td>97</td>\n",
              "      <td>True</td>\n",
              "    </tr>\n",
              "    <tr>\n",
              "      <th>42</th>\n",
              "      <td>s43</td>\n",
              "      <td>Movie</td>\n",
              "      <td>Jaws 2</td>\n",
              "      <td>Jeannot Szwarc</td>\n",
              "      <td>Roy Scheider, Lorraine Gary, Murray Hamilton, ...</td>\n",
              "      <td>United States</td>\n",
              "      <td>September 16, 2021</td>\n",
              "      <td>1978</td>\n",
              "      <td>PG</td>\n",
              "      <td>116 min</td>\n",
              "      <td>Dramas, Horror Movies, Thrillers</td>\n",
              "      <td>Four years after the last deadly shark attacks...</td>\n",
              "      <td>2021-09-16</td>\n",
              "      <td>2021</td>\n",
              "      <td>9</td>\n",
              "      <td>September</td>\n",
              "      <td>&lt;NA&gt;</td>\n",
              "      <td>116</td>\n",
              "      <td>True</td>\n",
              "    </tr>\n",
              "    <tr>\n",
              "      <th>43</th>\n",
              "      <td>s44</td>\n",
              "      <td>Movie</td>\n",
              "      <td>Jaws 3</td>\n",
              "      <td>Joe Alves</td>\n",
              "      <td>Dennis Quaid, Bess Armstrong, Simon MacCorkind...</td>\n",
              "      <td>United States</td>\n",
              "      <td>September 16, 2021</td>\n",
              "      <td>1983</td>\n",
              "      <td>PG</td>\n",
              "      <td>98 min</td>\n",
              "      <td>Action &amp; Adventure, Horror Movies, Thrillers</td>\n",
              "      <td>After the staff of a marine theme park try to ...</td>\n",
              "      <td>2021-09-16</td>\n",
              "      <td>2021</td>\n",
              "      <td>9</td>\n",
              "      <td>September</td>\n",
              "      <td>&lt;NA&gt;</td>\n",
              "      <td>98</td>\n",
              "      <td>True</td>\n",
              "    </tr>\n",
              "    <tr>\n",
              "      <th>44</th>\n",
              "      <td>s45</td>\n",
              "      <td>Movie</td>\n",
              "      <td>Jaws: The Revenge</td>\n",
              "      <td>Joseph Sargent</td>\n",
              "      <td>Lorraine Gary, Lance Guest, Mario Van Peebles,...</td>\n",
              "      <td>United States</td>\n",
              "      <td>September 16, 2021</td>\n",
              "      <td>1987</td>\n",
              "      <td>PG-13</td>\n",
              "      <td>91 min</td>\n",
              "      <td>Action &amp; Adventure, Horror Movies, Thrillers</td>\n",
              "      <td>After another deadly shark attack, Ellen Brody...</td>\n",
              "      <td>2021-09-16</td>\n",
              "      <td>2021</td>\n",
              "      <td>9</td>\n",
              "      <td>September</td>\n",
              "      <td>&lt;NA&gt;</td>\n",
              "      <td>91</td>\n",
              "      <td>True</td>\n",
              "    </tr>\n",
              "    <tr>\n",
              "      <th>200</th>\n",
              "      <td>s201</td>\n",
              "      <td>Movie</td>\n",
              "      <td>Krishna Cottage</td>\n",
              "      <td>Santram Varma</td>\n",
              "      <td>Sohail Khan, Isha Koppikar, Natassha, Rati Agn...</td>\n",
              "      <td>India</td>\n",
              "      <td>August 27, 2021</td>\n",
              "      <td>2004</td>\n",
              "      <td>TV-14</td>\n",
              "      <td>124 min</td>\n",
              "      <td>Action &amp; Adventure, Horror Movies, Internation...</td>\n",
              "      <td>True love is put to the test when another woma...</td>\n",
              "      <td>2021-08-27</td>\n",
              "      <td>2021</td>\n",
              "      <td>8</td>\n",
              "      <td>August</td>\n",
              "      <td>&lt;NA&gt;</td>\n",
              "      <td>124</td>\n",
              "      <td>True</td>\n",
              "    </tr>\n",
              "    <tr>\n",
              "      <th>210</th>\n",
              "      <td>s211</td>\n",
              "      <td>Movie</td>\n",
              "      <td>Ragini MMS</td>\n",
              "      <td>Pawan Kripalani</td>\n",
              "      <td>Kainaz Motivala, Rajkummar Rao, Rajat Kaul, Ja...</td>\n",
              "      <td>India</td>\n",
              "      <td>August 27, 2021</td>\n",
              "      <td>2011</td>\n",
              "      <td>TV-MA</td>\n",
              "      <td>93 min</td>\n",
              "      <td>Horror Movies, International Movies</td>\n",
              "      <td>A couple out to have a sensuous weekend at a h...</td>\n",
              "      <td>2021-08-27</td>\n",
              "      <td>2021</td>\n",
              "      <td>8</td>\n",
              "      <td>August</td>\n",
              "      <td>&lt;NA&gt;</td>\n",
              "      <td>93</td>\n",
              "      <td>True</td>\n",
              "    </tr>\n",
              "    <tr>\n",
              "      <th>211</th>\n",
              "      <td>s212</td>\n",
              "      <td>Movie</td>\n",
              "      <td>Ragini MMS 2</td>\n",
              "      <td>Bhushan Patel</td>\n",
              "      <td>Sunny Leone, Saahil Prem, Parvin Dabas, Sandhy...</td>\n",
              "      <td>India</td>\n",
              "      <td>August 27, 2021</td>\n",
              "      <td>2014</td>\n",
              "      <td>TV-MA</td>\n",
              "      <td>113 min</td>\n",
              "      <td>Horror Movies, International Movies</td>\n",
              "      <td>The horror continues when Ragini's video goes ...</td>\n",
              "      <td>2021-08-27</td>\n",
              "      <td>2021</td>\n",
              "      <td>8</td>\n",
              "      <td>August</td>\n",
              "      <td>&lt;NA&gt;</td>\n",
              "      <td>113</td>\n",
              "      <td>True</td>\n",
              "    </tr>\n",
              "    <tr>\n",
              "      <th>229</th>\n",
              "      <td>s230</td>\n",
              "      <td>Movie</td>\n",
              "      <td>The Old Ways</td>\n",
              "      <td>Christopher Alender</td>\n",
              "      <td>Brigitte Kali Canales, Andrea Cortes, Julia Ve...</td>\n",
              "      <td>United States</td>\n",
              "      <td>August 25, 2021</td>\n",
              "      <td>2020</td>\n",
              "      <td>TV-MA</td>\n",
              "      <td>90 min</td>\n",
              "      <td>Horror Movies</td>\n",
              "      <td>A reporter visits her birthplace in Veracruz f...</td>\n",
              "      <td>2021-08-25</td>\n",
              "      <td>2021</td>\n",
              "      <td>8</td>\n",
              "      <td>August</td>\n",
              "      <td>&lt;NA&gt;</td>\n",
              "      <td>90</td>\n",
              "      <td>True</td>\n",
              "    </tr>\n",
              "    <tr>\n",
              "      <th>236</th>\n",
              "      <td>s237</td>\n",
              "      <td>Movie</td>\n",
              "      <td>Boomika</td>\n",
              "      <td>Rathindran R Prasad</td>\n",
              "      <td>Aishwarya Rajesh, Vidhu, Surya Ganapathy, Madh...</td>\n",
              "      <td>unknown</td>\n",
              "      <td>August 23, 2021</td>\n",
              "      <td>2021</td>\n",
              "      <td>TV-14</td>\n",
              "      <td>122 min</td>\n",
              "      <td>Horror Movies, International Movies, Thrillers</td>\n",
              "      <td>Paranormal activity at a lush, abandoned prope...</td>\n",
              "      <td>2021-08-23</td>\n",
              "      <td>2021</td>\n",
              "      <td>8</td>\n",
              "      <td>August</td>\n",
              "      <td>&lt;NA&gt;</td>\n",
              "      <td>122</td>\n",
              "      <td>True</td>\n",
              "    </tr>\n",
              "    <tr>\n",
              "      <th>237</th>\n",
              "      <td>s238</td>\n",
              "      <td>Movie</td>\n",
              "      <td>Boomika (Hindi)</td>\n",
              "      <td>Rathindran R Prasad</td>\n",
              "      <td>Aishwarya Rajesh, Vidhu, Surya Ganapathy, Madh...</td>\n",
              "      <td>unknown</td>\n",
              "      <td>August 23, 2021</td>\n",
              "      <td>2021</td>\n",
              "      <td>TV-14</td>\n",
              "      <td>122 min</td>\n",
              "      <td>Horror Movies, International Movies, Thrillers</td>\n",
              "      <td>Paranormal activity at a lush, abandoned prope...</td>\n",
              "      <td>2021-08-23</td>\n",
              "      <td>2021</td>\n",
              "      <td>8</td>\n",
              "      <td>August</td>\n",
              "      <td>&lt;NA&gt;</td>\n",
              "      <td>122</td>\n",
              "      <td>True</td>\n",
              "    </tr>\n",
              "  </tbody>\n",
              "</table>\n",
              "</div>"
            ],
            "text/plain": [
              "    show_id   type              title             director  \\\n",
              "28      s29  Movie         Dark Skies        Scott Stewart   \n",
              "42      s43  Movie             Jaws 2       Jeannot Szwarc   \n",
              "43      s44  Movie             Jaws 3            Joe Alves   \n",
              "44      s45  Movie  Jaws: The Revenge       Joseph Sargent   \n",
              "200    s201  Movie    Krishna Cottage        Santram Varma   \n",
              "210    s211  Movie         Ragini MMS      Pawan Kripalani   \n",
              "211    s212  Movie       Ragini MMS 2        Bhushan Patel   \n",
              "229    s230  Movie       The Old Ways  Christopher Alender   \n",
              "236    s237  Movie            Boomika  Rathindran R Prasad   \n",
              "237    s238  Movie    Boomika (Hindi)  Rathindran R Prasad   \n",
              "\n",
              "                                                  cast        country  \\\n",
              "28   Keri Russell, Josh Hamilton, J.K. Simmons, Dak...  United States   \n",
              "42   Roy Scheider, Lorraine Gary, Murray Hamilton, ...  United States   \n",
              "43   Dennis Quaid, Bess Armstrong, Simon MacCorkind...  United States   \n",
              "44   Lorraine Gary, Lance Guest, Mario Van Peebles,...  United States   \n",
              "200  Sohail Khan, Isha Koppikar, Natassha, Rati Agn...          India   \n",
              "210  Kainaz Motivala, Rajkummar Rao, Rajat Kaul, Ja...          India   \n",
              "211  Sunny Leone, Saahil Prem, Parvin Dabas, Sandhy...          India   \n",
              "229  Brigitte Kali Canales, Andrea Cortes, Julia Ve...  United States   \n",
              "236  Aishwarya Rajesh, Vidhu, Surya Ganapathy, Madh...        unknown   \n",
              "237  Aishwarya Rajesh, Vidhu, Surya Ganapathy, Madh...        unknown   \n",
              "\n",
              "             date_added  release_year rating duration  \\\n",
              "28   September 19, 2021          2013  PG-13   97 min   \n",
              "42   September 16, 2021          1978     PG  116 min   \n",
              "43   September 16, 2021          1983     PG   98 min   \n",
              "44   September 16, 2021          1987  PG-13   91 min   \n",
              "200     August 27, 2021          2004  TV-14  124 min   \n",
              "210     August 27, 2021          2011  TV-MA   93 min   \n",
              "211     August 27, 2021          2014  TV-MA  113 min   \n",
              "229     August 25, 2021          2020  TV-MA   90 min   \n",
              "236     August 23, 2021          2021  TV-14  122 min   \n",
              "237     August 23, 2021          2021  TV-14  122 min   \n",
              "\n",
              "                                             listed_in  \\\n",
              "28                     Horror Movies, Sci-Fi & Fantasy   \n",
              "42                    Dramas, Horror Movies, Thrillers   \n",
              "43        Action & Adventure, Horror Movies, Thrillers   \n",
              "44        Action & Adventure, Horror Movies, Thrillers   \n",
              "200  Action & Adventure, Horror Movies, Internation...   \n",
              "210                Horror Movies, International Movies   \n",
              "211                Horror Movies, International Movies   \n",
              "229                                      Horror Movies   \n",
              "236     Horror Movies, International Movies, Thrillers   \n",
              "237     Horror Movies, International Movies, Thrillers   \n",
              "\n",
              "                                           description date_added_cleaned  \\\n",
              "28   A family’s idyllic suburban life shatters when...         2021-09-19   \n",
              "42   Four years after the last deadly shark attacks...         2021-09-16   \n",
              "43   After the staff of a marine theme park try to ...         2021-09-16   \n",
              "44   After another deadly shark attack, Ellen Brody...         2021-09-16   \n",
              "200  True love is put to the test when another woma...         2021-08-27   \n",
              "210  A couple out to have a sensuous weekend at a h...         2021-08-27   \n",
              "211  The horror continues when Ragini's video goes ...         2021-08-27   \n",
              "229  A reporter visits her birthplace in Veracruz f...         2021-08-25   \n",
              "236  Paranormal activity at a lush, abandoned prope...         2021-08-23   \n",
              "237  Paranormal activity at a lush, abandoned prope...         2021-08-23   \n",
              "\n",
              "     year_added  month_added month_name  season_count  duration_cleaned  \\\n",
              "28         2021            9  September          <NA>                97   \n",
              "42         2021            9  September          <NA>               116   \n",
              "43         2021            9  September          <NA>                98   \n",
              "44         2021            9  September          <NA>                91   \n",
              "200        2021            8     August          <NA>               124   \n",
              "210        2021            8     August          <NA>                93   \n",
              "211        2021            8     August          <NA>               113   \n",
              "229        2021            8     August          <NA>                90   \n",
              "236        2021            8     August          <NA>               122   \n",
              "237        2021            8     August          <NA>               122   \n",
              "\n",
              "     is_horror  \n",
              "28        True  \n",
              "42        True  \n",
              "43        True  \n",
              "44        True  \n",
              "200       True  \n",
              "210       True  \n",
              "211       True  \n",
              "229       True  \n",
              "236       True  \n",
              "237       True  "
            ]
          },
          "execution_count": 131,
          "metadata": {},
          "output_type": "execute_result"
        }
      ],
      "source": [
        "# get 10 movies that contains the word horror\n",
        "df[(df['type'] == 'Movie') & (df['is_horror'] == 1)].head(10)"
      ]
    },
    {
      "cell_type": "code",
      "execution_count": null,
      "id": "7f6a6247",
      "metadata": {
        "id": "7f6a6247",
        "outputId": "a88c669e-4403-4aa7-9531-19e34759743b"
      },
      "outputs": [
        {
          "data": {
            "text/html": [
              "<div>\n",
              "<style scoped>\n",
              "    .dataframe tbody tr th:only-of-type {\n",
              "        vertical-align: middle;\n",
              "    }\n",
              "\n",
              "    .dataframe tbody tr th {\n",
              "        vertical-align: top;\n",
              "    }\n",
              "\n",
              "    .dataframe thead th {\n",
              "        text-align: right;\n",
              "    }\n",
              "</style>\n",
              "<table border=\"1\" class=\"dataframe\">\n",
              "  <thead>\n",
              "    <tr style=\"text-align: right;\">\n",
              "      <th></th>\n",
              "      <th>show_id</th>\n",
              "      <th>type</th>\n",
              "      <th>title</th>\n",
              "      <th>director</th>\n",
              "      <th>cast</th>\n",
              "      <th>country</th>\n",
              "      <th>date_added</th>\n",
              "      <th>release_year</th>\n",
              "      <th>rating</th>\n",
              "      <th>duration</th>\n",
              "      <th>listed_in</th>\n",
              "      <th>description</th>\n",
              "      <th>date_added_cleaned</th>\n",
              "      <th>year_added</th>\n",
              "      <th>month_added</th>\n",
              "      <th>month_name</th>\n",
              "      <th>season_count</th>\n",
              "      <th>duration_cleaned</th>\n",
              "      <th>is_horror</th>\n",
              "    </tr>\n",
              "  </thead>\n",
              "  <tbody>\n",
              "    <tr>\n",
              "      <th>4253</th>\n",
              "      <td>s4254</td>\n",
              "      <td>Movie</td>\n",
              "      <td>Black Mirror: Bandersnatch</td>\n",
              "      <td>unknown</td>\n",
              "      <td>Fionn Whitehead, Will Poulter, Craig Parkinson...</td>\n",
              "      <td>United States</td>\n",
              "      <td>December 28, 2018</td>\n",
              "      <td>2018</td>\n",
              "      <td>TV-MA</td>\n",
              "      <td>312 min</td>\n",
              "      <td>Dramas, International Movies, Sci-Fi &amp; Fantasy</td>\n",
              "      <td>In 1984, a young programmer begins to question...</td>\n",
              "      <td>2018-12-28</td>\n",
              "      <td>2018</td>\n",
              "      <td>12</td>\n",
              "      <td>December</td>\n",
              "      <td>&lt;NA&gt;</td>\n",
              "      <td>312</td>\n",
              "      <td>False</td>\n",
              "    </tr>\n",
              "  </tbody>\n",
              "</table>\n",
              "</div>"
            ],
            "text/plain": [
              "     show_id   type                       title director  \\\n",
              "4253   s4254  Movie  Black Mirror: Bandersnatch  unknown   \n",
              "\n",
              "                                                   cast        country  \\\n",
              "4253  Fionn Whitehead, Will Poulter, Craig Parkinson...  United States   \n",
              "\n",
              "             date_added  release_year rating duration  \\\n",
              "4253  December 28, 2018          2018  TV-MA  312 min   \n",
              "\n",
              "                                           listed_in  \\\n",
              "4253  Dramas, International Movies, Sci-Fi & Fantasy   \n",
              "\n",
              "                                            description date_added_cleaned  \\\n",
              "4253  In 1984, a young programmer begins to question...         2018-12-28   \n",
              "\n",
              "      year_added  month_added month_name  season_count  duration_cleaned  \\\n",
              "4253        2018           12   December          <NA>               312   \n",
              "\n",
              "      is_horror  \n",
              "4253      False  "
            ]
          },
          "execution_count": 132,
          "metadata": {},
          "output_type": "execute_result"
        }
      ],
      "source": [
        "# get longest movie\n",
        "max_duration = max(df.loc[~(df['duration_cleaned'].isna()), 'duration_cleaned'])\n",
        "df[df['duration_cleaned'] == max_duration]"
      ]
    },
    {
      "cell_type": "code",
      "execution_count": null,
      "id": "405dc479",
      "metadata": {
        "id": "405dc479"
      },
      "outputs": [],
      "source": [
        "df_agg = pd.pivot_table(df,\n",
        "              index='country',\n",
        "              columns='type',\n",
        "              values='show_id',\n",
        "              aggfunc='count',\n",
        "              fill_value=0,\n",
        "              #margins=True\n",
        "              )"
      ]
    },
    {
      "cell_type": "code",
      "execution_count": null,
      "id": "083da375",
      "metadata": {
        "id": "083da375"
      },
      "outputs": [],
      "source": [
        "df_agg['All'] = df_agg['Movie'] + df_agg['TV Show']"
      ]
    },
    {
      "cell_type": "code",
      "execution_count": null,
      "id": "dc06d0e0",
      "metadata": {
        "id": "dc06d0e0",
        "outputId": "39448298-c6ab-4ba7-e1f4-6bc6d3f708f4"
      },
      "outputs": [
        {
          "data": {
            "text/html": [
              "<div>\n",
              "<style scoped>\n",
              "    .dataframe tbody tr th:only-of-type {\n",
              "        vertical-align: middle;\n",
              "    }\n",
              "\n",
              "    .dataframe tbody tr th {\n",
              "        vertical-align: top;\n",
              "    }\n",
              "\n",
              "    .dataframe thead th {\n",
              "        text-align: right;\n",
              "    }\n",
              "</style>\n",
              "<table border=\"1\" class=\"dataframe\">\n",
              "  <thead>\n",
              "    <tr style=\"text-align: right;\">\n",
              "      <th>type</th>\n",
              "      <th>Movie</th>\n",
              "      <th>TV Show</th>\n",
              "      <th>All</th>\n",
              "    </tr>\n",
              "    <tr>\n",
              "      <th>country</th>\n",
              "      <th></th>\n",
              "      <th></th>\n",
              "      <th></th>\n",
              "    </tr>\n",
              "  </thead>\n",
              "  <tbody>\n",
              "    <tr>\n",
              "      <th>United States</th>\n",
              "      <td>2058</td>\n",
              "      <td>760</td>\n",
              "      <td>2818</td>\n",
              "    </tr>\n",
              "    <tr>\n",
              "      <th>India</th>\n",
              "      <td>893</td>\n",
              "      <td>79</td>\n",
              "      <td>972</td>\n",
              "    </tr>\n",
              "    <tr>\n",
              "      <th>unknown</th>\n",
              "      <td>440</td>\n",
              "      <td>391</td>\n",
              "      <td>831</td>\n",
              "    </tr>\n",
              "    <tr>\n",
              "      <th>United Kingdom</th>\n",
              "      <td>206</td>\n",
              "      <td>213</td>\n",
              "      <td>419</td>\n",
              "    </tr>\n",
              "    <tr>\n",
              "      <th>Japan</th>\n",
              "      <td>76</td>\n",
              "      <td>169</td>\n",
              "      <td>245</td>\n",
              "    </tr>\n",
              "    <tr>\n",
              "      <th>South Korea</th>\n",
              "      <td>41</td>\n",
              "      <td>158</td>\n",
              "      <td>199</td>\n",
              "    </tr>\n",
              "    <tr>\n",
              "      <th>Canada</th>\n",
              "      <td>122</td>\n",
              "      <td>59</td>\n",
              "      <td>181</td>\n",
              "    </tr>\n",
              "    <tr>\n",
              "      <th>Spain</th>\n",
              "      <td>97</td>\n",
              "      <td>48</td>\n",
              "      <td>145</td>\n",
              "    </tr>\n",
              "    <tr>\n",
              "      <th>France</th>\n",
              "      <td>75</td>\n",
              "      <td>49</td>\n",
              "      <td>124</td>\n",
              "    </tr>\n",
              "    <tr>\n",
              "      <th>Mexico</th>\n",
              "      <td>70</td>\n",
              "      <td>40</td>\n",
              "      <td>110</td>\n",
              "    </tr>\n",
              "  </tbody>\n",
              "</table>\n",
              "</div>"
            ],
            "text/plain": [
              "type            Movie  TV Show   All\n",
              "country                             \n",
              "United States    2058      760  2818\n",
              "India             893       79   972\n",
              "unknown           440      391   831\n",
              "United Kingdom    206      213   419\n",
              "Japan              76      169   245\n",
              "South Korea        41      158   199\n",
              "Canada            122       59   181\n",
              "Spain              97       48   145\n",
              "France             75       49   124\n",
              "Mexico             70       40   110"
            ]
          },
          "execution_count": 135,
          "metadata": {},
          "output_type": "execute_result"
        }
      ],
      "source": [
        "df_agg.sort_values(by=['All'], ascending=False).head(10)"
      ]
    },
    {
      "cell_type": "code",
      "execution_count": null,
      "id": "313b51a0",
      "metadata": {
        "id": "313b51a0"
      },
      "outputs": [],
      "source": []
    },
    {
      "cell_type": "code",
      "execution_count": null,
      "id": "c74cfc38",
      "metadata": {
        "id": "c74cfc38",
        "outputId": "fcf5a53b-64f8-4a76-a1f3-32f695eef572"
      },
      "outputs": [
        {
          "data": {
            "text/plain": [
              "(1147, 19)"
            ]
          },
          "execution_count": 136,
          "metadata": {},
          "output_type": "execute_result"
        }
      ],
      "source": [
        "# find the number of movies released on 2018\n",
        "df[df['release_year'] == 2018].shape"
      ]
    },
    {
      "cell_type": "code",
      "execution_count": null,
      "id": "f3182277",
      "metadata": {
        "id": "f3182277",
        "outputId": "2b91799b-b592-4de6-8447-38d9e272e087"
      },
      "outputs": [
        {
          "data": {
            "text/plain": [
              "['Documentaries',\n",
              " 'International TV Shows, TV Dramas, TV Mysteries',\n",
              " 'Crime TV Shows, International TV Shows, TV Action & Adventure',\n",
              " 'Docuseries, Reality TV',\n",
              " 'International TV Shows, Romantic TV Shows, TV Comedies',\n",
              " 'TV Dramas, TV Horror, TV Mysteries',\n",
              " 'Children & Family Movies',\n",
              " 'Dramas, Independent Movies, International Movies',\n",
              " 'British TV Shows, Reality TV',\n",
              " 'Comedies, Dramas',\n",
              " 'Crime TV Shows, Docuseries, International TV Shows',\n",
              " 'Crime TV Shows, International TV Shows, TV Action & Adventure',\n",
              " 'Dramas, International Movies',\n",
              " 'Children & Family Movies, Comedies',\n",
              " 'British TV Shows, Crime TV Shows, Docuseries',\n",
              " 'TV Comedies, TV Dramas',\n",
              " 'Documentaries, International Movies',\n",
              " 'Crime TV Shows, Spanish-Language TV Shows, TV Dramas',\n",
              " 'Thrillers',\n",
              " 'International TV Shows, Spanish-Language TV Shows, TV Action & Adventure',\n",
              " 'Crime TV Shows, Docuseries, International TV Shows',\n",
              " 'International TV Shows, TV Action & Adventure, TV Dramas',\n",
              " 'Comedies, International Movies',\n",
              " 'Children & Family Movies',\n",
              " 'Comedies, International Movies, Romantic Movies',\n",
              " 'Docuseries, International TV Shows, Reality TV',\n",
              " 'Comedies, International Movies, Music & Musicals',\n",
              " 'Comedies',\n",
              " 'Horror Movies, Sci-Fi & Fantasy',\n",
              " 'Thrillers',\n",
              " 'Dramas, Independent Movies, International Movies',\n",
              " 'TV Comedies',\n",
              " 'British TV Shows, International TV Shows, TV Comedies',\n",
              " 'International TV Shows, TV Dramas, TV Thrillers',\n",
              " \"Kids' TV\",\n",
              " 'Dramas, International Movies, Thrillers',\n",
              " 'Action & Adventure, Dramas, International Movies',\n",
              " \"Kids' TV, TV Comedies\",\n",
              " 'Action & Adventure, Dramas',\n",
              " \"Kids' TV\",\n",
              " \"Kids' TV, TV Sci-Fi & Fantasy\",\n",
              " 'Action & Adventure, Classic Movies, Dramas',\n",
              " 'Dramas, Horror Movies, Thrillers',\n",
              " 'Action & Adventure, Horror Movies, Thrillers',\n",
              " 'Action & Adventure, Horror Movies, Thrillers',\n",
              " 'Documentaries',\n",
              " 'Action & Adventure',\n",
              " 'International TV Shows, Romantic TV Shows, TV Comedies',\n",
              " 'Dramas, Thrillers',\n",
              " 'International TV Shows, TV Dramas',\n",
              " 'International TV Shows, TV Dramas, TV Sci-Fi & Fantasy',\n",
              " 'Action & Adventure, Anime Features, International Movies',\n",
              " 'Action & Adventure, Anime Features, International Movies',\n",
              " 'Action & Adventure, Anime Features, International Movies',\n",
              " 'Action & Adventure, Anime Features, International Movies',\n",
              " 'Reality TV',\n",
              " 'Action & Adventure, Anime Features, International Movies',\n",
              " 'Action & Adventure, Anime Features, International Movies',\n",
              " 'Action & Adventure, Anime Features, International Movies',\n",
              " 'Action & Adventure, Anime Features, International Movies',\n",
              " 'Action & Adventure, Anime Features, International Movies',\n",
              " 'Action & Adventure, Anime Features, International Movies',\n",
              " 'Action & Adventure, Anime Features, International Movies',\n",
              " 'Action & Adventure, Anime Features, International Movies',\n",
              " 'Children & Family Movies',\n",
              " \"Kids' TV\",\n",
              " 'Docuseries, International TV Shows',\n",
              " \"Kids' TV, TV Comedies\",\n",
              " 'Documentaries, International Movies, Sports Movies',\n",
              " 'International TV Shows, TV Dramas',\n",
              " 'International TV Shows, Reality TV, Romantic TV Shows',\n",
              " 'Children & Family Movies',\n",
              " 'British TV Shows, Docuseries, International TV Shows',\n",
              " 'Dramas, International Movies',\n",
              " 'Reality TV',\n",
              " 'Children & Family Movies',\n",
              " 'Anime Series, International TV Shows',\n",
              " 'Children & Family Movies, Comedies',\n",
              " 'Comedies, Dramas, International Movies',\n",
              " 'Comedies, Dramas, International Movies',\n",
              " 'Children & Family Movies',\n",
              " 'Action & Adventure',\n",
              " 'Crime TV Shows, TV Comedies, TV Dramas',\n",
              " 'Reality TV',\n",
              " 'Action & Adventure, Comedies, Dramas',\n",
              " \"Anime Series, Kids' TV\",\n",
              " 'International Movies, Thrillers',\n",
              " \"Kids' TV, Korean TV Shows\",\n",
              " 'Documentaries, Sports Movies',\n",
              " \"Kids' TV\",\n",
              " 'Sci-Fi & Fantasy, Thrillers',\n",
              " 'Documentaries, International Movies',\n",
              " 'International TV Shows, TV Dramas, TV Mysteries',\n",
              " 'Dramas, International Movies, Romantic Movies',\n",
              " 'Children & Family Movies, Comedies',\n",
              " 'Reality TV',\n",
              " 'Documentaries, Music & Musicals',\n",
              " \"Kids' TV, TV Comedies, TV Sci-Fi & Fantasy\",\n",
              " \"British TV Shows, Kids' TV\",\n",
              " 'TV Comedies, TV Dramas',\n",
              " \"Kids' TV\",\n",
              " 'Documentaries, Sports Movies',\n",
              " 'Docuseries, Science & Nature TV',\n",
              " 'Dramas, International Movies, Thrillers',\n",
              " \"Kids' TV, Korean TV Shows\",\n",
              " 'Action & Adventure, Comedies, Dramas',\n",
              " \"Kids' TV, TV Comedies\",\n",
              " 'Children & Family Movies, Dramas',\n",
              " \"Kids' TV, TV Dramas, Teen TV Shows\",\n",
              " 'Crime TV Shows, International TV Shows, Spanish-Language TV Shows',\n",
              " 'Docuseries, International TV Shows, Spanish-Language TV Shows',\n",
              " \"Kids' TV\",\n",
              " 'Dramas',\n",
              " 'Comedies, Romantic Movies',\n",
              " 'Dramas, International Movies, Thrillers',\n",
              " 'Dramas, Romantic Movies',\n",
              " 'Comedies, Dramas, Independent Movies',\n",
              " 'Documentaries',\n",
              " 'Dramas, International Movies, Thrillers',\n",
              " 'Dramas, International Movies, Romantic Movies',\n",
              " \"Kids' TV, TV Comedies\",\n",
              " 'International TV Shows, Romantic TV Shows, TV Comedies',\n",
              " 'Thrillers',\n",
              " \"Kids' TV\",\n",
              " \"Kids' TV, Korean TV Shows\",\n",
              " 'Crime TV Shows, TV Action & Adventure, TV Comedies',\n",
              " 'Dramas, International Movies, Romantic Movies',\n",
              " 'Children & Family Movies, Comedies',\n",
              " 'Dramas, International Movies, Thrillers',\n",
              " 'Dramas',\n",
              " 'Children & Family Movies, Music & Musicals',\n",
              " 'Action & Adventure, Classic Movies, Cult Movies',\n",
              " 'International TV Shows, TV Action & Adventure, TV Comedies',\n",
              " 'Action & Adventure, Sci-Fi & Fantasy',\n",
              " 'Action & Adventure, Dramas',\n",
              " 'Action & Adventure',\n",
              " 'Dramas, Romantic Movies',\n",
              " 'Action & Adventure, Comedies',\n",
              " 'Dramas, Romantic Movies',\n",
              " 'Classic Movies, Comedies, Dramas',\n",
              " 'Dramas, International Movies, Thrillers',\n",
              " 'Action & Adventure',\n",
              " 'Dramas',\n",
              " 'Action & Adventure, Sci-Fi & Fantasy',\n",
              " 'Comedies, Cult Movies',\n",
              " 'Comedies, Cult Movies, Music & Musicals',\n",
              " 'Comedies, Music & Musicals',\n",
              " 'Reality TV',\n",
              " 'TV Shows',\n",
              " 'Action & Adventure, Comedies',\n",
              " 'Thrillers',\n",
              " 'Action & Adventure, International Movies',\n",
              " 'Comedies',\n",
              " \"Kids' TV\",\n",
              " 'Anime Series, International TV Shows, Teen TV Shows',\n",
              " 'Action & Adventure, Children & Family Movies, Cult Movies',\n",
              " 'Comedies, Dramas, Romantic Movies',\n",
              " 'Sci-Fi & Fantasy, Thrillers',\n",
              " 'Comedies, Romantic Movies',\n",
              " 'Comedies, Dramas, International Movies',\n",
              " 'TV Comedies',\n",
              " 'Comedies, Cult Movies, Sci-Fi & Fantasy',\n",
              " 'Dramas',\n",
              " 'Comedies, Romantic Movies',\n",
              " 'Action & Adventure, Comedies',\n",
              " 'Crime TV Shows, International TV Shows, Spanish-Language TV Shows',\n",
              " 'Classic Movies, Dramas',\n",
              " 'Children & Family Movies, Comedies',\n",
              " 'Action & Adventure, Children & Family Movies, Comedies',\n",
              " 'Action & Adventure, Dramas',\n",
              " 'Documentaries, Music & Musicals',\n",
              " 'Dramas, Faith & Spirituality',\n",
              " 'Comedies, Music & Musicals',\n",
              " 'Documentaries, LGBTQ Movies',\n",
              " 'Action & Adventure, Dramas',\n",
              " 'Dramas, Romantic Movies',\n",
              " 'Action & Adventure, Comedies',\n",
              " 'Action & Adventure, Classic Movies',\n",
              " 'Action & Adventure, Comedies',\n",
              " 'Comedies, Romantic Movies',\n",
              " 'Comedies, Romantic Movies',\n",
              " 'Docuseries',\n",
              " 'Comedies',\n",
              " 'Action & Adventure, Classic Movies',\n",
              " 'Reality TV',\n",
              " 'Documentaries, Sports Movies',\n",
              " 'International TV Shows, Romantic TV Shows, TV Comedies',\n",
              " 'International TV Shows, TV Comedies',\n",
              " 'Comedies, International Movies',\n",
              " \"Kids' TV, TV Comedies\",\n",
              " 'Dramas, International Movies',\n",
              " 'Dramas, Independent Movies',\n",
              " 'Action & Adventure, Comedies, International Movies',\n",
              " 'International TV Shows, TV Dramas',\n",
              " 'International TV Shows, Spanish-Language TV Shows, TV Dramas',\n",
              " 'Comedies, Dramas, International Movies',\n",
              " 'Comedies, Romantic Movies',\n",
              " \"Kids' TV, TV Comedies\",\n",
              " 'Crime TV Shows, International TV Shows, TV Dramas',\n",
              " 'Comedies, Dramas, International Movies',\n",
              " 'Action & Adventure, Horror Movies, International Movies',\n",
              " 'Dramas, International Movies, Thrillers',\n",
              " 'Comedies, International Movies, Music & Musicals',\n",
              " 'Comedies, International Movies',\n",
              " 'Comedies, International Movies',\n",
              " 'Comedies, International Movies, Sci-Fi & Fantasy',\n",
              " 'Dramas, Independent Movies, International Movies',\n",
              " 'Action & Adventure, International Movies, Music & Musicals',\n",
              " 'Dramas, International Movies, Music & Musicals',\n",
              " 'Dramas, International Movies, Music & Musicals',\n",
              " 'Horror Movies, International Movies',\n",
              " 'Horror Movies, International Movies',\n",
              " 'International TV Shows, TV Dramas',\n",
              " 'Docuseries, International TV Shows',\n",
              " 'Action & Adventure, International Movies',\n",
              " 'Action & Adventure, Dramas, International Movies',\n",
              " 'Comedies, Dramas, Independent Movies',\n",
              " 'Comedies, Dramas, International Movies',\n",
              " 'Reality TV, Teen TV Shows',\n",
              " 'Anime Series, International TV Shows',\n",
              " \"Kids' TV, TV Comedies\",\n",
              " 'Documentaries',\n",
              " 'Crime TV Shows, TV Dramas, TV Mysteries',\n",
              " 'Crime TV Shows, Docuseries, International TV Shows',\n",
              " 'International TV Shows, Reality TV',\n",
              " 'International TV Shows, TV Dramas, TV Mysteries',\n",
              " 'International TV Shows, TV Comedies, TV Dramas',\n",
              " 'Dramas, Independent Movies, Romantic Movies',\n",
              " 'Action & Adventure',\n",
              " 'Horror Movies',\n",
              " 'Documentaries, Sports Movies',\n",
              " 'Children & Family Movies, Dramas',\n",
              " 'Reality TV',\n",
              " 'Documentaries, Music & Musicals',\n",
              " \"Kids' TV, TV Comedies\",\n",
              " 'Documentaries, LGBTQ Movies, Sports Movies',\n",
              " 'Horror Movies, International Movies, Thrillers',\n",
              " 'Horror Movies, International Movies, Thrillers',\n",
              " 'Horror Movies, International Movies, Thrillers',\n",
              " 'Horror Movies, International Movies, Thrillers',\n",
              " 'Action & Adventure, Anime Features',\n",
              " 'TV Dramas, TV Mysteries, TV Sci-Fi & Fantasy',\n",
              " 'International TV Shows, TV Comedies',\n",
              " 'International TV Shows, Spanish-Language TV Shows, TV Comedies',\n",
              " 'Dramas, International Movies, Thrillers',\n",
              " 'Docuseries, International TV Shows',\n",
              " 'Dramas, International Movies, Romantic Movies',\n",
              " 'Action & Adventure, Dramas',\n",
              " 'TV Comedies, TV Dramas',\n",
              " 'Children & Family Movies, Comedies, Music & Musicals',\n",
              " 'Dramas, International Movies, Romantic Movies',\n",
              " 'Dramas, Independent Movies, Romantic Movies',\n",
              " 'International Movies, Thrillers',\n",
              " 'Dramas, International Movies, Romantic Movies',\n",
              " \"Kids' TV\",\n",
              " 'Documentaries, International Movies',\n",
              " 'Dramas, International Movies',\n",
              " 'Dramas, International Movies, Romantic Movies',\n",
              " 'Comedies, Dramas, International Movies',\n",
              " 'Comedies, Dramas, International Movies',\n",
              " 'Crime TV Shows, International TV Shows, TV Dramas',\n",
              " 'Comedies, International Movies, Romantic Movies',\n",
              " 'Documentaries, LGBTQ Movies, Sports Movies',\n",
              " \"Kids' TV\",\n",
              " 'Comedies, Independent Movies',\n",
              " 'Anime Series, International TV Shows, Romantic TV Shows',\n",
              " 'Docuseries, International TV Shows',\n",
              " 'Classic Movies, Dramas, Independent Movies',\n",
              " 'Dramas, International Movies',\n",
              " \"Kids' TV\",\n",
              " 'Action & Adventure',\n",
              " 'TV Dramas, TV Horror, TV Mysteries',\n",
              " \"Kids' TV\",\n",
              " 'Crime TV Shows, International TV Shows, TV Dramas',\n",
              " 'TV Comedies, TV Dramas',\n",
              " 'Crime TV Shows, International TV Shows, Spanish-Language TV Shows',\n",
              " 'International TV Shows, Romantic TV Shows, Spanish-Language TV Shows',\n",
              " 'International TV Shows, TV Dramas, Teen TV Shows',\n",
              " 'Stand-Up Comedy',\n",
              " 'Action & Adventure, Anime Features, Children & Family Movies',\n",
              " 'Reality TV',\n",
              " 'Comedies, International Movies',\n",
              " 'Dramas, Independent Movies, International Movies',\n",
              " 'Documentaries, International Movies',\n",
              " 'Comedies, Romantic Movies',\n",
              " 'Dramas, International Movies',\n",
              " \"Kids' TV\",\n",
              " 'International TV Shows, Romantic TV Shows, TV Comedies',\n",
              " 'Crime TV Shows, International TV Shows, Spanish-Language TV Shows',\n",
              " 'International TV Shows, Romantic TV Shows, TV Dramas',\n",
              " 'Documentaries, Sports Movies',\n",
              " 'Anime Series, International TV Shows',\n",
              " 'Comedies, Dramas, Independent Movies',\n",
              " 'Comedies, International Movies, Romantic Movies',\n",
              " 'International Movies, Music & Musicals',\n",
              " 'Action & Adventure, Comedies',\n",
              " 'TV Action & Adventure, TV Dramas, TV Mysteries',\n",
              " 'TV Shows',\n",
              " 'Comedies, Dramas, International Movies',\n",
              " 'Horror Movies, Independent Movies, International Movies',\n",
              " 'Children & Family Movies, Music & Musicals',\n",
              " 'Action & Adventure, Comedies, International Movies',\n",
              " 'Documentaries, International Movies',\n",
              " 'Comedies, Cult Movies, International Movies',\n",
              " 'Documentaries',\n",
              " 'Classic Movies, Dramas, International Movies',\n",
              " 'Dramas, International Movies',\n",
              " 'Horror Movies',\n",
              " 'Movies',\n",
              " 'Reality TV',\n",
              " 'Crime TV Shows, Docuseries',\n",
              " 'International TV Shows, Spanish-Language TV Shows, TV Dramas',\n",
              " 'Reality TV',\n",
              " 'International TV Shows, Romantic TV Shows, TV Dramas',\n",
              " 'Dramas, Independent Movies, Romantic Movies',\n",
              " 'Dramas, International Movies',\n",
              " 'International TV Shows, Romantic TV Shows, TV Comedies',\n",
              " 'Documentaries, LGBTQ Movies',\n",
              " 'Documentaries, International Movies',\n",
              " 'International TV Shows, Romantic TV Shows, TV Comedies',\n",
              " 'Docuseries',\n",
              " 'International TV Shows, Romantic TV Shows, TV Comedies',\n",
              " 'International TV Shows, Romantic TV Shows, TV Comedies',\n",
              " 'TV Comedies',\n",
              " \"Kids' TV\",\n",
              " 'Children & Family Movies, Comedies',\n",
              " 'Children & Family Movies, Comedies',\n",
              " 'Action & Adventure, Sci-Fi & Fantasy',\n",
              " 'Action & Adventure',\n",
              " 'Dramas',\n",
              " 'Children & Family Movies, Comedies, Sci-Fi & Fantasy',\n",
              " 'Anime Series, International TV Shows, TV Thrillers',\n",
              " 'Action & Adventure, Horror Movies, Sci-Fi & Fantasy',\n",
              " 'Classic Movies, Comedies, Cult Movies',\n",
              " 'Dramas, Romantic Movies',\n",
              " 'Dramas, Thrillers',\n",
              " 'TV Dramas, Teen TV Shows',\n",
              " 'Comedies, Romantic Movies',\n",
              " 'Anime Series, International TV Shows',\n",
              " 'Dramas, Independent Movies, International Movies',\n",
              " 'Action & Adventure, Sci-Fi & Fantasy, Thrillers',\n",
              " 'Dramas, Independent Movies',\n",
              " 'Comedies',\n",
              " 'Dramas',\n",
              " 'Children & Family Movies, Comedies, Dramas',\n",
              " 'Children & Family Movies, Comedies',\n",
              " 'Action & Adventure, Comedies',\n",
              " 'Children & Family Movies, Comedies, Sci-Fi & Fantasy',\n",
              " 'Comedies',\n",
              " 'Dramas, Sports Movies',\n",
              " 'Action & Adventure, Dramas, Sci-Fi & Fantasy',\n",
              " 'Action & Adventure, Comedies, Cult Movies',\n",
              " 'Comedies, Dramas',\n",
              " 'Horror Movies',\n",
              " 'Action & Adventure, Comedies',\n",
              " 'Dramas, Thrillers',\n",
              " 'Action & Adventure',\n",
              " 'Dramas, Independent Movies, Thrillers',\n",
              " 'Thrillers',\n",
              " 'Stand-Up Comedy',\n",
              " 'Comedies, Romantic Movies',\n",
              " 'TV Dramas, TV Sci-Fi & Fantasy',\n",
              " 'Dramas, International Movies',\n",
              " 'Action & Adventure, International Movies, Thrillers',\n",
              " \"Kids' TV, TV Comedies\",\n",
              " 'Dramas, Independent Movies, International Movies',\n",
              " 'British TV Shows, International TV Shows, Reality TV',\n",
              " 'Documentaries, International Movies',\n",
              " 'International TV Shows, Reality TV',\n",
              " 'British TV Shows, Crime TV Shows, Docuseries',\n",
              " 'TV Action & Adventure, TV Dramas, Teen TV Shows',\n",
              " 'Dramas, Independent Movies, International Movies',\n",
              " 'Action & Adventure, International Movies',\n",
              " 'Action & Adventure, Comedies, International Movies',\n",
              " 'Comedies, International Movies, Romantic Movies',\n",
              " 'Comedies, Romantic Movies',\n",
              " 'Anime Series',\n",
              " 'Action & Adventure, International Movies',\n",
              " 'Documentaries',\n",
              " 'Reality TV',\n",
              " 'Crime TV Shows, TV Action & Adventure, TV Sci-Fi & Fantasy',\n",
              " 'Crime TV Shows, International TV Shows, Spanish-Language TV Shows',\n",
              " 'TV Dramas, Teen TV Shows',\n",
              " 'Action & Adventure, International Movies',\n",
              " 'Thrillers',\n",
              " 'Crime TV Shows, International TV Shows, TV Comedies',\n",
              " \"Kids' TV\",\n",
              " 'Comedies, Dramas, International Movies',\n",
              " 'Stand-Up Comedy & Talk Shows, TV Comedies',\n",
              " 'Dramas, International Movies, Thrillers',\n",
              " 'Classic & Cult TV, TV Action & Adventure, TV Dramas',\n",
              " 'International TV Shows, TV Action & Adventure, TV Dramas',\n",
              " 'Action & Adventure, Dramas',\n",
              " 'Children & Family Movies, Sports Movies',\n",
              " 'Dramas, Independent Movies, International Movies',\n",
              " 'Comedies, International Movies',\n",
              " 'Action & Adventure, Horror Movies, International Movies',\n",
              " 'International TV Shows, Romantic TV Shows, TV Comedies',\n",
              " 'Horror Movies, International Movies, Thrillers',\n",
              " 'TV Action & Adventure, TV Sci-Fi & Fantasy',\n",
              " 'Anime Series, Stand-Up Comedy & Talk Shows',\n",
              " 'International TV Shows, Spanish-Language TV Shows, TV Action & Adventure',\n",
              " 'Dramas, Romantic Movies',\n",
              " 'Docuseries',\n",
              " 'Documentaries',\n",
              " 'Children & Family Movies',\n",
              " 'Children & Family Movies',\n",
              " 'Children & Family Movies',\n",
              " 'Children & Family Movies',\n",
              " 'Children & Family Movies',\n",
              " 'Children & Family Movies',\n",
              " 'Children & Family Movies',\n",
              " 'Children & Family Movies',\n",
              " 'Children & Family Movies',\n",
              " 'Children & Family Movies',\n",
              " 'Children & Family Movies',\n",
              " 'Children & Family Movies',\n",
              " 'Children & Family Movies',\n",
              " 'Children & Family Movies',\n",
              " 'Children & Family Movies, Sports Movies',\n",
              " 'Children & Family Movies',\n",
              " 'Children & Family Movies',\n",
              " 'Children & Family Movies',\n",
              " 'Children & Family Movies',\n",
              " 'Children & Family Movies',\n",
              " 'TV Dramas',\n",
              " 'Dramas',\n",
              " 'Comedies, International Movies',\n",
              " 'Anime Features, Children & Family Movies, International Movies',\n",
              " 'Dramas, International Movies, Thrillers',\n",
              " 'British TV Shows, International TV Shows, Reality TV',\n",
              " 'International TV Shows, Reality TV, Romantic TV Shows',\n",
              " 'Children & Family Movies',\n",
              " 'Comedies, Dramas, Independent Movies',\n",
              " 'Classic & Cult TV, Crime TV Shows, International TV Shows',\n",
              " 'Crime TV Shows, International TV Shows, Romantic TV Shows',\n",
              " 'Dramas, International Movies, Romantic Movies',\n",
              " 'Action & Adventure',\n",
              " 'Dramas, International Movies, Romantic Movies',\n",
              " 'Dramas, International Movies, Thrillers',\n",
              " 'Docuseries, Science & Nature TV',\n",
              " 'Horror Movies, LGBTQ Movies',\n",
              " \"Kids' TV, TV Comedies\",\n",
              " 'Comedies, International Movies',\n",
              " 'Docuseries',\n",
              " 'Dramas, Independent Movies, Thrillers',\n",
              " 'Dramas',\n",
              " 'Dramas, Romantic Movies',\n",
              " 'Dramas, Romantic Movies',\n",
              " 'Dramas, Romantic Movies',\n",
              " 'Dramas, Romantic Movies',\n",
              " 'Action & Adventure, Dramas, Romantic Movies',\n",
              " 'Comedies, Dramas, International Movies',\n",
              " 'Anime Series, International TV Shows',\n",
              " 'Comedies, Cult Movies',\n",
              " 'Documentaries, International Movies, Music & Musicals',\n",
              " 'International TV Shows, Romantic TV Shows, TV Comedies',\n",
              " 'Documentaries, International Movies, Sports Movies',\n",
              " 'Dramas, International Movies, Romantic Movies',\n",
              " 'TV Comedies, TV Dramas, Teen TV Shows',\n",
              " 'Children & Family Movies, Comedies, Sports Movies',\n",
              " 'Comedies, Dramas, Independent Movies',\n",
              " 'Documentaries',\n",
              " 'Horror Movies, International Movies',\n",
              " 'Action & Adventure, Comedies',\n",
              " 'Crime TV Shows, Docuseries',\n",
              " 'Reality TV',\n",
              " 'Documentaries, International Movies',\n",
              " 'Comedies, Dramas, International Movies',\n",
              " 'Dramas, Independent Movies',\n",
              " 'Movies',\n",
              " 'Children & Family Movies, Dramas, International Movies',\n",
              " \"Kids' TV\",\n",
              " 'Documentaries, Sports Movies',\n",
              " 'Action & Adventure, Comedies',\n",
              " 'Stand-Up Comedy',\n",
              " 'Comedies, Documentaries, International Movies',\n",
              " 'TV Comedies, TV Dramas, Teen TV Shows',\n",
              " 'International TV Shows, TV Dramas, TV Sci-Fi & Fantasy',\n",
              " 'Horror Movies',\n",
              " 'Comedies, Dramas, International Movies',\n",
              " 'Action & Adventure, Dramas, International Movies',\n",
              " 'Docuseries',\n",
              " 'Dramas, International Movies, Romantic Movies',\n",
              " 'Stand-Up Comedy',\n",
              " 'Thrillers',\n",
              " 'Children & Family Movies, Comedies, Sci-Fi & Fantasy',\n",
              " 'International TV Shows, Romantic TV Shows, Spanish-Language TV Shows',\n",
              " 'Romantic TV Shows, TV Dramas',\n",
              " 'Comedies, International Movies',\n",
              " 'Crime TV Shows, Docuseries, International TV Shows',\n",
              " 'Comedies, Dramas, Romantic Movies',\n",
              " 'Dramas, Romantic Movies',\n",
              " 'Anime Series, TV Horror, TV Thrillers',\n",
              " 'Comedies, Music & Musicals',\n",
              " 'Documentaries, International Movies',\n",
              " 'Action & Adventure, International Movies',\n",
              " 'Docuseries',\n",
              " 'Dramas, International Movies',\n",
              " 'Docuseries',\n",
              " 'Action & Adventure, International Movies',\n",
              " 'Dramas, International Movies',\n",
              " 'Dramas, International Movies, Romantic Movies',\n",
              " 'Crime TV Shows, International TV Shows, TV Dramas',\n",
              " 'International TV Shows, Spanish-Language TV Shows, TV Comedies',\n",
              " 'Dramas, International Movies',\n",
              " 'International Movies, Romantic Movies',\n",
              " 'Comedies, International Movies',\n",
              " 'Dramas, International Movies',\n",
              " \"Kids' TV\",\n",
              " 'International TV Shows, TV Dramas, TV Mysteries',\n",
              " 'Stand-Up Comedy & Talk Shows, TV Comedies',\n",
              " \"Kids' TV\",\n",
              " 'TV Action & Adventure, TV Dramas, TV Sci-Fi & Fantasy',\n",
              " 'British TV Shows, International TV Shows, TV Comedies',\n",
              " 'British TV Shows, International TV Shows, TV Comedies',\n",
              " 'International TV Shows, TV Dramas, TV Mysteries',\n",
              " 'International TV Shows, Romantic TV Shows, TV Comedies',\n",
              " 'Dramas, International Movies',\n",
              " 'British TV Shows, Crime TV Shows, Docuseries',\n",
              " 'TV Comedies',\n",
              " 'International TV Shows, TV Comedies',\n",
              " \"Kids' TV, Korean TV Shows, TV Comedies\",\n",
              " 'British TV Shows, Crime TV Shows, International TV Shows',\n",
              " 'International TV Shows, TV Dramas',\n",
              " \"Kids' TV\",\n",
              " 'TV Comedies, TV Dramas',\n",
              " \"Kids' TV\",\n",
              " 'Dramas, International Movies, Romantic Movies',\n",
              " 'Dramas, International Movies',\n",
              " \"Kids' TV, TV Comedies\",\n",
              " 'Dramas, International Movies',\n",
              " 'Crime TV Shows, TV Horror, TV Mysteries',\n",
              " 'International TV Shows, TV Dramas',\n",
              " 'Dramas, International Movies',\n",
              " \"Kids' TV, TV Comedies\",\n",
              " 'Docuseries, International TV Shows, Science & Nature TV',\n",
              " 'International TV Shows, Reality TV',\n",
              " 'British TV Shows, International TV Shows, TV Dramas',\n",
              " \"Kids' TV, TV Action & Adventure, TV Sci-Fi & Fantasy\",\n",
              " \"British TV Shows, Kids' TV\",\n",
              " 'Comedies, Dramas, International Movies',\n",
              " 'Dramas, International Movies',\n",
              " 'Crime TV Shows, International TV Shows, TV Action & Adventure',\n",
              " 'International TV Shows, TV Comedies',\n",
              " \"Kids' TV, Korean TV Shows\",\n",
              " 'International TV Shows, Romantic TV Shows, TV Dramas',\n",
              " \"Kids' TV\",\n",
              " 'Romantic TV Shows, TV Dramas',\n",
              " 'International TV Shows, Reality TV',\n",
              " 'Horror Movies, LGBTQ Movies',\n",
              " 'International Movies, Romantic Movies, Thrillers',\n",
              " 'Comedies, International Movies',\n",
              " 'Crime TV Shows, International TV Shows, TV Dramas',\n",
              " 'Dramas, International Movies, Thrillers',\n",
              " 'Action & Adventure, Cult Movies, International Movies',\n",
              " 'Horror Movies, International Movies, Thrillers',\n",
              " 'Horror Movies, Sci-Fi & Fantasy',\n",
              " 'Action & Adventure',\n",
              " 'Action & Adventure',\n",
              " 'Documentaries, Sports Movies',\n",
              " 'Action & Adventure, Comedies',\n",
              " 'Comedies',\n",
              " 'Action & Adventure, Comedies, Sci-Fi & Fantasy',\n",
              " 'Comedies, Dramas, Independent Movies',\n",
              " \"International TV Shows, Kids' TV, TV Mysteries\",\n",
              " 'Action & Adventure, Comedies',\n",
              " 'Action & Adventure, Thrillers',\n",
              " 'Children & Family Movies, Comedies',\n",
              " 'Dramas, International Movies, Romantic Movies',\n",
              " 'Action & Adventure, International Movies',\n",
              " 'International TV Shows, Romantic TV Shows, TV Comedies',\n",
              " 'Comedies, Dramas, International Movies',\n",
              " 'Children & Family Movies, Comedies',\n",
              " 'Children & Family Movies, Comedies',\n",
              " 'Comedies, Dramas, Romantic Movies',\n",
              " 'Dramas, Faith & Spirituality, International Movies',\n",
              " 'International TV Shows, TV Comedies',\n",
              " 'Dramas, Romantic Movies',\n",
              " 'Action & Adventure, Classic Movies, Comedies',\n",
              " 'Action & Adventure, Anime Features, International Movies',\n",
              " 'Action & Adventure, Sci-Fi & Fantasy',\n",
              " 'Comedies, Dramas',\n",
              " 'Comedies, Romantic Movies',\n",
              " 'Comedies',\n",
              " 'Dramas, Romantic Movies',\n",
              " 'Horror Movies',\n",
              " 'International TV Shows, TV Comedies, TV Dramas',\n",
              " \"Kids' TV\",\n",
              " 'Dramas, International Movies',\n",
              " \"Anime Series, Kids' TV\",\n",
              " 'Dramas, Romantic Movies',\n",
              " 'Comedies, Romantic Movies',\n",
              " 'Children & Family Movies, Comedies',\n",
              " 'Action & Adventure, Sci-Fi & Fantasy',\n",
              " 'Children & Family Movies, Comedies',\n",
              " 'Comedies, Dramas, Independent Movies',\n",
              " 'Action & Adventure, Comedies, Sports Movies',\n",
              " 'Dramas, Thrillers',\n",
              " 'Dramas',\n",
              " 'Thrillers',\n",
              " 'Action & Adventure, Children & Family Movies, Classic Movies',\n",
              " 'Action & Adventure, Children & Family Movies, Dramas',\n",
              " 'Children & Family Movies, Dramas',\n",
              " 'Dramas',\n",
              " 'Action & Adventure',\n",
              " 'Dramas, International Movies',\n",
              " 'Horror Movies, Thrillers',\n",
              " 'Action & Adventure',\n",
              " 'Action & Adventure, Romantic Movies',\n",
              " 'Action & Adventure, Horror Movies, Sci-Fi & Fantasy',\n",
              " 'Action & Adventure, Horror Movies, Sci-Fi & Fantasy',\n",
              " 'Action & Adventure, Horror Movies, Sci-Fi & Fantasy',\n",
              " 'Dramas, International Movies, Thrillers',\n",
              " 'Dramas, Romantic Movies, Sci-Fi & Fantasy',\n",
              " 'Dramas, Music & Musicals, Romantic Movies',\n",
              " 'Dramas',\n",
              " 'International TV Shows, Romantic TV Shows, TV Dramas',\n",
              " 'Action & Adventure, Comedies',\n",
              " 'Dramas, International Movies',\n",
              " 'Reality TV',\n",
              " 'Anime Series, Crime TV Shows, International TV Shows',\n",
              " 'Thrillers',\n",
              " 'Comedies, Dramas, International Movies',\n",
              " 'Dramas, International Movies, Thrillers',\n",
              " 'Crime TV Shows, International TV Shows, Spanish-Language TV Shows',\n",
              " 'British TV Shows, Crime TV Shows, Docuseries',\n",
              " 'Anime Series, International TV Shows, Teen TV Shows',\n",
              " \"Kids' TV\",\n",
              " 'Dramas, International Movies',\n",
              " 'Dramas',\n",
              " 'Anime Series, International TV Shows',\n",
              " 'Comedies, International Movies',\n",
              " 'Dramas, Independent Movies, International Movies',\n",
              " 'Documentaries, International Movies',\n",
              " 'Dramas, International Movies',\n",
              " 'Action & Adventure',\n",
              " 'International TV Shows, TV Dramas, TV Mysteries',\n",
              " 'Romantic TV Shows, TV Dramas',\n",
              " 'Anime Series, International TV Shows',\n",
              " 'International TV Shows, TV Dramas',\n",
              " 'Documentaries, Sports Movies',\n",
              " 'International TV Shows, TV Dramas',\n",
              " 'Horror Movies',\n",
              " 'Comedies, Romantic Movies',\n",
              " 'Documentaries, International Movies',\n",
              " 'Comedies, International Movies, Music & Musicals',\n",
              " 'International TV Shows, Reality TV',\n",
              " 'Reality TV, Romantic TV Shows',\n",
              " 'Dramas, International Movies, Romantic Movies',\n",
              " 'Dramas, International Movies',\n",
              " 'Comedies, Dramas, International Movies',\n",
              " 'Comedies, Dramas, International Movies',\n",
              " 'Docuseries, International TV Shows',\n",
              " 'Comedies, Dramas, International Movies',\n",
              " 'Comedies, Dramas, International Movies',\n",
              " 'International Movies, Music & Musicals, Romantic Movies',\n",
              " 'Reality TV, TV Action & Adventure, TV Mysteries',\n",
              " 'International TV Shows, Romantic TV Shows, TV Dramas',\n",
              " 'International TV Shows, Romantic TV Shows, TV Dramas',\n",
              " 'TV Action & Adventure, TV Dramas, TV Sci-Fi & Fantasy',\n",
              " 'International TV Shows, TV Comedies, TV Dramas',\n",
              " 'TV Comedies',\n",
              " 'International TV Shows, TV Dramas',\n",
              " \"Kids' TV\",\n",
              " 'Crime TV Shows, International TV Shows, TV Dramas',\n",
              " 'International TV Shows, Romantic TV Shows, TV Comedies',\n",
              " 'TV Comedies, TV Dramas, Teen TV Shows',\n",
              " 'Crime TV Shows, TV Dramas',\n",
              " 'Crime TV Shows, International TV Shows, Spanish-Language TV Shows',\n",
              " 'Action & Adventure, Anime Features, International Movies',\n",
              " 'Action & Adventure, Anime Features, International Movies',\n",
              " 'Action & Adventure, Anime Features, International Movies',\n",
              " 'International TV Shows, Reality TV, Spanish-Language TV Shows',\n",
              " 'TV Dramas',\n",
              " 'International TV Shows, Reality TV, Romantic TV Shows',\n",
              " 'Crime TV Shows, TV Dramas, TV Mysteries',\n",
              " 'TV Comedies',\n",
              " 'Crime TV Shows, TV Dramas, TV Thrillers',\n",
              " 'Crime TV Shows, International TV Shows, TV Dramas',\n",
              " 'Docuseries',\n",
              " 'British TV Shows, Docuseries',\n",
              " 'International TV Shows, TV Comedies',\n",
              " 'Dramas, International Movies',\n",
              " 'Crime TV Shows, International TV Shows, Spanish-Language TV Shows',\n",
              " 'Dramas',\n",
              " 'International TV Shows, Korean TV Shows, TV Comedies',\n",
              " 'Action & Adventure, Dramas, International Movies',\n",
              " 'Comedies, International Movies, Romantic Movies',\n",
              " 'Action & Adventure, Anime Features, Classic Movies',\n",
              " 'Action & Adventure, International Movies',\n",
              " 'International TV Shows, TV Comedies',\n",
              " 'International TV Shows, Romantic TV Shows, TV Dramas',\n",
              " 'Comedies, Dramas, International Movies',\n",
              " 'Comedies, Dramas, Independent Movies',\n",
              " 'Dramas, International Movies',\n",
              " 'TV Action & Adventure, TV Dramas, TV Horror',\n",
              " 'International TV Shows, Romantic TV Shows, Spanish-Language TV Shows',\n",
              " 'Dramas, Independent Movies, International Movies',\n",
              " 'International TV Shows, TV Dramas, TV Mysteries',\n",
              " 'Anime Series, International TV Shows',\n",
              " 'Dramas',\n",
              " 'Comedies, Dramas, Independent Movies',\n",
              " 'International TV Shows, TV Dramas, TV Mysteries',\n",
              " 'Comedies, Dramas, International Movies',\n",
              " 'Documentaries, International Movies, Sports Movies',\n",
              " 'International TV Shows, Spanish-Language TV Shows, TV Dramas',\n",
              " 'International TV Shows, Romantic TV Shows, TV Comedies',\n",
              " 'Dramas, Independent Movies',\n",
              " 'International TV Shows, Romantic TV Shows, Spanish-Language TV Shows',\n",
              " 'Docuseries, Science & Nature TV',\n",
              " 'Dramas, International Movies, Thrillers',\n",
              " 'Action & Adventure, Dramas, International Movies',\n",
              " \"Kids' TV, TV Comedies\",\n",
              " 'Crime TV Shows, International TV Shows, TV Thrillers',\n",
              " 'International TV Shows, Romantic TV Shows, Spanish-Language TV Shows',\n",
              " 'Documentaries',\n",
              " 'Documentaries',\n",
              " 'Comedies, Independent Movies',\n",
              " \"Kids' TV\",\n",
              " \"Kids' TV\",\n",
              " 'Action & Adventure',\n",
              " 'Documentaries',\n",
              " 'Reality TV',\n",
              " 'Documentaries',\n",
              " 'International TV Shows, Spanish-Language TV Shows, TV Dramas',\n",
              " 'TV Shows',\n",
              " 'Documentaries',\n",
              " 'Horror Movies',\n",
              " 'Movies',\n",
              " 'Movies',\n",
              " 'International TV Shows, TV Dramas',\n",
              " 'Movies',\n",
              " \"Kids' TV\",\n",
              " 'Crime TV Shows, International TV Shows, TV Action & Adventure',\n",
              " 'Comedies, Dramas, International Movies',\n",
              " 'Children & Family Movies, Dramas, International Movies',\n",
              " 'Anime Series, Crime TV Shows, TV Horror',\n",
              " 'Anime Features, Documentaries',\n",
              " 'Children & Family Movies, Comedies',\n",
              " 'Comedies, Horror Movies',\n",
              " 'Dramas, International Movies',\n",
              " 'Dramas, International Movies',\n",
              " 'Dramas, Independent Movies, Romantic Movies',\n",
              " 'International TV Shows, Spanish-Language TV Shows, Stand-Up Comedy & Talk Shows',\n",
              " 'International Movies, Thrillers',\n",
              " 'Dramas, Thrillers',\n",
              " 'Comedies, Dramas, International Movies',\n",
              " 'Reality TV',\n",
              " 'Crime TV Shows, TV Action & Adventure, TV Comedies',\n",
              " 'Dramas, Independent Movies, International Movies',\n",
              " \"Kids' TV, TV Comedies\",\n",
              " 'Action & Adventure, Comedies, Sci-Fi & Fantasy',\n",
              " 'International TV Shows, Romantic TV Shows, Spanish-Language TV Shows',\n",
              " 'Dramas, Independent Movies',\n",
              " 'Children & Family Movies, Documentaries, International Movies',\n",
              " 'Dramas, International Movies, Romantic Movies',\n",
              " 'Documentaries',\n",
              " 'Romantic TV Shows, TV Comedies, TV Dramas',\n",
              " 'Movies',\n",
              " 'Movies',\n",
              " 'Docuseries, Science & Nature TV',\n",
              " 'Comedies, International Movies, Romantic Movies',\n",
              " 'TV Action & Adventure, TV Dramas, TV Sci-Fi & Fantasy',\n",
              " 'Comedies, International Movies, Romantic Movies',\n",
              " 'Action & Adventure, International Movies',\n",
              " 'Stand-Up Comedy',\n",
              " 'International TV Shows, TV Comedies',\n",
              " 'Comedies, Dramas, International Movies',\n",
              " 'Documentaries, International Movies',\n",
              " 'Documentaries, International Movies, Music & Musicals',\n",
              " 'TV Shows',\n",
              " 'International TV Shows, Romantic TV Shows, TV Dramas',\n",
              " 'Dramas, International Movies, Thrillers',\n",
              " 'Dramas, Faith & Spirituality, Romantic Movies',\n",
              " 'Dramas, Independent Movies, LGBTQ Movies',\n",
              " 'Action & Adventure',\n",
              " 'Comedies, Independent Movies, LGBTQ Movies',\n",
              " 'Anime Series, International TV Shows',\n",
              " 'Action & Adventure, Cult Movies, Sci-Fi & Fantasy',\n",
              " \"Kids' TV\",\n",
              " 'Documentaries',\n",
              " 'Dramas, Romantic Movies',\n",
              " 'Comedies, International Movies, Music & Musicals',\n",
              " 'Comedies, Dramas, Independent Movies',\n",
              " \"Kids' TV\",\n",
              " 'Action & Adventure, Dramas',\n",
              " 'Action & Adventure',\n",
              " 'Thrillers',\n",
              " 'British TV Shows, International TV Shows, TV Dramas',\n",
              " 'Documentaries',\n",
              " 'Action & Adventure, Dramas',\n",
              " 'Comedies, Dramas, Romantic Movies',\n",
              " 'Comedies, Romantic Movies',\n",
              " 'Comedies, Dramas, International Movies',\n",
              " 'TV Comedies',\n",
              " 'Cult Movies, Horror Movies',\n",
              " 'Dramas',\n",
              " 'Comedies, Dramas, Independent Movies',\n",
              " 'Dramas, Sports Movies',\n",
              " 'Dramas, Independent Movies, LGBTQ Movies',\n",
              " 'Action & Adventure, Dramas, Sports Movies',\n",
              " 'Action & Adventure',\n",
              " 'Anime Series, Romantic TV Shows, Teen TV Shows',\n",
              " 'Horror Movies, Thrillers',\n",
              " 'International TV Shows, TV Comedies, TV Dramas',\n",
              " 'Action & Adventure, Dramas, International Movies',\n",
              " 'Action & Adventure, Dramas, International Movies',\n",
              " 'Action & Adventure',\n",
              " 'Action & Adventure, Comedies',\n",
              " 'Action & Adventure, Classic Movies, Cult Movies',\n",
              " 'Children & Family Movies',\n",
              " 'Action & Adventure',\n",
              " \"Kids' TV\",\n",
              " 'Comedies, Romantic Movies',\n",
              " 'Dramas, International Movies, LGBTQ Movies',\n",
              " 'Thrillers',\n",
              " 'Comedies, Dramas, Independent Movies',\n",
              " 'Comedies, Dramas, Romantic Movies',\n",
              " 'Action & Adventure, Classic Movies',\n",
              " 'International TV Shows, TV Dramas, TV Mysteries',\n",
              " 'Dramas, Romantic Movies, Thrillers',\n",
              " 'Horror Movies',\n",
              " 'Comedies, Dramas, Independent Movies',\n",
              " 'Thrillers',\n",
              " 'Crime TV Shows, TV Dramas, TV Mysteries',\n",
              " 'Stand-Up Comedy',\n",
              " 'Comedies, International Movies',\n",
              " 'Dramas',\n",
              " 'Children & Family Movies, Comedies',\n",
              " 'TV Comedies, TV Dramas',\n",
              " 'Docuseries, International TV Shows, Spanish-Language TV Shows',\n",
              " 'International TV Shows, TV Action & Adventure, TV Dramas',\n",
              " 'Crime TV Shows, International TV Shows, TV Dramas',\n",
              " 'Children & Family Movies, Dramas, Faith & Spirituality',\n",
              " 'Anime Series, International TV Shows',\n",
              " 'Horror Movies, International Movies, Thrillers',\n",
              " 'International TV Shows, TV Action & Adventure, TV Dramas',\n",
              " 'Stand-Up Comedy',\n",
              " 'Dramas, Independent Movies, International Movies',\n",
              " 'Dramas, International Movies, Sports Movies',\n",
              " 'Action & Adventure, Dramas, International Movies',\n",
              " 'Docuseries',\n",
              " 'Anime Series, International TV Shows',\n",
              " 'Documentaries, International Movies',\n",
              " 'Dramas, International Movies, Thrillers',\n",
              " 'Children & Family Movies, Comedies, Sci-Fi & Fantasy',\n",
              " 'International TV Shows, Romantic TV Shows, TV Comedies',\n",
              " 'TV Comedies, TV Dramas',\n",
              " 'International Movies, Music & Musicals',\n",
              " 'Dramas, International Movies, Music & Musicals',\n",
              " 'Dramas, International Movies, Music & Musicals',\n",
              " 'Dramas, International Movies, Music & Musicals',\n",
              " 'Action & Adventure, Horror Movies',\n",
              " 'Documentaries',\n",
              " \"Kids' TV, TV Action & Adventure, TV Sci-Fi & Fantasy\",\n",
              " 'Dramas, International Movies',\n",
              " 'International TV Shows, Spanish-Language TV Shows, TV Comedies',\n",
              " 'Dramas, Independent Movies, International Movies',\n",
              " 'Dramas, International Movies',\n",
              " 'Documentaries, International Movies, LGBTQ Movies',\n",
              " 'Children & Family Movies, Comedies',\n",
              " 'TV Comedies',\n",
              " 'Children & Family Movies, Comedies',\n",
              " 'Dramas, International Movies, Thrillers',\n",
              " 'Action & Adventure, Dramas',\n",
              " 'Thrillers',\n",
              " 'Documentaries',\n",
              " \"Kids' TV\",\n",
              " 'Crime TV Shows, International TV Shows, Spanish-Language TV Shows',\n",
              " 'Documentaries',\n",
              " 'Comedies, Dramas, International Movies',\n",
              " 'Dramas, Independent Movies, Sci-Fi & Fantasy',\n",
              " 'Dramas, Independent Movies, International Movies',\n",
              " \"Kids' TV\",\n",
              " 'Dramas, International Movies, Romantic Movies',\n",
              " 'Docuseries, International TV Shows',\n",
              " 'Comedies, Independent Movies, International Movies',\n",
              " 'Dramas, International Movies, Thrillers',\n",
              " 'TV Dramas',\n",
              " 'Reality TV, TV Horror, TV Thrillers',\n",
              " 'Dramas, International Movies, Thrillers',\n",
              " 'Children & Family Movies, Comedies',\n",
              " 'TV Action & Adventure, TV Horror, TV Sci-Fi & Fantasy',\n",
              " 'International TV Shows, TV Dramas',\n",
              " 'Comedies, Dramas, International Movies',\n",
              " 'International TV Shows, TV Horror, TV Sci-Fi & Fantasy',\n",
              " 'Horror Movies, International Movies, Thrillers',\n",
              " 'Comedies',\n",
              " 'Dramas, Thrillers',\n",
              " 'Anime Series, TV Horror, TV Thrillers',\n",
              " 'Independent Movies, International Movies, Thrillers',\n",
              " 'Dramas, Independent Movies, International Movies',\n",
              " 'Documentaries, International Movies, Music & Musicals',\n",
              " 'Dramas, Independent Movies, International Movies',\n",
              " 'Dramas, International Movies, Thrillers',\n",
              " 'TV Comedies',\n",
              " 'International TV Shows, Romantic TV Shows, TV Comedies',\n",
              " 'Comedies, Dramas, International Movies',\n",
              " 'Dramas, International Movies',\n",
              " 'Docuseries',\n",
              " 'Independent Movies, Thrillers',\n",
              " 'International TV Shows, TV Dramas',\n",
              " 'Dramas, International Movies, Thrillers',\n",
              " 'Action & Adventure',\n",
              " 'Action & Adventure, Dramas, International Movies',\n",
              " 'Dramas, International Movies',\n",
              " 'Documentaries',\n",
              " 'TV Action & Adventure, TV Sci-Fi & Fantasy',\n",
              " 'Dramas, Independent Movies, International Movies',\n",
              " 'Dramas',\n",
              " \"Kids' TV, TV Comedies\",\n",
              " 'Comedies',\n",
              " 'Dramas, International Movies, Romantic Movies',\n",
              " 'Documentaries',\n",
              " 'Dramas, International Movies, Thrillers',\n",
              " 'Action & Adventure',\n",
              " 'Documentaries, Dramas',\n",
              " 'Reality TV',\n",
              " 'Crime TV Shows, Docuseries',\n",
              " 'TV Dramas',\n",
              " 'Crime TV Shows, TV Dramas',\n",
              " 'Dramas, Independent Movies, Thrillers',\n",
              " \"Kids' TV\",\n",
              " 'Children & Family Movies, Comedies',\n",
              " \"British TV Shows, Kids' TV\",\n",
              " 'Action & Adventure, Dramas',\n",
              " \"Kids' TV\",\n",
              " 'Action & Adventure, Sports Movies',\n",
              " 'Action & Adventure, Horror Movies',\n",
              " 'Action & Adventure, Comedies',\n",
              " 'Comedies',\n",
              " 'Action & Adventure',\n",
              " 'Children & Family Movies, Dramas',\n",
              " 'Dramas, Independent Movies',\n",
              " 'Children & Family Movies, Comedies',\n",
              " \"Kids' TV\",\n",
              " 'Children & Family Movies, Comedies',\n",
              " 'Children & Family Movies, Comedies, Music & Musicals',\n",
              " 'Children & Family Movies, Music & Musicals',\n",
              " 'Children & Family Movies, Comedies',\n",
              " 'Children & Family Movies, Comedies',\n",
              " 'Dramas, Thrillers',\n",
              " 'Action & Adventure, Dramas, Sports Movies',\n",
              " 'Action & Adventure',\n",
              " 'Dramas, International Movies',\n",
              " 'Action & Adventure, Sci-Fi & Fantasy',\n",
              " 'Dramas, Thrillers',\n",
              " 'Comedies',\n",
              " 'Action & Adventure, Sci-Fi & Fantasy',\n",
              " 'Dramas, International Movies, Sci-Fi & Fantasy',\n",
              " 'Comedies, Romantic Movies',\n",
              " 'Action & Adventure, Comedies',\n",
              " 'Dramas, Thrillers',\n",
              " 'Children & Family Movies, Comedies',\n",
              " 'Action & Adventure',\n",
              " 'Comedies, Independent Movies, Romantic Movies',\n",
              " 'Reality TV',\n",
              " 'Dramas, International Movies',\n",
              " 'Dramas, Independent Movies, International Movies',\n",
              " 'Crime TV Shows, International TV Shows, Spanish-Language TV Shows',\n",
              " 'Children & Family Movies, Comedies',\n",
              " 'Horror Movies',\n",
              " 'International TV Shows, Spanish-Language TV Shows, TV Comedies',\n",
              " 'Horror Movies, Thrillers',\n",
              " 'Anime Series, International TV Shows',\n",
              " 'Comedies, International Movies',\n",
              " 'Docuseries, Science & Nature TV',\n",
              " 'International TV Shows, TV Comedies, TV Dramas',\n",
              " 'Dramas',\n",
              " 'Action & Adventure, Sci-Fi & Fantasy',\n",
              " 'Thrillers',\n",
              " 'International TV Shows, TV Dramas, TV Thrillers',\n",
              " 'Dramas, International Movies',\n",
              " 'Dramas, Independent Movies, International Movies',\n",
              " 'Action & Adventure, Comedies, Dramas',\n",
              " 'Comedies, International Movies',\n",
              " 'Comedies, International Movies',\n",
              " 'Comedies, International Movies, Romantic Movies',\n",
              " 'Comedies, International Movies',\n",
              " 'Comedies, International Movies',\n",
              " 'Action & Adventure, Comedies, International Movies',\n",
              " 'Comedies, Dramas, International Movies',\n",
              " 'Documentaries, International Movies, Music & Musicals',\n",
              " 'Comedies, International Movies',\n",
              " 'Comedies, International Movies, Romantic Movies',\n",
              " 'Comedies, International Movies, Romantic Movies',\n",
              " 'Comedies, International Movies',\n",
              " 'International TV Shows, Romantic TV Shows, TV Comedies',\n",
              " 'Comedies, International Movies',\n",
              " 'Comedies, International Movies',\n",
              " 'Dramas, Independent Movies, International Movies',\n",
              " 'International Movies, Music & Musicals',\n",
              " 'TV Action & Adventure, TV Dramas, TV Sci-Fi & Fantasy',\n",
              " 'Dramas, International Movies, Romantic Movies',\n",
              " 'Comedies, Dramas, International Movies',\n",
              " 'Horror Movies, International Movies, Thrillers',\n",
              " 'British TV Shows, Docuseries, International TV Shows',\n",
              " 'Documentaries, International Movies',\n",
              " 'Dramas, International Movies, Thrillers',\n",
              " ...]"
            ]
          },
          "execution_count": 137,
          "metadata": {},
          "output_type": "execute_result"
        }
      ],
      "source": [
        "df['listed_in'].to_list()"
      ]
    },
    {
      "cell_type": "code",
      "execution_count": null,
      "id": "723728f2",
      "metadata": {
        "id": "723728f2",
        "outputId": "5c368a39-ebc0-450c-ef3e-4acc24bc1c21"
      },
      "outputs": [
        {
          "data": {
            "text/plain": [
              "['dgggd']"
            ]
          },
          "execution_count": 138,
          "metadata": {},
          "output_type": "execute_result"
        }
      ],
      "source": [
        "'dgggd'.split('&')"
      ]
    },
    {
      "cell_type": "code",
      "execution_count": null,
      "id": "ff7272f4",
      "metadata": {
        "id": "ff7272f4"
      },
      "outputs": [],
      "source": [
        "# listed_in\n",
        "frequency = {}\n",
        "for sentence in df['listed_in'].to_list():\n",
        "    sentence = sentence.strip().lower()\n",
        "    sentence_sub = sentence.split(',')\n",
        "    for words in sentence_sub:\n",
        "        words = words.strip()\n",
        "        keys = words.split('&')\n",
        "        for key in keys:\n",
        "            key = key.strip()\n",
        "            frequency[key] = frequency.get(key, 0) + 1\n",
        "\n",
        "\n",
        "\n",
        ""
      ]
    },
    {
      "cell_type": "code",
      "execution_count": null,
      "id": "b250b3a5",
      "metadata": {
        "id": "b250b3a5"
      },
      "outputs": [],
      "source": [
        "df_frequency = pd.DataFrame.from_dict(frequency, orient='index', columns=['frequency']).reset_index()"
      ]
    },
    {
      "cell_type": "code",
      "execution_count": null,
      "id": "4b551ee5",
      "metadata": {
        "id": "4b551ee5",
        "outputId": "dd467fbf-6918-4619-b3c3-36f249e6dc10"
      },
      "outputs": [
        {
          "data": {
            "text/html": [
              "<div>\n",
              "<style scoped>\n",
              "    .dataframe tbody tr th:only-of-type {\n",
              "        vertical-align: middle;\n",
              "    }\n",
              "\n",
              "    .dataframe tbody tr th {\n",
              "        vertical-align: top;\n",
              "    }\n",
              "\n",
              "    .dataframe thead th {\n",
              "        text-align: right;\n",
              "    }\n",
              "</style>\n",
              "<table border=\"1\" class=\"dataframe\">\n",
              "  <thead>\n",
              "    <tr style=\"text-align: right;\">\n",
              "      <th></th>\n",
              "      <th>index</th>\n",
              "      <th>frequency</th>\n",
              "    </tr>\n",
              "  </thead>\n",
              "  <tbody>\n",
              "    <tr>\n",
              "      <th>16</th>\n",
              "      <td>international movies</td>\n",
              "      <td>2752</td>\n",
              "    </tr>\n",
              "    <tr>\n",
              "      <th>14</th>\n",
              "      <td>dramas</td>\n",
              "      <td>2427</td>\n",
              "    </tr>\n",
              "    <tr>\n",
              "      <th>18</th>\n",
              "      <td>comedies</td>\n",
              "      <td>1674</td>\n",
              "    </tr>\n",
              "    <tr>\n",
              "      <th>1</th>\n",
              "      <td>international tv shows</td>\n",
              "      <td>1351</td>\n",
              "    </tr>\n",
              "    <tr>\n",
              "      <th>6</th>\n",
              "      <td>adventure</td>\n",
              "      <td>1027</td>\n",
              "    </tr>\n",
              "    <tr>\n",
              "      <th>0</th>\n",
              "      <td>documentaries</td>\n",
              "      <td>869</td>\n",
              "    </tr>\n",
              "    <tr>\n",
              "      <th>29</th>\n",
              "      <td>action</td>\n",
              "      <td>859</td>\n",
              "    </tr>\n",
              "    <tr>\n",
              "      <th>2</th>\n",
              "      <td>tv dramas</td>\n",
              "      <td>763</td>\n",
              "    </tr>\n",
              "    <tr>\n",
              "      <th>15</th>\n",
              "      <td>independent movies</td>\n",
              "      <td>756</td>\n",
              "    </tr>\n",
              "    <tr>\n",
              "      <th>12</th>\n",
              "      <td>children</td>\n",
              "      <td>641</td>\n",
              "    </tr>\n",
              "  </tbody>\n",
              "</table>\n",
              "</div>"
            ],
            "text/plain": [
              "                     index  frequency\n",
              "16    international movies       2752\n",
              "14                  dramas       2427\n",
              "18                comedies       1674\n",
              "1   international tv shows       1351\n",
              "6                adventure       1027\n",
              "0            documentaries        869\n",
              "29                  action        859\n",
              "2                tv dramas        763\n",
              "15      independent movies        756\n",
              "12                children        641"
            ]
          },
          "execution_count": 141,
          "metadata": {},
          "output_type": "execute_result"
        }
      ],
      "source": [
        "df_frequency.sort_values('frequency', ascending=False).head(10)"
      ]
    },
    {
      "cell_type": "code",
      "execution_count": null,
      "id": "3c56cae3",
      "metadata": {
        "id": "3c56cae3",
        "outputId": "e29d1fe8-7d16-49a9-f291-6d8a92d9ba64"
      },
      "outputs": [
        {
          "data": {
            "text/html": [
              "<div>\n",
              "<style scoped>\n",
              "    .dataframe tbody tr th:only-of-type {\n",
              "        vertical-align: middle;\n",
              "    }\n",
              "\n",
              "    .dataframe tbody tr th {\n",
              "        vertical-align: top;\n",
              "    }\n",
              "\n",
              "    .dataframe thead th {\n",
              "        text-align: right;\n",
              "    }\n",
              "</style>\n",
              "<table border=\"1\" class=\"dataframe\">\n",
              "  <thead>\n",
              "    <tr style=\"text-align: right;\">\n",
              "      <th></th>\n",
              "      <th>show_id</th>\n",
              "      <th>type</th>\n",
              "      <th>title</th>\n",
              "      <th>director</th>\n",
              "      <th>cast</th>\n",
              "      <th>country</th>\n",
              "      <th>date_added</th>\n",
              "      <th>release_year</th>\n",
              "      <th>rating</th>\n",
              "      <th>duration</th>\n",
              "      <th>listed_in</th>\n",
              "      <th>description</th>\n",
              "      <th>date_added_cleaned</th>\n",
              "      <th>year_added</th>\n",
              "      <th>month_added</th>\n",
              "      <th>month_name</th>\n",
              "      <th>season_count</th>\n",
              "      <th>duration_cleaned</th>\n",
              "      <th>is_horror</th>\n",
              "    </tr>\n",
              "  </thead>\n",
              "  <tbody>\n",
              "    <tr>\n",
              "      <th>341</th>\n",
              "      <td>s342</td>\n",
              "      <td>Movie</td>\n",
              "      <td>Magnolia</td>\n",
              "      <td>Paul Thomas Anderson</td>\n",
              "      <td>John C. Reilly, Philip Baker Hall, Tom Cruise,...</td>\n",
              "      <td>United States</td>\n",
              "      <td>August 1, 2021</td>\n",
              "      <td>1999</td>\n",
              "      <td>R</td>\n",
              "      <td>189 min</td>\n",
              "      <td>Dramas, Independent Movies</td>\n",
              "      <td>Through chance, history and divine interventio...</td>\n",
              "      <td>2021-08-01</td>\n",
              "      <td>2021</td>\n",
              "      <td>8</td>\n",
              "      <td>August</td>\n",
              "      <td>&lt;NA&gt;</td>\n",
              "      <td>189</td>\n",
              "      <td>False</td>\n",
              "    </tr>\n",
              "    <tr>\n",
              "      <th>1254</th>\n",
              "      <td>s1255</td>\n",
              "      <td>Movie</td>\n",
              "      <td>Rain Man</td>\n",
              "      <td>Barry Levinson</td>\n",
              "      <td>Dustin Hoffman, Tom Cruise, Valeria Golino, Ge...</td>\n",
              "      <td>United States</td>\n",
              "      <td>March 1, 2021</td>\n",
              "      <td>1988</td>\n",
              "      <td>R</td>\n",
              "      <td>134 min</td>\n",
              "      <td>Classic Movies, Dramas</td>\n",
              "      <td>Motivated by money, a selfish workaholic seeki...</td>\n",
              "      <td>2021-03-01</td>\n",
              "      <td>2021</td>\n",
              "      <td>3</td>\n",
              "      <td>March</td>\n",
              "      <td>&lt;NA&gt;</td>\n",
              "      <td>134</td>\n",
              "      <td>False</td>\n",
              "    </tr>\n",
              "  </tbody>\n",
              "</table>\n",
              "</div>"
            ],
            "text/plain": [
              "     show_id   type     title              director  \\\n",
              "341     s342  Movie  Magnolia  Paul Thomas Anderson   \n",
              "1254   s1255  Movie  Rain Man        Barry Levinson   \n",
              "\n",
              "                                                   cast        country  \\\n",
              "341   John C. Reilly, Philip Baker Hall, Tom Cruise,...  United States   \n",
              "1254  Dustin Hoffman, Tom Cruise, Valeria Golino, Ge...  United States   \n",
              "\n",
              "          date_added  release_year rating duration  \\\n",
              "341   August 1, 2021          1999      R  189 min   \n",
              "1254   March 1, 2021          1988      R  134 min   \n",
              "\n",
              "                       listed_in  \\\n",
              "341   Dramas, Independent Movies   \n",
              "1254      Classic Movies, Dramas   \n",
              "\n",
              "                                            description date_added_cleaned  \\\n",
              "341   Through chance, history and divine interventio...         2021-08-01   \n",
              "1254  Motivated by money, a selfish workaholic seeki...         2021-03-01   \n",
              "\n",
              "      year_added  month_added month_name  season_count  duration_cleaned  \\\n",
              "341         2021            8     August          <NA>               189   \n",
              "1254        2021            3      March          <NA>               134   \n",
              "\n",
              "      is_horror  \n",
              "341       False  \n",
              "1254      False  "
            ]
          },
          "execution_count": 142,
          "metadata": {},
          "output_type": "execute_result"
        }
      ],
      "source": [
        "# tom cruise\n",
        "df[df['cast'].str.contains('tom cruise', case=False)]"
      ]
    },
    {
      "cell_type": "code",
      "execution_count": null,
      "id": "868a3848",
      "metadata": {
        "id": "868a3848"
      },
      "outputs": [],
      "source": [
        "df_agg = df.groupby('type').agg({\n",
        "    'show_id': 'count'\n",
        "}).reset_index()"
      ]
    },
    {
      "cell_type": "code",
      "execution_count": null,
      "id": "daa6fe97",
      "metadata": {
        "id": "daa6fe97",
        "outputId": "0dca332e-869b-44fe-b4db-08ebf94ac352"
      },
      "outputs": [
        {
          "data": {
            "application/vnd.plotly.v1+json": {
              "config": {
                "plotlyServerURL": "https://plot.ly"
              },
              "data": [
                {
                  "domain": {
                    "x": [
                      0,
                      1
                    ],
                    "y": [
                      0,
                      1
                    ]
                  },
                  "hovertemplate": "type=%{label}<br>show_id=%{value}<extra></extra>",
                  "labels": [
                    "Movie",
                    "TV Show"
                  ],
                  "legendgroup": "",
                  "name": "",
                  "showlegend": true,
                  "type": "pie",
                  "values": [
                    6131,
                    2676
                  ]
                }
              ],
              "layout": {
                "legend": {
                  "tracegroupgap": 0
                },
                "margin": {
                  "t": 60
                },
                "template": {
                  "data": {
                    "bar": [
                      {
                        "error_x": {
                          "color": "#2a3f5f"
                        },
                        "error_y": {
                          "color": "#2a3f5f"
                        },
                        "marker": {
                          "line": {
                            "color": "#E5ECF6",
                            "width": 0.5
                          },
                          "pattern": {
                            "fillmode": "overlay",
                            "size": 10,
                            "solidity": 0.2
                          }
                        },
                        "type": "bar"
                      }
                    ],
                    "barpolar": [
                      {
                        "marker": {
                          "line": {
                            "color": "#E5ECF6",
                            "width": 0.5
                          },
                          "pattern": {
                            "fillmode": "overlay",
                            "size": 10,
                            "solidity": 0.2
                          }
                        },
                        "type": "barpolar"
                      }
                    ],
                    "carpet": [
                      {
                        "aaxis": {
                          "endlinecolor": "#2a3f5f",
                          "gridcolor": "white",
                          "linecolor": "white",
                          "minorgridcolor": "white",
                          "startlinecolor": "#2a3f5f"
                        },
                        "baxis": {
                          "endlinecolor": "#2a3f5f",
                          "gridcolor": "white",
                          "linecolor": "white",
                          "minorgridcolor": "white",
                          "startlinecolor": "#2a3f5f"
                        },
                        "type": "carpet"
                      }
                    ],
                    "choropleth": [
                      {
                        "colorbar": {
                          "outlinewidth": 0,
                          "ticks": ""
                        },
                        "type": "choropleth"
                      }
                    ],
                    "contour": [
                      {
                        "colorbar": {
                          "outlinewidth": 0,
                          "ticks": ""
                        },
                        "colorscale": [
                          [
                            0,
                            "#0d0887"
                          ],
                          [
                            0.1111111111111111,
                            "#46039f"
                          ],
                          [
                            0.2222222222222222,
                            "#7201a8"
                          ],
                          [
                            0.3333333333333333,
                            "#9c179e"
                          ],
                          [
                            0.4444444444444444,
                            "#bd3786"
                          ],
                          [
                            0.5555555555555556,
                            "#d8576b"
                          ],
                          [
                            0.6666666666666666,
                            "#ed7953"
                          ],
                          [
                            0.7777777777777778,
                            "#fb9f3a"
                          ],
                          [
                            0.8888888888888888,
                            "#fdca26"
                          ],
                          [
                            1,
                            "#f0f921"
                          ]
                        ],
                        "type": "contour"
                      }
                    ],
                    "contourcarpet": [
                      {
                        "colorbar": {
                          "outlinewidth": 0,
                          "ticks": ""
                        },
                        "type": "contourcarpet"
                      }
                    ],
                    "heatmap": [
                      {
                        "colorbar": {
                          "outlinewidth": 0,
                          "ticks": ""
                        },
                        "colorscale": [
                          [
                            0,
                            "#0d0887"
                          ],
                          [
                            0.1111111111111111,
                            "#46039f"
                          ],
                          [
                            0.2222222222222222,
                            "#7201a8"
                          ],
                          [
                            0.3333333333333333,
                            "#9c179e"
                          ],
                          [
                            0.4444444444444444,
                            "#bd3786"
                          ],
                          [
                            0.5555555555555556,
                            "#d8576b"
                          ],
                          [
                            0.6666666666666666,
                            "#ed7953"
                          ],
                          [
                            0.7777777777777778,
                            "#fb9f3a"
                          ],
                          [
                            0.8888888888888888,
                            "#fdca26"
                          ],
                          [
                            1,
                            "#f0f921"
                          ]
                        ],
                        "type": "heatmap"
                      }
                    ],
                    "heatmapgl": [
                      {
                        "colorbar": {
                          "outlinewidth": 0,
                          "ticks": ""
                        },
                        "colorscale": [
                          [
                            0,
                            "#0d0887"
                          ],
                          [
                            0.1111111111111111,
                            "#46039f"
                          ],
                          [
                            0.2222222222222222,
                            "#7201a8"
                          ],
                          [
                            0.3333333333333333,
                            "#9c179e"
                          ],
                          [
                            0.4444444444444444,
                            "#bd3786"
                          ],
                          [
                            0.5555555555555556,
                            "#d8576b"
                          ],
                          [
                            0.6666666666666666,
                            "#ed7953"
                          ],
                          [
                            0.7777777777777778,
                            "#fb9f3a"
                          ],
                          [
                            0.8888888888888888,
                            "#fdca26"
                          ],
                          [
                            1,
                            "#f0f921"
                          ]
                        ],
                        "type": "heatmapgl"
                      }
                    ],
                    "histogram": [
                      {
                        "marker": {
                          "pattern": {
                            "fillmode": "overlay",
                            "size": 10,
                            "solidity": 0.2
                          }
                        },
                        "type": "histogram"
                      }
                    ],
                    "histogram2d": [
                      {
                        "colorbar": {
                          "outlinewidth": 0,
                          "ticks": ""
                        },
                        "colorscale": [
                          [
                            0,
                            "#0d0887"
                          ],
                          [
                            0.1111111111111111,
                            "#46039f"
                          ],
                          [
                            0.2222222222222222,
                            "#7201a8"
                          ],
                          [
                            0.3333333333333333,
                            "#9c179e"
                          ],
                          [
                            0.4444444444444444,
                            "#bd3786"
                          ],
                          [
                            0.5555555555555556,
                            "#d8576b"
                          ],
                          [
                            0.6666666666666666,
                            "#ed7953"
                          ],
                          [
                            0.7777777777777778,
                            "#fb9f3a"
                          ],
                          [
                            0.8888888888888888,
                            "#fdca26"
                          ],
                          [
                            1,
                            "#f0f921"
                          ]
                        ],
                        "type": "histogram2d"
                      }
                    ],
                    "histogram2dcontour": [
                      {
                        "colorbar": {
                          "outlinewidth": 0,
                          "ticks": ""
                        },
                        "colorscale": [
                          [
                            0,
                            "#0d0887"
                          ],
                          [
                            0.1111111111111111,
                            "#46039f"
                          ],
                          [
                            0.2222222222222222,
                            "#7201a8"
                          ],
                          [
                            0.3333333333333333,
                            "#9c179e"
                          ],
                          [
                            0.4444444444444444,
                            "#bd3786"
                          ],
                          [
                            0.5555555555555556,
                            "#d8576b"
                          ],
                          [
                            0.6666666666666666,
                            "#ed7953"
                          ],
                          [
                            0.7777777777777778,
                            "#fb9f3a"
                          ],
                          [
                            0.8888888888888888,
                            "#fdca26"
                          ],
                          [
                            1,
                            "#f0f921"
                          ]
                        ],
                        "type": "histogram2dcontour"
                      }
                    ],
                    "mesh3d": [
                      {
                        "colorbar": {
                          "outlinewidth": 0,
                          "ticks": ""
                        },
                        "type": "mesh3d"
                      }
                    ],
                    "parcoords": [
                      {
                        "line": {
                          "colorbar": {
                            "outlinewidth": 0,
                            "ticks": ""
                          }
                        },
                        "type": "parcoords"
                      }
                    ],
                    "pie": [
                      {
                        "automargin": true,
                        "type": "pie"
                      }
                    ],
                    "scatter": [
                      {
                        "marker": {
                          "colorbar": {
                            "outlinewidth": 0,
                            "ticks": ""
                          }
                        },
                        "type": "scatter"
                      }
                    ],
                    "scatter3d": [
                      {
                        "line": {
                          "colorbar": {
                            "outlinewidth": 0,
                            "ticks": ""
                          }
                        },
                        "marker": {
                          "colorbar": {
                            "outlinewidth": 0,
                            "ticks": ""
                          }
                        },
                        "type": "scatter3d"
                      }
                    ],
                    "scattercarpet": [
                      {
                        "marker": {
                          "colorbar": {
                            "outlinewidth": 0,
                            "ticks": ""
                          }
                        },
                        "type": "scattercarpet"
                      }
                    ],
                    "scattergeo": [
                      {
                        "marker": {
                          "colorbar": {
                            "outlinewidth": 0,
                            "ticks": ""
                          }
                        },
                        "type": "scattergeo"
                      }
                    ],
                    "scattergl": [
                      {
                        "marker": {
                          "colorbar": {
                            "outlinewidth": 0,
                            "ticks": ""
                          }
                        },
                        "type": "scattergl"
                      }
                    ],
                    "scattermapbox": [
                      {
                        "marker": {
                          "colorbar": {
                            "outlinewidth": 0,
                            "ticks": ""
                          }
                        },
                        "type": "scattermapbox"
                      }
                    ],
                    "scatterpolar": [
                      {
                        "marker": {
                          "colorbar": {
                            "outlinewidth": 0,
                            "ticks": ""
                          }
                        },
                        "type": "scatterpolar"
                      }
                    ],
                    "scatterpolargl": [
                      {
                        "marker": {
                          "colorbar": {
                            "outlinewidth": 0,
                            "ticks": ""
                          }
                        },
                        "type": "scatterpolargl"
                      }
                    ],
                    "scatterternary": [
                      {
                        "marker": {
                          "colorbar": {
                            "outlinewidth": 0,
                            "ticks": ""
                          }
                        },
                        "type": "scatterternary"
                      }
                    ],
                    "surface": [
                      {
                        "colorbar": {
                          "outlinewidth": 0,
                          "ticks": ""
                        },
                        "colorscale": [
                          [
                            0,
                            "#0d0887"
                          ],
                          [
                            0.1111111111111111,
                            "#46039f"
                          ],
                          [
                            0.2222222222222222,
                            "#7201a8"
                          ],
                          [
                            0.3333333333333333,
                            "#9c179e"
                          ],
                          [
                            0.4444444444444444,
                            "#bd3786"
                          ],
                          [
                            0.5555555555555556,
                            "#d8576b"
                          ],
                          [
                            0.6666666666666666,
                            "#ed7953"
                          ],
                          [
                            0.7777777777777778,
                            "#fb9f3a"
                          ],
                          [
                            0.8888888888888888,
                            "#fdca26"
                          ],
                          [
                            1,
                            "#f0f921"
                          ]
                        ],
                        "type": "surface"
                      }
                    ],
                    "table": [
                      {
                        "cells": {
                          "fill": {
                            "color": "#EBF0F8"
                          },
                          "line": {
                            "color": "white"
                          }
                        },
                        "header": {
                          "fill": {
                            "color": "#C8D4E3"
                          },
                          "line": {
                            "color": "white"
                          }
                        },
                        "type": "table"
                      }
                    ]
                  },
                  "layout": {
                    "annotationdefaults": {
                      "arrowcolor": "#2a3f5f",
                      "arrowhead": 0,
                      "arrowwidth": 1
                    },
                    "autotypenumbers": "strict",
                    "coloraxis": {
                      "colorbar": {
                        "outlinewidth": 0,
                        "ticks": ""
                      }
                    },
                    "colorscale": {
                      "diverging": [
                        [
                          0,
                          "#8e0152"
                        ],
                        [
                          0.1,
                          "#c51b7d"
                        ],
                        [
                          0.2,
                          "#de77ae"
                        ],
                        [
                          0.3,
                          "#f1b6da"
                        ],
                        [
                          0.4,
                          "#fde0ef"
                        ],
                        [
                          0.5,
                          "#f7f7f7"
                        ],
                        [
                          0.6,
                          "#e6f5d0"
                        ],
                        [
                          0.7,
                          "#b8e186"
                        ],
                        [
                          0.8,
                          "#7fbc41"
                        ],
                        [
                          0.9,
                          "#4d9221"
                        ],
                        [
                          1,
                          "#276419"
                        ]
                      ],
                      "sequential": [
                        [
                          0,
                          "#0d0887"
                        ],
                        [
                          0.1111111111111111,
                          "#46039f"
                        ],
                        [
                          0.2222222222222222,
                          "#7201a8"
                        ],
                        [
                          0.3333333333333333,
                          "#9c179e"
                        ],
                        [
                          0.4444444444444444,
                          "#bd3786"
                        ],
                        [
                          0.5555555555555556,
                          "#d8576b"
                        ],
                        [
                          0.6666666666666666,
                          "#ed7953"
                        ],
                        [
                          0.7777777777777778,
                          "#fb9f3a"
                        ],
                        [
                          0.8888888888888888,
                          "#fdca26"
                        ],
                        [
                          1,
                          "#f0f921"
                        ]
                      ],
                      "sequentialminus": [
                        [
                          0,
                          "#0d0887"
                        ],
                        [
                          0.1111111111111111,
                          "#46039f"
                        ],
                        [
                          0.2222222222222222,
                          "#7201a8"
                        ],
                        [
                          0.3333333333333333,
                          "#9c179e"
                        ],
                        [
                          0.4444444444444444,
                          "#bd3786"
                        ],
                        [
                          0.5555555555555556,
                          "#d8576b"
                        ],
                        [
                          0.6666666666666666,
                          "#ed7953"
                        ],
                        [
                          0.7777777777777778,
                          "#fb9f3a"
                        ],
                        [
                          0.8888888888888888,
                          "#fdca26"
                        ],
                        [
                          1,
                          "#f0f921"
                        ]
                      ]
                    },
                    "colorway": [
                      "#636efa",
                      "#EF553B",
                      "#00cc96",
                      "#ab63fa",
                      "#FFA15A",
                      "#19d3f3",
                      "#FF6692",
                      "#B6E880",
                      "#FF97FF",
                      "#FECB52"
                    ],
                    "font": {
                      "color": "#2a3f5f"
                    },
                    "geo": {
                      "bgcolor": "white",
                      "lakecolor": "white",
                      "landcolor": "#E5ECF6",
                      "showlakes": true,
                      "showland": true,
                      "subunitcolor": "white"
                    },
                    "hoverlabel": {
                      "align": "left"
                    },
                    "hovermode": "closest",
                    "mapbox": {
                      "style": "light"
                    },
                    "paper_bgcolor": "white",
                    "plot_bgcolor": "#E5ECF6",
                    "polar": {
                      "angularaxis": {
                        "gridcolor": "white",
                        "linecolor": "white",
                        "ticks": ""
                      },
                      "bgcolor": "#E5ECF6",
                      "radialaxis": {
                        "gridcolor": "white",
                        "linecolor": "white",
                        "ticks": ""
                      }
                    },
                    "scene": {
                      "xaxis": {
                        "backgroundcolor": "#E5ECF6",
                        "gridcolor": "white",
                        "gridwidth": 2,
                        "linecolor": "white",
                        "showbackground": true,
                        "ticks": "",
                        "zerolinecolor": "white"
                      },
                      "yaxis": {
                        "backgroundcolor": "#E5ECF6",
                        "gridcolor": "white",
                        "gridwidth": 2,
                        "linecolor": "white",
                        "showbackground": true,
                        "ticks": "",
                        "zerolinecolor": "white"
                      },
                      "zaxis": {
                        "backgroundcolor": "#E5ECF6",
                        "gridcolor": "white",
                        "gridwidth": 2,
                        "linecolor": "white",
                        "showbackground": true,
                        "ticks": "",
                        "zerolinecolor": "white"
                      }
                    },
                    "shapedefaults": {
                      "line": {
                        "color": "#2a3f5f"
                      }
                    },
                    "ternary": {
                      "aaxis": {
                        "gridcolor": "white",
                        "linecolor": "white",
                        "ticks": ""
                      },
                      "baxis": {
                        "gridcolor": "white",
                        "linecolor": "white",
                        "ticks": ""
                      },
                      "bgcolor": "#E5ECF6",
                      "caxis": {
                        "gridcolor": "white",
                        "linecolor": "white",
                        "ticks": ""
                      }
                    },
                    "title": {
                      "x": 0.05
                    },
                    "xaxis": {
                      "automargin": true,
                      "gridcolor": "white",
                      "linecolor": "white",
                      "ticks": "",
                      "title": {
                        "standoff": 15
                      },
                      "zerolinecolor": "white",
                      "zerolinewidth": 2
                    },
                    "yaxis": {
                      "automargin": true,
                      "gridcolor": "white",
                      "linecolor": "white",
                      "ticks": "",
                      "title": {
                        "standoff": 15
                      },
                      "zerolinecolor": "white",
                      "zerolinewidth": 2
                    }
                  }
                }
              }
            },
            "text/html": [
              "<div>                            <div id=\"76153576-3718-4f5a-846b-44a2c270838a\" class=\"plotly-graph-div\" style=\"height:525px; width:100%;\"></div>            <script type=\"text/javascript\">                require([\"plotly\"], function(Plotly) {                    window.PLOTLYENV=window.PLOTLYENV || {};                                    if (document.getElementById(\"76153576-3718-4f5a-846b-44a2c270838a\")) {                    Plotly.newPlot(                        \"76153576-3718-4f5a-846b-44a2c270838a\",                        [{\"domain\":{\"x\":[0.0,1.0],\"y\":[0.0,1.0]},\"hovertemplate\":\"type=%{label}<br>show_id=%{value}<extra></extra>\",\"labels\":[\"Movie\",\"TV Show\"],\"legendgroup\":\"\",\"name\":\"\",\"showlegend\":true,\"values\":[6131,2676],\"type\":\"pie\"}],                        {\"template\":{\"data\":{\"bar\":[{\"error_x\":{\"color\":\"#2a3f5f\"},\"error_y\":{\"color\":\"#2a3f5f\"},\"marker\":{\"line\":{\"color\":\"#E5ECF6\",\"width\":0.5},\"pattern\":{\"fillmode\":\"overlay\",\"size\":10,\"solidity\":0.2}},\"type\":\"bar\"}],\"barpolar\":[{\"marker\":{\"line\":{\"color\":\"#E5ECF6\",\"width\":0.5},\"pattern\":{\"fillmode\":\"overlay\",\"size\":10,\"solidity\":0.2}},\"type\":\"barpolar\"}],\"carpet\":[{\"aaxis\":{\"endlinecolor\":\"#2a3f5f\",\"gridcolor\":\"white\",\"linecolor\":\"white\",\"minorgridcolor\":\"white\",\"startlinecolor\":\"#2a3f5f\"},\"baxis\":{\"endlinecolor\":\"#2a3f5f\",\"gridcolor\":\"white\",\"linecolor\":\"white\",\"minorgridcolor\":\"white\",\"startlinecolor\":\"#2a3f5f\"},\"type\":\"carpet\"}],\"choropleth\":[{\"colorbar\":{\"outlinewidth\":0,\"ticks\":\"\"},\"type\":\"choropleth\"}],\"contour\":[{\"colorbar\":{\"outlinewidth\":0,\"ticks\":\"\"},\"colorscale\":[[0.0,\"#0d0887\"],[0.1111111111111111,\"#46039f\"],[0.2222222222222222,\"#7201a8\"],[0.3333333333333333,\"#9c179e\"],[0.4444444444444444,\"#bd3786\"],[0.5555555555555556,\"#d8576b\"],[0.6666666666666666,\"#ed7953\"],[0.7777777777777778,\"#fb9f3a\"],[0.8888888888888888,\"#fdca26\"],[1.0,\"#f0f921\"]],\"type\":\"contour\"}],\"contourcarpet\":[{\"colorbar\":{\"outlinewidth\":0,\"ticks\":\"\"},\"type\":\"contourcarpet\"}],\"heatmap\":[{\"colorbar\":{\"outlinewidth\":0,\"ticks\":\"\"},\"colorscale\":[[0.0,\"#0d0887\"],[0.1111111111111111,\"#46039f\"],[0.2222222222222222,\"#7201a8\"],[0.3333333333333333,\"#9c179e\"],[0.4444444444444444,\"#bd3786\"],[0.5555555555555556,\"#d8576b\"],[0.6666666666666666,\"#ed7953\"],[0.7777777777777778,\"#fb9f3a\"],[0.8888888888888888,\"#fdca26\"],[1.0,\"#f0f921\"]],\"type\":\"heatmap\"}],\"heatmapgl\":[{\"colorbar\":{\"outlinewidth\":0,\"ticks\":\"\"},\"colorscale\":[[0.0,\"#0d0887\"],[0.1111111111111111,\"#46039f\"],[0.2222222222222222,\"#7201a8\"],[0.3333333333333333,\"#9c179e\"],[0.4444444444444444,\"#bd3786\"],[0.5555555555555556,\"#d8576b\"],[0.6666666666666666,\"#ed7953\"],[0.7777777777777778,\"#fb9f3a\"],[0.8888888888888888,\"#fdca26\"],[1.0,\"#f0f921\"]],\"type\":\"heatmapgl\"}],\"histogram\":[{\"marker\":{\"pattern\":{\"fillmode\":\"overlay\",\"size\":10,\"solidity\":0.2}},\"type\":\"histogram\"}],\"histogram2d\":[{\"colorbar\":{\"outlinewidth\":0,\"ticks\":\"\"},\"colorscale\":[[0.0,\"#0d0887\"],[0.1111111111111111,\"#46039f\"],[0.2222222222222222,\"#7201a8\"],[0.3333333333333333,\"#9c179e\"],[0.4444444444444444,\"#bd3786\"],[0.5555555555555556,\"#d8576b\"],[0.6666666666666666,\"#ed7953\"],[0.7777777777777778,\"#fb9f3a\"],[0.8888888888888888,\"#fdca26\"],[1.0,\"#f0f921\"]],\"type\":\"histogram2d\"}],\"histogram2dcontour\":[{\"colorbar\":{\"outlinewidth\":0,\"ticks\":\"\"},\"colorscale\":[[0.0,\"#0d0887\"],[0.1111111111111111,\"#46039f\"],[0.2222222222222222,\"#7201a8\"],[0.3333333333333333,\"#9c179e\"],[0.4444444444444444,\"#bd3786\"],[0.5555555555555556,\"#d8576b\"],[0.6666666666666666,\"#ed7953\"],[0.7777777777777778,\"#fb9f3a\"],[0.8888888888888888,\"#fdca26\"],[1.0,\"#f0f921\"]],\"type\":\"histogram2dcontour\"}],\"mesh3d\":[{\"colorbar\":{\"outlinewidth\":0,\"ticks\":\"\"},\"type\":\"mesh3d\"}],\"parcoords\":[{\"line\":{\"colorbar\":{\"outlinewidth\":0,\"ticks\":\"\"}},\"type\":\"parcoords\"}],\"pie\":[{\"automargin\":true,\"type\":\"pie\"}],\"scatter\":[{\"marker\":{\"colorbar\":{\"outlinewidth\":0,\"ticks\":\"\"}},\"type\":\"scatter\"}],\"scatter3d\":[{\"line\":{\"colorbar\":{\"outlinewidth\":0,\"ticks\":\"\"}},\"marker\":{\"colorbar\":{\"outlinewidth\":0,\"ticks\":\"\"}},\"type\":\"scatter3d\"}],\"scattercarpet\":[{\"marker\":{\"colorbar\":{\"outlinewidth\":0,\"ticks\":\"\"}},\"type\":\"scattercarpet\"}],\"scattergeo\":[{\"marker\":{\"colorbar\":{\"outlinewidth\":0,\"ticks\":\"\"}},\"type\":\"scattergeo\"}],\"scattergl\":[{\"marker\":{\"colorbar\":{\"outlinewidth\":0,\"ticks\":\"\"}},\"type\":\"scattergl\"}],\"scattermapbox\":[{\"marker\":{\"colorbar\":{\"outlinewidth\":0,\"ticks\":\"\"}},\"type\":\"scattermapbox\"}],\"scatterpolar\":[{\"marker\":{\"colorbar\":{\"outlinewidth\":0,\"ticks\":\"\"}},\"type\":\"scatterpolar\"}],\"scatterpolargl\":[{\"marker\":{\"colorbar\":{\"outlinewidth\":0,\"ticks\":\"\"}},\"type\":\"scatterpolargl\"}],\"scatterternary\":[{\"marker\":{\"colorbar\":{\"outlinewidth\":0,\"ticks\":\"\"}},\"type\":\"scatterternary\"}],\"surface\":[{\"colorbar\":{\"outlinewidth\":0,\"ticks\":\"\"},\"colorscale\":[[0.0,\"#0d0887\"],[0.1111111111111111,\"#46039f\"],[0.2222222222222222,\"#7201a8\"],[0.3333333333333333,\"#9c179e\"],[0.4444444444444444,\"#bd3786\"],[0.5555555555555556,\"#d8576b\"],[0.6666666666666666,\"#ed7953\"],[0.7777777777777778,\"#fb9f3a\"],[0.8888888888888888,\"#fdca26\"],[1.0,\"#f0f921\"]],\"type\":\"surface\"}],\"table\":[{\"cells\":{\"fill\":{\"color\":\"#EBF0F8\"},\"line\":{\"color\":\"white\"}},\"header\":{\"fill\":{\"color\":\"#C8D4E3\"},\"line\":{\"color\":\"white\"}},\"type\":\"table\"}]},\"layout\":{\"annotationdefaults\":{\"arrowcolor\":\"#2a3f5f\",\"arrowhead\":0,\"arrowwidth\":1},\"autotypenumbers\":\"strict\",\"coloraxis\":{\"colorbar\":{\"outlinewidth\":0,\"ticks\":\"\"}},\"colorscale\":{\"diverging\":[[0,\"#8e0152\"],[0.1,\"#c51b7d\"],[0.2,\"#de77ae\"],[0.3,\"#f1b6da\"],[0.4,\"#fde0ef\"],[0.5,\"#f7f7f7\"],[0.6,\"#e6f5d0\"],[0.7,\"#b8e186\"],[0.8,\"#7fbc41\"],[0.9,\"#4d9221\"],[1,\"#276419\"]],\"sequential\":[[0.0,\"#0d0887\"],[0.1111111111111111,\"#46039f\"],[0.2222222222222222,\"#7201a8\"],[0.3333333333333333,\"#9c179e\"],[0.4444444444444444,\"#bd3786\"],[0.5555555555555556,\"#d8576b\"],[0.6666666666666666,\"#ed7953\"],[0.7777777777777778,\"#fb9f3a\"],[0.8888888888888888,\"#fdca26\"],[1.0,\"#f0f921\"]],\"sequentialminus\":[[0.0,\"#0d0887\"],[0.1111111111111111,\"#46039f\"],[0.2222222222222222,\"#7201a8\"],[0.3333333333333333,\"#9c179e\"],[0.4444444444444444,\"#bd3786\"],[0.5555555555555556,\"#d8576b\"],[0.6666666666666666,\"#ed7953\"],[0.7777777777777778,\"#fb9f3a\"],[0.8888888888888888,\"#fdca26\"],[1.0,\"#f0f921\"]]},\"colorway\":[\"#636efa\",\"#EF553B\",\"#00cc96\",\"#ab63fa\",\"#FFA15A\",\"#19d3f3\",\"#FF6692\",\"#B6E880\",\"#FF97FF\",\"#FECB52\"],\"font\":{\"color\":\"#2a3f5f\"},\"geo\":{\"bgcolor\":\"white\",\"lakecolor\":\"white\",\"landcolor\":\"#E5ECF6\",\"showlakes\":true,\"showland\":true,\"subunitcolor\":\"white\"},\"hoverlabel\":{\"align\":\"left\"},\"hovermode\":\"closest\",\"mapbox\":{\"style\":\"light\"},\"paper_bgcolor\":\"white\",\"plot_bgcolor\":\"#E5ECF6\",\"polar\":{\"angularaxis\":{\"gridcolor\":\"white\",\"linecolor\":\"white\",\"ticks\":\"\"},\"bgcolor\":\"#E5ECF6\",\"radialaxis\":{\"gridcolor\":\"white\",\"linecolor\":\"white\",\"ticks\":\"\"}},\"scene\":{\"xaxis\":{\"backgroundcolor\":\"#E5ECF6\",\"gridcolor\":\"white\",\"gridwidth\":2,\"linecolor\":\"white\",\"showbackground\":true,\"ticks\":\"\",\"zerolinecolor\":\"white\"},\"yaxis\":{\"backgroundcolor\":\"#E5ECF6\",\"gridcolor\":\"white\",\"gridwidth\":2,\"linecolor\":\"white\",\"showbackground\":true,\"ticks\":\"\",\"zerolinecolor\":\"white\"},\"zaxis\":{\"backgroundcolor\":\"#E5ECF6\",\"gridcolor\":\"white\",\"gridwidth\":2,\"linecolor\":\"white\",\"showbackground\":true,\"ticks\":\"\",\"zerolinecolor\":\"white\"}},\"shapedefaults\":{\"line\":{\"color\":\"#2a3f5f\"}},\"ternary\":{\"aaxis\":{\"gridcolor\":\"white\",\"linecolor\":\"white\",\"ticks\":\"\"},\"baxis\":{\"gridcolor\":\"white\",\"linecolor\":\"white\",\"ticks\":\"\"},\"bgcolor\":\"#E5ECF6\",\"caxis\":{\"gridcolor\":\"white\",\"linecolor\":\"white\",\"ticks\":\"\"}},\"title\":{\"x\":0.05},\"xaxis\":{\"automargin\":true,\"gridcolor\":\"white\",\"linecolor\":\"white\",\"ticks\":\"\",\"title\":{\"standoff\":15},\"zerolinecolor\":\"white\",\"zerolinewidth\":2},\"yaxis\":{\"automargin\":true,\"gridcolor\":\"white\",\"linecolor\":\"white\",\"ticks\":\"\",\"title\":{\"standoff\":15},\"zerolinecolor\":\"white\",\"zerolinewidth\":2}}},\"legend\":{\"tracegroupgap\":0},\"margin\":{\"t\":60}},                        {\"responsive\": true}                    ).then(function(){\n",
              "                            \n",
              "var gd = document.getElementById('76153576-3718-4f5a-846b-44a2c270838a');\n",
              "var x = new MutationObserver(function (mutations, observer) {{\n",
              "        var display = window.getComputedStyle(gd).display;\n",
              "        if (!display || display === 'none') {{\n",
              "            console.log([gd, 'removed!']);\n",
              "            Plotly.purge(gd);\n",
              "            observer.disconnect();\n",
              "        }}\n",
              "}});\n",
              "\n",
              "// Listen for the removal of the full notebook cells\n",
              "var notebookContainer = gd.closest('#notebook-container');\n",
              "if (notebookContainer) {{\n",
              "    x.observe(notebookContainer, {childList: true});\n",
              "}}\n",
              "\n",
              "// Listen for the clearing of the current output cell\n",
              "var outputEl = gd.closest('.output');\n",
              "if (outputEl) {{\n",
              "    x.observe(outputEl, {childList: true});\n",
              "}}\n",
              "\n",
              "                        })                };                });            </script>        </div>"
            ]
          },
          "metadata": {},
          "output_type": "display_data"
        }
      ],
      "source": [
        "px.pie(df_agg, names='type', values='show_id')"
      ]
    },
    {
      "cell_type": "code",
      "execution_count": null,
      "id": "64ffefa0",
      "metadata": {
        "id": "64ffefa0"
      },
      "outputs": [],
      "source": [
        "# funnel chart\n",
        "df_agg = df.groupby('rating').agg({\n",
        "    'show_id': 'count'\n",
        "}).reset_index()"
      ]
    },
    {
      "cell_type": "code",
      "execution_count": null,
      "id": "182c0177",
      "metadata": {
        "id": "182c0177",
        "outputId": "bfd11c19-9ad8-4ba9-e076-c52f94866495"
      },
      "outputs": [
        {
          "data": {
            "application/vnd.plotly.v1+json": {
              "config": {
                "plotlyServerURL": "https://plot.ly"
              },
              "data": [
                {
                  "hovertemplate": "show_id=%{x}<br>rating=%{y}<extra></extra>",
                  "legendgroup": "",
                  "marker": {
                    "color": "#636efa"
                  },
                  "name": "",
                  "orientation": "h",
                  "showlegend": false,
                  "type": "funnel",
                  "x": [
                    1,
                    1,
                    1,
                    41,
                    3,
                    80,
                    287,
                    490,
                    799,
                    2160,
                    220,
                    3207,
                    863,
                    307,
                    334,
                    6,
                    3
                  ],
                  "xaxis": "x",
                  "y": [
                    "66 min",
                    "74 min",
                    "84 min",
                    "G",
                    "NC-17",
                    "NR",
                    "PG",
                    "PG-13",
                    "R",
                    "TV-14",
                    "TV-G",
                    "TV-MA",
                    "TV-PG",
                    "TV-Y",
                    "TV-Y7",
                    "TV-Y7-FV",
                    "UR"
                  ],
                  "yaxis": "y"
                }
              ],
              "layout": {
                "legend": {
                  "tracegroupgap": 0
                },
                "margin": {
                  "t": 60
                },
                "template": {
                  "data": {
                    "bar": [
                      {
                        "error_x": {
                          "color": "#2a3f5f"
                        },
                        "error_y": {
                          "color": "#2a3f5f"
                        },
                        "marker": {
                          "line": {
                            "color": "#E5ECF6",
                            "width": 0.5
                          },
                          "pattern": {
                            "fillmode": "overlay",
                            "size": 10,
                            "solidity": 0.2
                          }
                        },
                        "type": "bar"
                      }
                    ],
                    "barpolar": [
                      {
                        "marker": {
                          "line": {
                            "color": "#E5ECF6",
                            "width": 0.5
                          },
                          "pattern": {
                            "fillmode": "overlay",
                            "size": 10,
                            "solidity": 0.2
                          }
                        },
                        "type": "barpolar"
                      }
                    ],
                    "carpet": [
                      {
                        "aaxis": {
                          "endlinecolor": "#2a3f5f",
                          "gridcolor": "white",
                          "linecolor": "white",
                          "minorgridcolor": "white",
                          "startlinecolor": "#2a3f5f"
                        },
                        "baxis": {
                          "endlinecolor": "#2a3f5f",
                          "gridcolor": "white",
                          "linecolor": "white",
                          "minorgridcolor": "white",
                          "startlinecolor": "#2a3f5f"
                        },
                        "type": "carpet"
                      }
                    ],
                    "choropleth": [
                      {
                        "colorbar": {
                          "outlinewidth": 0,
                          "ticks": ""
                        },
                        "type": "choropleth"
                      }
                    ],
                    "contour": [
                      {
                        "colorbar": {
                          "outlinewidth": 0,
                          "ticks": ""
                        },
                        "colorscale": [
                          [
                            0,
                            "#0d0887"
                          ],
                          [
                            0.1111111111111111,
                            "#46039f"
                          ],
                          [
                            0.2222222222222222,
                            "#7201a8"
                          ],
                          [
                            0.3333333333333333,
                            "#9c179e"
                          ],
                          [
                            0.4444444444444444,
                            "#bd3786"
                          ],
                          [
                            0.5555555555555556,
                            "#d8576b"
                          ],
                          [
                            0.6666666666666666,
                            "#ed7953"
                          ],
                          [
                            0.7777777777777778,
                            "#fb9f3a"
                          ],
                          [
                            0.8888888888888888,
                            "#fdca26"
                          ],
                          [
                            1,
                            "#f0f921"
                          ]
                        ],
                        "type": "contour"
                      }
                    ],
                    "contourcarpet": [
                      {
                        "colorbar": {
                          "outlinewidth": 0,
                          "ticks": ""
                        },
                        "type": "contourcarpet"
                      }
                    ],
                    "heatmap": [
                      {
                        "colorbar": {
                          "outlinewidth": 0,
                          "ticks": ""
                        },
                        "colorscale": [
                          [
                            0,
                            "#0d0887"
                          ],
                          [
                            0.1111111111111111,
                            "#46039f"
                          ],
                          [
                            0.2222222222222222,
                            "#7201a8"
                          ],
                          [
                            0.3333333333333333,
                            "#9c179e"
                          ],
                          [
                            0.4444444444444444,
                            "#bd3786"
                          ],
                          [
                            0.5555555555555556,
                            "#d8576b"
                          ],
                          [
                            0.6666666666666666,
                            "#ed7953"
                          ],
                          [
                            0.7777777777777778,
                            "#fb9f3a"
                          ],
                          [
                            0.8888888888888888,
                            "#fdca26"
                          ],
                          [
                            1,
                            "#f0f921"
                          ]
                        ],
                        "type": "heatmap"
                      }
                    ],
                    "heatmapgl": [
                      {
                        "colorbar": {
                          "outlinewidth": 0,
                          "ticks": ""
                        },
                        "colorscale": [
                          [
                            0,
                            "#0d0887"
                          ],
                          [
                            0.1111111111111111,
                            "#46039f"
                          ],
                          [
                            0.2222222222222222,
                            "#7201a8"
                          ],
                          [
                            0.3333333333333333,
                            "#9c179e"
                          ],
                          [
                            0.4444444444444444,
                            "#bd3786"
                          ],
                          [
                            0.5555555555555556,
                            "#d8576b"
                          ],
                          [
                            0.6666666666666666,
                            "#ed7953"
                          ],
                          [
                            0.7777777777777778,
                            "#fb9f3a"
                          ],
                          [
                            0.8888888888888888,
                            "#fdca26"
                          ],
                          [
                            1,
                            "#f0f921"
                          ]
                        ],
                        "type": "heatmapgl"
                      }
                    ],
                    "histogram": [
                      {
                        "marker": {
                          "pattern": {
                            "fillmode": "overlay",
                            "size": 10,
                            "solidity": 0.2
                          }
                        },
                        "type": "histogram"
                      }
                    ],
                    "histogram2d": [
                      {
                        "colorbar": {
                          "outlinewidth": 0,
                          "ticks": ""
                        },
                        "colorscale": [
                          [
                            0,
                            "#0d0887"
                          ],
                          [
                            0.1111111111111111,
                            "#46039f"
                          ],
                          [
                            0.2222222222222222,
                            "#7201a8"
                          ],
                          [
                            0.3333333333333333,
                            "#9c179e"
                          ],
                          [
                            0.4444444444444444,
                            "#bd3786"
                          ],
                          [
                            0.5555555555555556,
                            "#d8576b"
                          ],
                          [
                            0.6666666666666666,
                            "#ed7953"
                          ],
                          [
                            0.7777777777777778,
                            "#fb9f3a"
                          ],
                          [
                            0.8888888888888888,
                            "#fdca26"
                          ],
                          [
                            1,
                            "#f0f921"
                          ]
                        ],
                        "type": "histogram2d"
                      }
                    ],
                    "histogram2dcontour": [
                      {
                        "colorbar": {
                          "outlinewidth": 0,
                          "ticks": ""
                        },
                        "colorscale": [
                          [
                            0,
                            "#0d0887"
                          ],
                          [
                            0.1111111111111111,
                            "#46039f"
                          ],
                          [
                            0.2222222222222222,
                            "#7201a8"
                          ],
                          [
                            0.3333333333333333,
                            "#9c179e"
                          ],
                          [
                            0.4444444444444444,
                            "#bd3786"
                          ],
                          [
                            0.5555555555555556,
                            "#d8576b"
                          ],
                          [
                            0.6666666666666666,
                            "#ed7953"
                          ],
                          [
                            0.7777777777777778,
                            "#fb9f3a"
                          ],
                          [
                            0.8888888888888888,
                            "#fdca26"
                          ],
                          [
                            1,
                            "#f0f921"
                          ]
                        ],
                        "type": "histogram2dcontour"
                      }
                    ],
                    "mesh3d": [
                      {
                        "colorbar": {
                          "outlinewidth": 0,
                          "ticks": ""
                        },
                        "type": "mesh3d"
                      }
                    ],
                    "parcoords": [
                      {
                        "line": {
                          "colorbar": {
                            "outlinewidth": 0,
                            "ticks": ""
                          }
                        },
                        "type": "parcoords"
                      }
                    ],
                    "pie": [
                      {
                        "automargin": true,
                        "type": "pie"
                      }
                    ],
                    "scatter": [
                      {
                        "marker": {
                          "colorbar": {
                            "outlinewidth": 0,
                            "ticks": ""
                          }
                        },
                        "type": "scatter"
                      }
                    ],
                    "scatter3d": [
                      {
                        "line": {
                          "colorbar": {
                            "outlinewidth": 0,
                            "ticks": ""
                          }
                        },
                        "marker": {
                          "colorbar": {
                            "outlinewidth": 0,
                            "ticks": ""
                          }
                        },
                        "type": "scatter3d"
                      }
                    ],
                    "scattercarpet": [
                      {
                        "marker": {
                          "colorbar": {
                            "outlinewidth": 0,
                            "ticks": ""
                          }
                        },
                        "type": "scattercarpet"
                      }
                    ],
                    "scattergeo": [
                      {
                        "marker": {
                          "colorbar": {
                            "outlinewidth": 0,
                            "ticks": ""
                          }
                        },
                        "type": "scattergeo"
                      }
                    ],
                    "scattergl": [
                      {
                        "marker": {
                          "colorbar": {
                            "outlinewidth": 0,
                            "ticks": ""
                          }
                        },
                        "type": "scattergl"
                      }
                    ],
                    "scattermapbox": [
                      {
                        "marker": {
                          "colorbar": {
                            "outlinewidth": 0,
                            "ticks": ""
                          }
                        },
                        "type": "scattermapbox"
                      }
                    ],
                    "scatterpolar": [
                      {
                        "marker": {
                          "colorbar": {
                            "outlinewidth": 0,
                            "ticks": ""
                          }
                        },
                        "type": "scatterpolar"
                      }
                    ],
                    "scatterpolargl": [
                      {
                        "marker": {
                          "colorbar": {
                            "outlinewidth": 0,
                            "ticks": ""
                          }
                        },
                        "type": "scatterpolargl"
                      }
                    ],
                    "scatterternary": [
                      {
                        "marker": {
                          "colorbar": {
                            "outlinewidth": 0,
                            "ticks": ""
                          }
                        },
                        "type": "scatterternary"
                      }
                    ],
                    "surface": [
                      {
                        "colorbar": {
                          "outlinewidth": 0,
                          "ticks": ""
                        },
                        "colorscale": [
                          [
                            0,
                            "#0d0887"
                          ],
                          [
                            0.1111111111111111,
                            "#46039f"
                          ],
                          [
                            0.2222222222222222,
                            "#7201a8"
                          ],
                          [
                            0.3333333333333333,
                            "#9c179e"
                          ],
                          [
                            0.4444444444444444,
                            "#bd3786"
                          ],
                          [
                            0.5555555555555556,
                            "#d8576b"
                          ],
                          [
                            0.6666666666666666,
                            "#ed7953"
                          ],
                          [
                            0.7777777777777778,
                            "#fb9f3a"
                          ],
                          [
                            0.8888888888888888,
                            "#fdca26"
                          ],
                          [
                            1,
                            "#f0f921"
                          ]
                        ],
                        "type": "surface"
                      }
                    ],
                    "table": [
                      {
                        "cells": {
                          "fill": {
                            "color": "#EBF0F8"
                          },
                          "line": {
                            "color": "white"
                          }
                        },
                        "header": {
                          "fill": {
                            "color": "#C8D4E3"
                          },
                          "line": {
                            "color": "white"
                          }
                        },
                        "type": "table"
                      }
                    ]
                  },
                  "layout": {
                    "annotationdefaults": {
                      "arrowcolor": "#2a3f5f",
                      "arrowhead": 0,
                      "arrowwidth": 1
                    },
                    "autotypenumbers": "strict",
                    "coloraxis": {
                      "colorbar": {
                        "outlinewidth": 0,
                        "ticks": ""
                      }
                    },
                    "colorscale": {
                      "diverging": [
                        [
                          0,
                          "#8e0152"
                        ],
                        [
                          0.1,
                          "#c51b7d"
                        ],
                        [
                          0.2,
                          "#de77ae"
                        ],
                        [
                          0.3,
                          "#f1b6da"
                        ],
                        [
                          0.4,
                          "#fde0ef"
                        ],
                        [
                          0.5,
                          "#f7f7f7"
                        ],
                        [
                          0.6,
                          "#e6f5d0"
                        ],
                        [
                          0.7,
                          "#b8e186"
                        ],
                        [
                          0.8,
                          "#7fbc41"
                        ],
                        [
                          0.9,
                          "#4d9221"
                        ],
                        [
                          1,
                          "#276419"
                        ]
                      ],
                      "sequential": [
                        [
                          0,
                          "#0d0887"
                        ],
                        [
                          0.1111111111111111,
                          "#46039f"
                        ],
                        [
                          0.2222222222222222,
                          "#7201a8"
                        ],
                        [
                          0.3333333333333333,
                          "#9c179e"
                        ],
                        [
                          0.4444444444444444,
                          "#bd3786"
                        ],
                        [
                          0.5555555555555556,
                          "#d8576b"
                        ],
                        [
                          0.6666666666666666,
                          "#ed7953"
                        ],
                        [
                          0.7777777777777778,
                          "#fb9f3a"
                        ],
                        [
                          0.8888888888888888,
                          "#fdca26"
                        ],
                        [
                          1,
                          "#f0f921"
                        ]
                      ],
                      "sequentialminus": [
                        [
                          0,
                          "#0d0887"
                        ],
                        [
                          0.1111111111111111,
                          "#46039f"
                        ],
                        [
                          0.2222222222222222,
                          "#7201a8"
                        ],
                        [
                          0.3333333333333333,
                          "#9c179e"
                        ],
                        [
                          0.4444444444444444,
                          "#bd3786"
                        ],
                        [
                          0.5555555555555556,
                          "#d8576b"
                        ],
                        [
                          0.6666666666666666,
                          "#ed7953"
                        ],
                        [
                          0.7777777777777778,
                          "#fb9f3a"
                        ],
                        [
                          0.8888888888888888,
                          "#fdca26"
                        ],
                        [
                          1,
                          "#f0f921"
                        ]
                      ]
                    },
                    "colorway": [
                      "#636efa",
                      "#EF553B",
                      "#00cc96",
                      "#ab63fa",
                      "#FFA15A",
                      "#19d3f3",
                      "#FF6692",
                      "#B6E880",
                      "#FF97FF",
                      "#FECB52"
                    ],
                    "font": {
                      "color": "#2a3f5f"
                    },
                    "geo": {
                      "bgcolor": "white",
                      "lakecolor": "white",
                      "landcolor": "#E5ECF6",
                      "showlakes": true,
                      "showland": true,
                      "subunitcolor": "white"
                    },
                    "hoverlabel": {
                      "align": "left"
                    },
                    "hovermode": "closest",
                    "mapbox": {
                      "style": "light"
                    },
                    "paper_bgcolor": "white",
                    "plot_bgcolor": "#E5ECF6",
                    "polar": {
                      "angularaxis": {
                        "gridcolor": "white",
                        "linecolor": "white",
                        "ticks": ""
                      },
                      "bgcolor": "#E5ECF6",
                      "radialaxis": {
                        "gridcolor": "white",
                        "linecolor": "white",
                        "ticks": ""
                      }
                    },
                    "scene": {
                      "xaxis": {
                        "backgroundcolor": "#E5ECF6",
                        "gridcolor": "white",
                        "gridwidth": 2,
                        "linecolor": "white",
                        "showbackground": true,
                        "ticks": "",
                        "zerolinecolor": "white"
                      },
                      "yaxis": {
                        "backgroundcolor": "#E5ECF6",
                        "gridcolor": "white",
                        "gridwidth": 2,
                        "linecolor": "white",
                        "showbackground": true,
                        "ticks": "",
                        "zerolinecolor": "white"
                      },
                      "zaxis": {
                        "backgroundcolor": "#E5ECF6",
                        "gridcolor": "white",
                        "gridwidth": 2,
                        "linecolor": "white",
                        "showbackground": true,
                        "ticks": "",
                        "zerolinecolor": "white"
                      }
                    },
                    "shapedefaults": {
                      "line": {
                        "color": "#2a3f5f"
                      }
                    },
                    "ternary": {
                      "aaxis": {
                        "gridcolor": "white",
                        "linecolor": "white",
                        "ticks": ""
                      },
                      "baxis": {
                        "gridcolor": "white",
                        "linecolor": "white",
                        "ticks": ""
                      },
                      "bgcolor": "#E5ECF6",
                      "caxis": {
                        "gridcolor": "white",
                        "linecolor": "white",
                        "ticks": ""
                      }
                    },
                    "title": {
                      "x": 0.05
                    },
                    "xaxis": {
                      "automargin": true,
                      "gridcolor": "white",
                      "linecolor": "white",
                      "ticks": "",
                      "title": {
                        "standoff": 15
                      },
                      "zerolinecolor": "white",
                      "zerolinewidth": 2
                    },
                    "yaxis": {
                      "automargin": true,
                      "gridcolor": "white",
                      "linecolor": "white",
                      "ticks": "",
                      "title": {
                        "standoff": 15
                      },
                      "zerolinecolor": "white",
                      "zerolinewidth": 2
                    }
                  }
                },
                "xaxis": {
                  "anchor": "y",
                  "domain": [
                    0,
                    1
                  ],
                  "title": {
                    "text": "show_id"
                  }
                },
                "yaxis": {
                  "anchor": "x",
                  "domain": [
                    0,
                    1
                  ],
                  "title": {
                    "text": "rating"
                  }
                }
              }
            },
            "text/html": [
              "<div>                            <div id=\"03f8f6db-91f8-4f6c-aa32-f67257e858c3\" class=\"plotly-graph-div\" style=\"height:525px; width:100%;\"></div>            <script type=\"text/javascript\">                require([\"plotly\"], function(Plotly) {                    window.PLOTLYENV=window.PLOTLYENV || {};                                    if (document.getElementById(\"03f8f6db-91f8-4f6c-aa32-f67257e858c3\")) {                    Plotly.newPlot(                        \"03f8f6db-91f8-4f6c-aa32-f67257e858c3\",                        [{\"hovertemplate\":\"show_id=%{x}<br>rating=%{y}<extra></extra>\",\"legendgroup\":\"\",\"marker\":{\"color\":\"#636efa\"},\"name\":\"\",\"orientation\":\"h\",\"showlegend\":false,\"x\":[1,1,1,41,3,80,287,490,799,2160,220,3207,863,307,334,6,3],\"xaxis\":\"x\",\"y\":[\"66 min\",\"74 min\",\"84 min\",\"G\",\"NC-17\",\"NR\",\"PG\",\"PG-13\",\"R\",\"TV-14\",\"TV-G\",\"TV-MA\",\"TV-PG\",\"TV-Y\",\"TV-Y7\",\"TV-Y7-FV\",\"UR\"],\"yaxis\":\"y\",\"type\":\"funnel\"}],                        {\"template\":{\"data\":{\"bar\":[{\"error_x\":{\"color\":\"#2a3f5f\"},\"error_y\":{\"color\":\"#2a3f5f\"},\"marker\":{\"line\":{\"color\":\"#E5ECF6\",\"width\":0.5},\"pattern\":{\"fillmode\":\"overlay\",\"size\":10,\"solidity\":0.2}},\"type\":\"bar\"}],\"barpolar\":[{\"marker\":{\"line\":{\"color\":\"#E5ECF6\",\"width\":0.5},\"pattern\":{\"fillmode\":\"overlay\",\"size\":10,\"solidity\":0.2}},\"type\":\"barpolar\"}],\"carpet\":[{\"aaxis\":{\"endlinecolor\":\"#2a3f5f\",\"gridcolor\":\"white\",\"linecolor\":\"white\",\"minorgridcolor\":\"white\",\"startlinecolor\":\"#2a3f5f\"},\"baxis\":{\"endlinecolor\":\"#2a3f5f\",\"gridcolor\":\"white\",\"linecolor\":\"white\",\"minorgridcolor\":\"white\",\"startlinecolor\":\"#2a3f5f\"},\"type\":\"carpet\"}],\"choropleth\":[{\"colorbar\":{\"outlinewidth\":0,\"ticks\":\"\"},\"type\":\"choropleth\"}],\"contour\":[{\"colorbar\":{\"outlinewidth\":0,\"ticks\":\"\"},\"colorscale\":[[0.0,\"#0d0887\"],[0.1111111111111111,\"#46039f\"],[0.2222222222222222,\"#7201a8\"],[0.3333333333333333,\"#9c179e\"],[0.4444444444444444,\"#bd3786\"],[0.5555555555555556,\"#d8576b\"],[0.6666666666666666,\"#ed7953\"],[0.7777777777777778,\"#fb9f3a\"],[0.8888888888888888,\"#fdca26\"],[1.0,\"#f0f921\"]],\"type\":\"contour\"}],\"contourcarpet\":[{\"colorbar\":{\"outlinewidth\":0,\"ticks\":\"\"},\"type\":\"contourcarpet\"}],\"heatmap\":[{\"colorbar\":{\"outlinewidth\":0,\"ticks\":\"\"},\"colorscale\":[[0.0,\"#0d0887\"],[0.1111111111111111,\"#46039f\"],[0.2222222222222222,\"#7201a8\"],[0.3333333333333333,\"#9c179e\"],[0.4444444444444444,\"#bd3786\"],[0.5555555555555556,\"#d8576b\"],[0.6666666666666666,\"#ed7953\"],[0.7777777777777778,\"#fb9f3a\"],[0.8888888888888888,\"#fdca26\"],[1.0,\"#f0f921\"]],\"type\":\"heatmap\"}],\"heatmapgl\":[{\"colorbar\":{\"outlinewidth\":0,\"ticks\":\"\"},\"colorscale\":[[0.0,\"#0d0887\"],[0.1111111111111111,\"#46039f\"],[0.2222222222222222,\"#7201a8\"],[0.3333333333333333,\"#9c179e\"],[0.4444444444444444,\"#bd3786\"],[0.5555555555555556,\"#d8576b\"],[0.6666666666666666,\"#ed7953\"],[0.7777777777777778,\"#fb9f3a\"],[0.8888888888888888,\"#fdca26\"],[1.0,\"#f0f921\"]],\"type\":\"heatmapgl\"}],\"histogram\":[{\"marker\":{\"pattern\":{\"fillmode\":\"overlay\",\"size\":10,\"solidity\":0.2}},\"type\":\"histogram\"}],\"histogram2d\":[{\"colorbar\":{\"outlinewidth\":0,\"ticks\":\"\"},\"colorscale\":[[0.0,\"#0d0887\"],[0.1111111111111111,\"#46039f\"],[0.2222222222222222,\"#7201a8\"],[0.3333333333333333,\"#9c179e\"],[0.4444444444444444,\"#bd3786\"],[0.5555555555555556,\"#d8576b\"],[0.6666666666666666,\"#ed7953\"],[0.7777777777777778,\"#fb9f3a\"],[0.8888888888888888,\"#fdca26\"],[1.0,\"#f0f921\"]],\"type\":\"histogram2d\"}],\"histogram2dcontour\":[{\"colorbar\":{\"outlinewidth\":0,\"ticks\":\"\"},\"colorscale\":[[0.0,\"#0d0887\"],[0.1111111111111111,\"#46039f\"],[0.2222222222222222,\"#7201a8\"],[0.3333333333333333,\"#9c179e\"],[0.4444444444444444,\"#bd3786\"],[0.5555555555555556,\"#d8576b\"],[0.6666666666666666,\"#ed7953\"],[0.7777777777777778,\"#fb9f3a\"],[0.8888888888888888,\"#fdca26\"],[1.0,\"#f0f921\"]],\"type\":\"histogram2dcontour\"}],\"mesh3d\":[{\"colorbar\":{\"outlinewidth\":0,\"ticks\":\"\"},\"type\":\"mesh3d\"}],\"parcoords\":[{\"line\":{\"colorbar\":{\"outlinewidth\":0,\"ticks\":\"\"}},\"type\":\"parcoords\"}],\"pie\":[{\"automargin\":true,\"type\":\"pie\"}],\"scatter\":[{\"marker\":{\"colorbar\":{\"outlinewidth\":0,\"ticks\":\"\"}},\"type\":\"scatter\"}],\"scatter3d\":[{\"line\":{\"colorbar\":{\"outlinewidth\":0,\"ticks\":\"\"}},\"marker\":{\"colorbar\":{\"outlinewidth\":0,\"ticks\":\"\"}},\"type\":\"scatter3d\"}],\"scattercarpet\":[{\"marker\":{\"colorbar\":{\"outlinewidth\":0,\"ticks\":\"\"}},\"type\":\"scattercarpet\"}],\"scattergeo\":[{\"marker\":{\"colorbar\":{\"outlinewidth\":0,\"ticks\":\"\"}},\"type\":\"scattergeo\"}],\"scattergl\":[{\"marker\":{\"colorbar\":{\"outlinewidth\":0,\"ticks\":\"\"}},\"type\":\"scattergl\"}],\"scattermapbox\":[{\"marker\":{\"colorbar\":{\"outlinewidth\":0,\"ticks\":\"\"}},\"type\":\"scattermapbox\"}],\"scatterpolar\":[{\"marker\":{\"colorbar\":{\"outlinewidth\":0,\"ticks\":\"\"}},\"type\":\"scatterpolar\"}],\"scatterpolargl\":[{\"marker\":{\"colorbar\":{\"outlinewidth\":0,\"ticks\":\"\"}},\"type\":\"scatterpolargl\"}],\"scatterternary\":[{\"marker\":{\"colorbar\":{\"outlinewidth\":0,\"ticks\":\"\"}},\"type\":\"scatterternary\"}],\"surface\":[{\"colorbar\":{\"outlinewidth\":0,\"ticks\":\"\"},\"colorscale\":[[0.0,\"#0d0887\"],[0.1111111111111111,\"#46039f\"],[0.2222222222222222,\"#7201a8\"],[0.3333333333333333,\"#9c179e\"],[0.4444444444444444,\"#bd3786\"],[0.5555555555555556,\"#d8576b\"],[0.6666666666666666,\"#ed7953\"],[0.7777777777777778,\"#fb9f3a\"],[0.8888888888888888,\"#fdca26\"],[1.0,\"#f0f921\"]],\"type\":\"surface\"}],\"table\":[{\"cells\":{\"fill\":{\"color\":\"#EBF0F8\"},\"line\":{\"color\":\"white\"}},\"header\":{\"fill\":{\"color\":\"#C8D4E3\"},\"line\":{\"color\":\"white\"}},\"type\":\"table\"}]},\"layout\":{\"annotationdefaults\":{\"arrowcolor\":\"#2a3f5f\",\"arrowhead\":0,\"arrowwidth\":1},\"autotypenumbers\":\"strict\",\"coloraxis\":{\"colorbar\":{\"outlinewidth\":0,\"ticks\":\"\"}},\"colorscale\":{\"diverging\":[[0,\"#8e0152\"],[0.1,\"#c51b7d\"],[0.2,\"#de77ae\"],[0.3,\"#f1b6da\"],[0.4,\"#fde0ef\"],[0.5,\"#f7f7f7\"],[0.6,\"#e6f5d0\"],[0.7,\"#b8e186\"],[0.8,\"#7fbc41\"],[0.9,\"#4d9221\"],[1,\"#276419\"]],\"sequential\":[[0.0,\"#0d0887\"],[0.1111111111111111,\"#46039f\"],[0.2222222222222222,\"#7201a8\"],[0.3333333333333333,\"#9c179e\"],[0.4444444444444444,\"#bd3786\"],[0.5555555555555556,\"#d8576b\"],[0.6666666666666666,\"#ed7953\"],[0.7777777777777778,\"#fb9f3a\"],[0.8888888888888888,\"#fdca26\"],[1.0,\"#f0f921\"]],\"sequentialminus\":[[0.0,\"#0d0887\"],[0.1111111111111111,\"#46039f\"],[0.2222222222222222,\"#7201a8\"],[0.3333333333333333,\"#9c179e\"],[0.4444444444444444,\"#bd3786\"],[0.5555555555555556,\"#d8576b\"],[0.6666666666666666,\"#ed7953\"],[0.7777777777777778,\"#fb9f3a\"],[0.8888888888888888,\"#fdca26\"],[1.0,\"#f0f921\"]]},\"colorway\":[\"#636efa\",\"#EF553B\",\"#00cc96\",\"#ab63fa\",\"#FFA15A\",\"#19d3f3\",\"#FF6692\",\"#B6E880\",\"#FF97FF\",\"#FECB52\"],\"font\":{\"color\":\"#2a3f5f\"},\"geo\":{\"bgcolor\":\"white\",\"lakecolor\":\"white\",\"landcolor\":\"#E5ECF6\",\"showlakes\":true,\"showland\":true,\"subunitcolor\":\"white\"},\"hoverlabel\":{\"align\":\"left\"},\"hovermode\":\"closest\",\"mapbox\":{\"style\":\"light\"},\"paper_bgcolor\":\"white\",\"plot_bgcolor\":\"#E5ECF6\",\"polar\":{\"angularaxis\":{\"gridcolor\":\"white\",\"linecolor\":\"white\",\"ticks\":\"\"},\"bgcolor\":\"#E5ECF6\",\"radialaxis\":{\"gridcolor\":\"white\",\"linecolor\":\"white\",\"ticks\":\"\"}},\"scene\":{\"xaxis\":{\"backgroundcolor\":\"#E5ECF6\",\"gridcolor\":\"white\",\"gridwidth\":2,\"linecolor\":\"white\",\"showbackground\":true,\"ticks\":\"\",\"zerolinecolor\":\"white\"},\"yaxis\":{\"backgroundcolor\":\"#E5ECF6\",\"gridcolor\":\"white\",\"gridwidth\":2,\"linecolor\":\"white\",\"showbackground\":true,\"ticks\":\"\",\"zerolinecolor\":\"white\"},\"zaxis\":{\"backgroundcolor\":\"#E5ECF6\",\"gridcolor\":\"white\",\"gridwidth\":2,\"linecolor\":\"white\",\"showbackground\":true,\"ticks\":\"\",\"zerolinecolor\":\"white\"}},\"shapedefaults\":{\"line\":{\"color\":\"#2a3f5f\"}},\"ternary\":{\"aaxis\":{\"gridcolor\":\"white\",\"linecolor\":\"white\",\"ticks\":\"\"},\"baxis\":{\"gridcolor\":\"white\",\"linecolor\":\"white\",\"ticks\":\"\"},\"bgcolor\":\"#E5ECF6\",\"caxis\":{\"gridcolor\":\"white\",\"linecolor\":\"white\",\"ticks\":\"\"}},\"title\":{\"x\":0.05},\"xaxis\":{\"automargin\":true,\"gridcolor\":\"white\",\"linecolor\":\"white\",\"ticks\":\"\",\"title\":{\"standoff\":15},\"zerolinecolor\":\"white\",\"zerolinewidth\":2},\"yaxis\":{\"automargin\":true,\"gridcolor\":\"white\",\"linecolor\":\"white\",\"ticks\":\"\",\"title\":{\"standoff\":15},\"zerolinecolor\":\"white\",\"zerolinewidth\":2}}},\"xaxis\":{\"anchor\":\"y\",\"domain\":[0.0,1.0],\"title\":{\"text\":\"show_id\"}},\"yaxis\":{\"anchor\":\"x\",\"domain\":[0.0,1.0],\"title\":{\"text\":\"rating\"}},\"legend\":{\"tracegroupgap\":0},\"margin\":{\"t\":60}},                        {\"responsive\": true}                    ).then(function(){\n",
              "                            \n",
              "var gd = document.getElementById('03f8f6db-91f8-4f6c-aa32-f67257e858c3');\n",
              "var x = new MutationObserver(function (mutations, observer) {{\n",
              "        var display = window.getComputedStyle(gd).display;\n",
              "        if (!display || display === 'none') {{\n",
              "            console.log([gd, 'removed!']);\n",
              "            Plotly.purge(gd);\n",
              "            observer.disconnect();\n",
              "        }}\n",
              "}});\n",
              "\n",
              "// Listen for the removal of the full notebook cells\n",
              "var notebookContainer = gd.closest('#notebook-container');\n",
              "if (notebookContainer) {{\n",
              "    x.observe(notebookContainer, {childList: true});\n",
              "}}\n",
              "\n",
              "// Listen for the clearing of the current output cell\n",
              "var outputEl = gd.closest('.output');\n",
              "if (outputEl) {{\n",
              "    x.observe(outputEl, {childList: true});\n",
              "}}\n",
              "\n",
              "                        })                };                });            </script>        </div>"
            ]
          },
          "metadata": {},
          "output_type": "display_data"
        }
      ],
      "source": [
        "px.funnel(df_agg, x='show_id', y='rating')"
      ]
    },
    {
      "cell_type": "code",
      "execution_count": null,
      "id": "4576ad26",
      "metadata": {
        "id": "4576ad26",
        "outputId": "01c860c0-3b49-4ada-9d6c-9c928d945aa3"
      },
      "outputs": [
        {
          "data": {
            "text/plain": [
              "<IntegerArray>\n",
              "[2021, 2020, 2019, 2018, 2017, 2016, 2015, 2014, 2013, 2012, 2011, 2009, 2008,\n",
              " <NA>, 2010]\n",
              "Length: 15, dtype: Int64"
            ]
          },
          "execution_count": 147,
          "metadata": {},
          "output_type": "execute_result"
        }
      ],
      "source": [
        "df['year_added'].unique()"
      ]
    },
    {
      "cell_type": "code",
      "execution_count": null,
      "id": "e1cc0be0",
      "metadata": {
        "id": "e1cc0be0"
      },
      "outputs": [],
      "source": [
        "df_agg = df.groupby('year_added').agg({\n",
        "    'show_id': 'count'\n",
        "}).reset_index()"
      ]
    },
    {
      "cell_type": "code",
      "execution_count": null,
      "id": "e4713456",
      "metadata": {
        "id": "e4713456",
        "outputId": "aebe15b9-f8c5-40ba-d179-5b8d19960b6e"
      },
      "outputs": [
        {
          "data": {
            "text/html": [
              "<div>\n",
              "<style scoped>\n",
              "    .dataframe tbody tr th:only-of-type {\n",
              "        vertical-align: middle;\n",
              "    }\n",
              "\n",
              "    .dataframe tbody tr th {\n",
              "        vertical-align: top;\n",
              "    }\n",
              "\n",
              "    .dataframe thead th {\n",
              "        text-align: right;\n",
              "    }\n",
              "</style>\n",
              "<table border=\"1\" class=\"dataframe\">\n",
              "  <thead>\n",
              "    <tr style=\"text-align: right;\">\n",
              "      <th></th>\n",
              "      <th>year_added</th>\n",
              "      <th>show_id</th>\n",
              "    </tr>\n",
              "  </thead>\n",
              "  <tbody>\n",
              "    <tr>\n",
              "      <th>0</th>\n",
              "      <td>2008</td>\n",
              "      <td>2</td>\n",
              "    </tr>\n",
              "    <tr>\n",
              "      <th>1</th>\n",
              "      <td>2009</td>\n",
              "      <td>2</td>\n",
              "    </tr>\n",
              "    <tr>\n",
              "      <th>2</th>\n",
              "      <td>2010</td>\n",
              "      <td>1</td>\n",
              "    </tr>\n",
              "    <tr>\n",
              "      <th>3</th>\n",
              "      <td>2011</td>\n",
              "      <td>13</td>\n",
              "    </tr>\n",
              "    <tr>\n",
              "      <th>4</th>\n",
              "      <td>2012</td>\n",
              "      <td>3</td>\n",
              "    </tr>\n",
              "    <tr>\n",
              "      <th>5</th>\n",
              "      <td>2013</td>\n",
              "      <td>11</td>\n",
              "    </tr>\n",
              "    <tr>\n",
              "      <th>6</th>\n",
              "      <td>2014</td>\n",
              "      <td>24</td>\n",
              "    </tr>\n",
              "    <tr>\n",
              "      <th>7</th>\n",
              "      <td>2015</td>\n",
              "      <td>82</td>\n",
              "    </tr>\n",
              "    <tr>\n",
              "      <th>8</th>\n",
              "      <td>2016</td>\n",
              "      <td>429</td>\n",
              "    </tr>\n",
              "    <tr>\n",
              "      <th>9</th>\n",
              "      <td>2017</td>\n",
              "      <td>1188</td>\n",
              "    </tr>\n",
              "    <tr>\n",
              "      <th>10</th>\n",
              "      <td>2018</td>\n",
              "      <td>1649</td>\n",
              "    </tr>\n",
              "    <tr>\n",
              "      <th>11</th>\n",
              "      <td>2019</td>\n",
              "      <td>2016</td>\n",
              "    </tr>\n",
              "    <tr>\n",
              "      <th>12</th>\n",
              "      <td>2020</td>\n",
              "      <td>1879</td>\n",
              "    </tr>\n",
              "    <tr>\n",
              "      <th>13</th>\n",
              "      <td>2021</td>\n",
              "      <td>1498</td>\n",
              "    </tr>\n",
              "  </tbody>\n",
              "</table>\n",
              "</div>"
            ],
            "text/plain": [
              "    year_added  show_id\n",
              "0         2008        2\n",
              "1         2009        2\n",
              "2         2010        1\n",
              "3         2011       13\n",
              "4         2012        3\n",
              "5         2013       11\n",
              "6         2014       24\n",
              "7         2015       82\n",
              "8         2016      429\n",
              "9         2017     1188\n",
              "10        2018     1649\n",
              "11        2019     2016\n",
              "12        2020     1879\n",
              "13        2021     1498"
            ]
          },
          "execution_count": 149,
          "metadata": {},
          "output_type": "execute_result"
        }
      ],
      "source": [
        "df_agg"
      ]
    },
    {
      "cell_type": "code",
      "execution_count": null,
      "id": "4c149db7",
      "metadata": {
        "id": "4c149db7",
        "outputId": "2a013a78-c2a3-4bda-9c9b-29e1e5b2ad03"
      },
      "outputs": [
        {
          "data": {
            "application/vnd.plotly.v1+json": {
              "config": {
                "plotlyServerURL": "https://plot.ly"
              },
              "data": [
                {
                  "hovertemplate": "year_added=%{x}<br>show_id=%{y}<extra></extra>",
                  "legendgroup": "",
                  "line": {
                    "color": "#636efa",
                    "dash": "solid"
                  },
                  "marker": {
                    "symbol": "circle"
                  },
                  "mode": "lines",
                  "name": "",
                  "orientation": "v",
                  "showlegend": false,
                  "type": "scatter",
                  "x": [
                    2008,
                    2009,
                    2010,
                    2011,
                    2012,
                    2013,
                    2014,
                    2015,
                    2016,
                    2017,
                    2018,
                    2019,
                    2020,
                    2021
                  ],
                  "xaxis": "x",
                  "y": [
                    2,
                    2,
                    1,
                    13,
                    3,
                    11,
                    24,
                    82,
                    429,
                    1188,
                    1649,
                    2016,
                    1879,
                    1498
                  ],
                  "yaxis": "y"
                }
              ],
              "layout": {
                "legend": {
                  "tracegroupgap": 0
                },
                "margin": {
                  "t": 60
                },
                "template": {
                  "data": {
                    "bar": [
                      {
                        "error_x": {
                          "color": "#2a3f5f"
                        },
                        "error_y": {
                          "color": "#2a3f5f"
                        },
                        "marker": {
                          "line": {
                            "color": "#E5ECF6",
                            "width": 0.5
                          },
                          "pattern": {
                            "fillmode": "overlay",
                            "size": 10,
                            "solidity": 0.2
                          }
                        },
                        "type": "bar"
                      }
                    ],
                    "barpolar": [
                      {
                        "marker": {
                          "line": {
                            "color": "#E5ECF6",
                            "width": 0.5
                          },
                          "pattern": {
                            "fillmode": "overlay",
                            "size": 10,
                            "solidity": 0.2
                          }
                        },
                        "type": "barpolar"
                      }
                    ],
                    "carpet": [
                      {
                        "aaxis": {
                          "endlinecolor": "#2a3f5f",
                          "gridcolor": "white",
                          "linecolor": "white",
                          "minorgridcolor": "white",
                          "startlinecolor": "#2a3f5f"
                        },
                        "baxis": {
                          "endlinecolor": "#2a3f5f",
                          "gridcolor": "white",
                          "linecolor": "white",
                          "minorgridcolor": "white",
                          "startlinecolor": "#2a3f5f"
                        },
                        "type": "carpet"
                      }
                    ],
                    "choropleth": [
                      {
                        "colorbar": {
                          "outlinewidth": 0,
                          "ticks": ""
                        },
                        "type": "choropleth"
                      }
                    ],
                    "contour": [
                      {
                        "colorbar": {
                          "outlinewidth": 0,
                          "ticks": ""
                        },
                        "colorscale": [
                          [
                            0,
                            "#0d0887"
                          ],
                          [
                            0.1111111111111111,
                            "#46039f"
                          ],
                          [
                            0.2222222222222222,
                            "#7201a8"
                          ],
                          [
                            0.3333333333333333,
                            "#9c179e"
                          ],
                          [
                            0.4444444444444444,
                            "#bd3786"
                          ],
                          [
                            0.5555555555555556,
                            "#d8576b"
                          ],
                          [
                            0.6666666666666666,
                            "#ed7953"
                          ],
                          [
                            0.7777777777777778,
                            "#fb9f3a"
                          ],
                          [
                            0.8888888888888888,
                            "#fdca26"
                          ],
                          [
                            1,
                            "#f0f921"
                          ]
                        ],
                        "type": "contour"
                      }
                    ],
                    "contourcarpet": [
                      {
                        "colorbar": {
                          "outlinewidth": 0,
                          "ticks": ""
                        },
                        "type": "contourcarpet"
                      }
                    ],
                    "heatmap": [
                      {
                        "colorbar": {
                          "outlinewidth": 0,
                          "ticks": ""
                        },
                        "colorscale": [
                          [
                            0,
                            "#0d0887"
                          ],
                          [
                            0.1111111111111111,
                            "#46039f"
                          ],
                          [
                            0.2222222222222222,
                            "#7201a8"
                          ],
                          [
                            0.3333333333333333,
                            "#9c179e"
                          ],
                          [
                            0.4444444444444444,
                            "#bd3786"
                          ],
                          [
                            0.5555555555555556,
                            "#d8576b"
                          ],
                          [
                            0.6666666666666666,
                            "#ed7953"
                          ],
                          [
                            0.7777777777777778,
                            "#fb9f3a"
                          ],
                          [
                            0.8888888888888888,
                            "#fdca26"
                          ],
                          [
                            1,
                            "#f0f921"
                          ]
                        ],
                        "type": "heatmap"
                      }
                    ],
                    "heatmapgl": [
                      {
                        "colorbar": {
                          "outlinewidth": 0,
                          "ticks": ""
                        },
                        "colorscale": [
                          [
                            0,
                            "#0d0887"
                          ],
                          [
                            0.1111111111111111,
                            "#46039f"
                          ],
                          [
                            0.2222222222222222,
                            "#7201a8"
                          ],
                          [
                            0.3333333333333333,
                            "#9c179e"
                          ],
                          [
                            0.4444444444444444,
                            "#bd3786"
                          ],
                          [
                            0.5555555555555556,
                            "#d8576b"
                          ],
                          [
                            0.6666666666666666,
                            "#ed7953"
                          ],
                          [
                            0.7777777777777778,
                            "#fb9f3a"
                          ],
                          [
                            0.8888888888888888,
                            "#fdca26"
                          ],
                          [
                            1,
                            "#f0f921"
                          ]
                        ],
                        "type": "heatmapgl"
                      }
                    ],
                    "histogram": [
                      {
                        "marker": {
                          "pattern": {
                            "fillmode": "overlay",
                            "size": 10,
                            "solidity": 0.2
                          }
                        },
                        "type": "histogram"
                      }
                    ],
                    "histogram2d": [
                      {
                        "colorbar": {
                          "outlinewidth": 0,
                          "ticks": ""
                        },
                        "colorscale": [
                          [
                            0,
                            "#0d0887"
                          ],
                          [
                            0.1111111111111111,
                            "#46039f"
                          ],
                          [
                            0.2222222222222222,
                            "#7201a8"
                          ],
                          [
                            0.3333333333333333,
                            "#9c179e"
                          ],
                          [
                            0.4444444444444444,
                            "#bd3786"
                          ],
                          [
                            0.5555555555555556,
                            "#d8576b"
                          ],
                          [
                            0.6666666666666666,
                            "#ed7953"
                          ],
                          [
                            0.7777777777777778,
                            "#fb9f3a"
                          ],
                          [
                            0.8888888888888888,
                            "#fdca26"
                          ],
                          [
                            1,
                            "#f0f921"
                          ]
                        ],
                        "type": "histogram2d"
                      }
                    ],
                    "histogram2dcontour": [
                      {
                        "colorbar": {
                          "outlinewidth": 0,
                          "ticks": ""
                        },
                        "colorscale": [
                          [
                            0,
                            "#0d0887"
                          ],
                          [
                            0.1111111111111111,
                            "#46039f"
                          ],
                          [
                            0.2222222222222222,
                            "#7201a8"
                          ],
                          [
                            0.3333333333333333,
                            "#9c179e"
                          ],
                          [
                            0.4444444444444444,
                            "#bd3786"
                          ],
                          [
                            0.5555555555555556,
                            "#d8576b"
                          ],
                          [
                            0.6666666666666666,
                            "#ed7953"
                          ],
                          [
                            0.7777777777777778,
                            "#fb9f3a"
                          ],
                          [
                            0.8888888888888888,
                            "#fdca26"
                          ],
                          [
                            1,
                            "#f0f921"
                          ]
                        ],
                        "type": "histogram2dcontour"
                      }
                    ],
                    "mesh3d": [
                      {
                        "colorbar": {
                          "outlinewidth": 0,
                          "ticks": ""
                        },
                        "type": "mesh3d"
                      }
                    ],
                    "parcoords": [
                      {
                        "line": {
                          "colorbar": {
                            "outlinewidth": 0,
                            "ticks": ""
                          }
                        },
                        "type": "parcoords"
                      }
                    ],
                    "pie": [
                      {
                        "automargin": true,
                        "type": "pie"
                      }
                    ],
                    "scatter": [
                      {
                        "marker": {
                          "colorbar": {
                            "outlinewidth": 0,
                            "ticks": ""
                          }
                        },
                        "type": "scatter"
                      }
                    ],
                    "scatter3d": [
                      {
                        "line": {
                          "colorbar": {
                            "outlinewidth": 0,
                            "ticks": ""
                          }
                        },
                        "marker": {
                          "colorbar": {
                            "outlinewidth": 0,
                            "ticks": ""
                          }
                        },
                        "type": "scatter3d"
                      }
                    ],
                    "scattercarpet": [
                      {
                        "marker": {
                          "colorbar": {
                            "outlinewidth": 0,
                            "ticks": ""
                          }
                        },
                        "type": "scattercarpet"
                      }
                    ],
                    "scattergeo": [
                      {
                        "marker": {
                          "colorbar": {
                            "outlinewidth": 0,
                            "ticks": ""
                          }
                        },
                        "type": "scattergeo"
                      }
                    ],
                    "scattergl": [
                      {
                        "marker": {
                          "colorbar": {
                            "outlinewidth": 0,
                            "ticks": ""
                          }
                        },
                        "type": "scattergl"
                      }
                    ],
                    "scattermapbox": [
                      {
                        "marker": {
                          "colorbar": {
                            "outlinewidth": 0,
                            "ticks": ""
                          }
                        },
                        "type": "scattermapbox"
                      }
                    ],
                    "scatterpolar": [
                      {
                        "marker": {
                          "colorbar": {
                            "outlinewidth": 0,
                            "ticks": ""
                          }
                        },
                        "type": "scatterpolar"
                      }
                    ],
                    "scatterpolargl": [
                      {
                        "marker": {
                          "colorbar": {
                            "outlinewidth": 0,
                            "ticks": ""
                          }
                        },
                        "type": "scatterpolargl"
                      }
                    ],
                    "scatterternary": [
                      {
                        "marker": {
                          "colorbar": {
                            "outlinewidth": 0,
                            "ticks": ""
                          }
                        },
                        "type": "scatterternary"
                      }
                    ],
                    "surface": [
                      {
                        "colorbar": {
                          "outlinewidth": 0,
                          "ticks": ""
                        },
                        "colorscale": [
                          [
                            0,
                            "#0d0887"
                          ],
                          [
                            0.1111111111111111,
                            "#46039f"
                          ],
                          [
                            0.2222222222222222,
                            "#7201a8"
                          ],
                          [
                            0.3333333333333333,
                            "#9c179e"
                          ],
                          [
                            0.4444444444444444,
                            "#bd3786"
                          ],
                          [
                            0.5555555555555556,
                            "#d8576b"
                          ],
                          [
                            0.6666666666666666,
                            "#ed7953"
                          ],
                          [
                            0.7777777777777778,
                            "#fb9f3a"
                          ],
                          [
                            0.8888888888888888,
                            "#fdca26"
                          ],
                          [
                            1,
                            "#f0f921"
                          ]
                        ],
                        "type": "surface"
                      }
                    ],
                    "table": [
                      {
                        "cells": {
                          "fill": {
                            "color": "#EBF0F8"
                          },
                          "line": {
                            "color": "white"
                          }
                        },
                        "header": {
                          "fill": {
                            "color": "#C8D4E3"
                          },
                          "line": {
                            "color": "white"
                          }
                        },
                        "type": "table"
                      }
                    ]
                  },
                  "layout": {
                    "annotationdefaults": {
                      "arrowcolor": "#2a3f5f",
                      "arrowhead": 0,
                      "arrowwidth": 1
                    },
                    "autotypenumbers": "strict",
                    "coloraxis": {
                      "colorbar": {
                        "outlinewidth": 0,
                        "ticks": ""
                      }
                    },
                    "colorscale": {
                      "diverging": [
                        [
                          0,
                          "#8e0152"
                        ],
                        [
                          0.1,
                          "#c51b7d"
                        ],
                        [
                          0.2,
                          "#de77ae"
                        ],
                        [
                          0.3,
                          "#f1b6da"
                        ],
                        [
                          0.4,
                          "#fde0ef"
                        ],
                        [
                          0.5,
                          "#f7f7f7"
                        ],
                        [
                          0.6,
                          "#e6f5d0"
                        ],
                        [
                          0.7,
                          "#b8e186"
                        ],
                        [
                          0.8,
                          "#7fbc41"
                        ],
                        [
                          0.9,
                          "#4d9221"
                        ],
                        [
                          1,
                          "#276419"
                        ]
                      ],
                      "sequential": [
                        [
                          0,
                          "#0d0887"
                        ],
                        [
                          0.1111111111111111,
                          "#46039f"
                        ],
                        [
                          0.2222222222222222,
                          "#7201a8"
                        ],
                        [
                          0.3333333333333333,
                          "#9c179e"
                        ],
                        [
                          0.4444444444444444,
                          "#bd3786"
                        ],
                        [
                          0.5555555555555556,
                          "#d8576b"
                        ],
                        [
                          0.6666666666666666,
                          "#ed7953"
                        ],
                        [
                          0.7777777777777778,
                          "#fb9f3a"
                        ],
                        [
                          0.8888888888888888,
                          "#fdca26"
                        ],
                        [
                          1,
                          "#f0f921"
                        ]
                      ],
                      "sequentialminus": [
                        [
                          0,
                          "#0d0887"
                        ],
                        [
                          0.1111111111111111,
                          "#46039f"
                        ],
                        [
                          0.2222222222222222,
                          "#7201a8"
                        ],
                        [
                          0.3333333333333333,
                          "#9c179e"
                        ],
                        [
                          0.4444444444444444,
                          "#bd3786"
                        ],
                        [
                          0.5555555555555556,
                          "#d8576b"
                        ],
                        [
                          0.6666666666666666,
                          "#ed7953"
                        ],
                        [
                          0.7777777777777778,
                          "#fb9f3a"
                        ],
                        [
                          0.8888888888888888,
                          "#fdca26"
                        ],
                        [
                          1,
                          "#f0f921"
                        ]
                      ]
                    },
                    "colorway": [
                      "#636efa",
                      "#EF553B",
                      "#00cc96",
                      "#ab63fa",
                      "#FFA15A",
                      "#19d3f3",
                      "#FF6692",
                      "#B6E880",
                      "#FF97FF",
                      "#FECB52"
                    ],
                    "font": {
                      "color": "#2a3f5f"
                    },
                    "geo": {
                      "bgcolor": "white",
                      "lakecolor": "white",
                      "landcolor": "#E5ECF6",
                      "showlakes": true,
                      "showland": true,
                      "subunitcolor": "white"
                    },
                    "hoverlabel": {
                      "align": "left"
                    },
                    "hovermode": "closest",
                    "mapbox": {
                      "style": "light"
                    },
                    "paper_bgcolor": "white",
                    "plot_bgcolor": "#E5ECF6",
                    "polar": {
                      "angularaxis": {
                        "gridcolor": "white",
                        "linecolor": "white",
                        "ticks": ""
                      },
                      "bgcolor": "#E5ECF6",
                      "radialaxis": {
                        "gridcolor": "white",
                        "linecolor": "white",
                        "ticks": ""
                      }
                    },
                    "scene": {
                      "xaxis": {
                        "backgroundcolor": "#E5ECF6",
                        "gridcolor": "white",
                        "gridwidth": 2,
                        "linecolor": "white",
                        "showbackground": true,
                        "ticks": "",
                        "zerolinecolor": "white"
                      },
                      "yaxis": {
                        "backgroundcolor": "#E5ECF6",
                        "gridcolor": "white",
                        "gridwidth": 2,
                        "linecolor": "white",
                        "showbackground": true,
                        "ticks": "",
                        "zerolinecolor": "white"
                      },
                      "zaxis": {
                        "backgroundcolor": "#E5ECF6",
                        "gridcolor": "white",
                        "gridwidth": 2,
                        "linecolor": "white",
                        "showbackground": true,
                        "ticks": "",
                        "zerolinecolor": "white"
                      }
                    },
                    "shapedefaults": {
                      "line": {
                        "color": "#2a3f5f"
                      }
                    },
                    "ternary": {
                      "aaxis": {
                        "gridcolor": "white",
                        "linecolor": "white",
                        "ticks": ""
                      },
                      "baxis": {
                        "gridcolor": "white",
                        "linecolor": "white",
                        "ticks": ""
                      },
                      "bgcolor": "#E5ECF6",
                      "caxis": {
                        "gridcolor": "white",
                        "linecolor": "white",
                        "ticks": ""
                      }
                    },
                    "title": {
                      "x": 0.05
                    },
                    "xaxis": {
                      "automargin": true,
                      "gridcolor": "white",
                      "linecolor": "white",
                      "ticks": "",
                      "title": {
                        "standoff": 15
                      },
                      "zerolinecolor": "white",
                      "zerolinewidth": 2
                    },
                    "yaxis": {
                      "automargin": true,
                      "gridcolor": "white",
                      "linecolor": "white",
                      "ticks": "",
                      "title": {
                        "standoff": 15
                      },
                      "zerolinecolor": "white",
                      "zerolinewidth": 2
                    }
                  }
                },
                "xaxis": {
                  "anchor": "y",
                  "domain": [
                    0,
                    1
                  ],
                  "dtick": 1,
                  "tick0": 2008,
                  "tickmode": "linear",
                  "title": {
                    "text": "year_added"
                  }
                },
                "yaxis": {
                  "anchor": "x",
                  "domain": [
                    0,
                    1
                  ],
                  "title": {
                    "text": "show_id"
                  }
                }
              }
            },
            "text/html": [
              "<div>                            <div id=\"8bb12595-78b3-4a5b-a4c6-f4426ad8203a\" class=\"plotly-graph-div\" style=\"height:525px; width:100%;\"></div>            <script type=\"text/javascript\">                require([\"plotly\"], function(Plotly) {                    window.PLOTLYENV=window.PLOTLYENV || {};                                    if (document.getElementById(\"8bb12595-78b3-4a5b-a4c6-f4426ad8203a\")) {                    Plotly.newPlot(                        \"8bb12595-78b3-4a5b-a4c6-f4426ad8203a\",                        [{\"hovertemplate\":\"year_added=%{x}<br>show_id=%{y}<extra></extra>\",\"legendgroup\":\"\",\"line\":{\"color\":\"#636efa\",\"dash\":\"solid\"},\"marker\":{\"symbol\":\"circle\"},\"mode\":\"lines\",\"name\":\"\",\"orientation\":\"v\",\"showlegend\":false,\"x\":[2008,2009,2010,2011,2012,2013,2014,2015,2016,2017,2018,2019,2020,2021],\"xaxis\":\"x\",\"y\":[2,2,1,13,3,11,24,82,429,1188,1649,2016,1879,1498],\"yaxis\":\"y\",\"type\":\"scatter\"}],                        {\"legend\":{\"tracegroupgap\":0},\"margin\":{\"t\":60},\"template\":{\"data\":{\"barpolar\":[{\"marker\":{\"line\":{\"color\":\"#E5ECF6\",\"width\":0.5},\"pattern\":{\"fillmode\":\"overlay\",\"size\":10,\"solidity\":0.2}},\"type\":\"barpolar\"}],\"bar\":[{\"error_x\":{\"color\":\"#2a3f5f\"},\"error_y\":{\"color\":\"#2a3f5f\"},\"marker\":{\"line\":{\"color\":\"#E5ECF6\",\"width\":0.5},\"pattern\":{\"fillmode\":\"overlay\",\"size\":10,\"solidity\":0.2}},\"type\":\"bar\"}],\"carpet\":[{\"aaxis\":{\"endlinecolor\":\"#2a3f5f\",\"gridcolor\":\"white\",\"linecolor\":\"white\",\"minorgridcolor\":\"white\",\"startlinecolor\":\"#2a3f5f\"},\"baxis\":{\"endlinecolor\":\"#2a3f5f\",\"gridcolor\":\"white\",\"linecolor\":\"white\",\"minorgridcolor\":\"white\",\"startlinecolor\":\"#2a3f5f\"},\"type\":\"carpet\"}],\"choropleth\":[{\"colorbar\":{\"outlinewidth\":0,\"ticks\":\"\"},\"type\":\"choropleth\"}],\"contourcarpet\":[{\"colorbar\":{\"outlinewidth\":0,\"ticks\":\"\"},\"type\":\"contourcarpet\"}],\"contour\":[{\"colorbar\":{\"outlinewidth\":0,\"ticks\":\"\"},\"colorscale\":[[0.0,\"#0d0887\"],[0.1111111111111111,\"#46039f\"],[0.2222222222222222,\"#7201a8\"],[0.3333333333333333,\"#9c179e\"],[0.4444444444444444,\"#bd3786\"],[0.5555555555555556,\"#d8576b\"],[0.6666666666666666,\"#ed7953\"],[0.7777777777777778,\"#fb9f3a\"],[0.8888888888888888,\"#fdca26\"],[1.0,\"#f0f921\"]],\"type\":\"contour\"}],\"heatmapgl\":[{\"colorbar\":{\"outlinewidth\":0,\"ticks\":\"\"},\"colorscale\":[[0.0,\"#0d0887\"],[0.1111111111111111,\"#46039f\"],[0.2222222222222222,\"#7201a8\"],[0.3333333333333333,\"#9c179e\"],[0.4444444444444444,\"#bd3786\"],[0.5555555555555556,\"#d8576b\"],[0.6666666666666666,\"#ed7953\"],[0.7777777777777778,\"#fb9f3a\"],[0.8888888888888888,\"#fdca26\"],[1.0,\"#f0f921\"]],\"type\":\"heatmapgl\"}],\"heatmap\":[{\"colorbar\":{\"outlinewidth\":0,\"ticks\":\"\"},\"colorscale\":[[0.0,\"#0d0887\"],[0.1111111111111111,\"#46039f\"],[0.2222222222222222,\"#7201a8\"],[0.3333333333333333,\"#9c179e\"],[0.4444444444444444,\"#bd3786\"],[0.5555555555555556,\"#d8576b\"],[0.6666666666666666,\"#ed7953\"],[0.7777777777777778,\"#fb9f3a\"],[0.8888888888888888,\"#fdca26\"],[1.0,\"#f0f921\"]],\"type\":\"heatmap\"}],\"histogram2dcontour\":[{\"colorbar\":{\"outlinewidth\":0,\"ticks\":\"\"},\"colorscale\":[[0.0,\"#0d0887\"],[0.1111111111111111,\"#46039f\"],[0.2222222222222222,\"#7201a8\"],[0.3333333333333333,\"#9c179e\"],[0.4444444444444444,\"#bd3786\"],[0.5555555555555556,\"#d8576b\"],[0.6666666666666666,\"#ed7953\"],[0.7777777777777778,\"#fb9f3a\"],[0.8888888888888888,\"#fdca26\"],[1.0,\"#f0f921\"]],\"type\":\"histogram2dcontour\"}],\"histogram2d\":[{\"colorbar\":{\"outlinewidth\":0,\"ticks\":\"\"},\"colorscale\":[[0.0,\"#0d0887\"],[0.1111111111111111,\"#46039f\"],[0.2222222222222222,\"#7201a8\"],[0.3333333333333333,\"#9c179e\"],[0.4444444444444444,\"#bd3786\"],[0.5555555555555556,\"#d8576b\"],[0.6666666666666666,\"#ed7953\"],[0.7777777777777778,\"#fb9f3a\"],[0.8888888888888888,\"#fdca26\"],[1.0,\"#f0f921\"]],\"type\":\"histogram2d\"}],\"histogram\":[{\"marker\":{\"pattern\":{\"fillmode\":\"overlay\",\"size\":10,\"solidity\":0.2}},\"type\":\"histogram\"}],\"mesh3d\":[{\"colorbar\":{\"outlinewidth\":0,\"ticks\":\"\"},\"type\":\"mesh3d\"}],\"parcoords\":[{\"line\":{\"colorbar\":{\"outlinewidth\":0,\"ticks\":\"\"}},\"type\":\"parcoords\"}],\"pie\":[{\"automargin\":true,\"type\":\"pie\"}],\"scatter3d\":[{\"line\":{\"colorbar\":{\"outlinewidth\":0,\"ticks\":\"\"}},\"marker\":{\"colorbar\":{\"outlinewidth\":0,\"ticks\":\"\"}},\"type\":\"scatter3d\"}],\"scattercarpet\":[{\"marker\":{\"colorbar\":{\"outlinewidth\":0,\"ticks\":\"\"}},\"type\":\"scattercarpet\"}],\"scattergeo\":[{\"marker\":{\"colorbar\":{\"outlinewidth\":0,\"ticks\":\"\"}},\"type\":\"scattergeo\"}],\"scattergl\":[{\"marker\":{\"colorbar\":{\"outlinewidth\":0,\"ticks\":\"\"}},\"type\":\"scattergl\"}],\"scattermapbox\":[{\"marker\":{\"colorbar\":{\"outlinewidth\":0,\"ticks\":\"\"}},\"type\":\"scattermapbox\"}],\"scatterpolargl\":[{\"marker\":{\"colorbar\":{\"outlinewidth\":0,\"ticks\":\"\"}},\"type\":\"scatterpolargl\"}],\"scatterpolar\":[{\"marker\":{\"colorbar\":{\"outlinewidth\":0,\"ticks\":\"\"}},\"type\":\"scatterpolar\"}],\"scatter\":[{\"marker\":{\"colorbar\":{\"outlinewidth\":0,\"ticks\":\"\"}},\"type\":\"scatter\"}],\"scatterternary\":[{\"marker\":{\"colorbar\":{\"outlinewidth\":0,\"ticks\":\"\"}},\"type\":\"scatterternary\"}],\"surface\":[{\"colorbar\":{\"outlinewidth\":0,\"ticks\":\"\"},\"colorscale\":[[0.0,\"#0d0887\"],[0.1111111111111111,\"#46039f\"],[0.2222222222222222,\"#7201a8\"],[0.3333333333333333,\"#9c179e\"],[0.4444444444444444,\"#bd3786\"],[0.5555555555555556,\"#d8576b\"],[0.6666666666666666,\"#ed7953\"],[0.7777777777777778,\"#fb9f3a\"],[0.8888888888888888,\"#fdca26\"],[1.0,\"#f0f921\"]],\"type\":\"surface\"}],\"table\":[{\"cells\":{\"fill\":{\"color\":\"#EBF0F8\"},\"line\":{\"color\":\"white\"}},\"header\":{\"fill\":{\"color\":\"#C8D4E3\"},\"line\":{\"color\":\"white\"}},\"type\":\"table\"}]},\"layout\":{\"annotationdefaults\":{\"arrowcolor\":\"#2a3f5f\",\"arrowhead\":0,\"arrowwidth\":1},\"autotypenumbers\":\"strict\",\"coloraxis\":{\"colorbar\":{\"outlinewidth\":0,\"ticks\":\"\"}},\"colorscale\":{\"diverging\":[[0,\"#8e0152\"],[0.1,\"#c51b7d\"],[0.2,\"#de77ae\"],[0.3,\"#f1b6da\"],[0.4,\"#fde0ef\"],[0.5,\"#f7f7f7\"],[0.6,\"#e6f5d0\"],[0.7,\"#b8e186\"],[0.8,\"#7fbc41\"],[0.9,\"#4d9221\"],[1,\"#276419\"]],\"sequential\":[[0.0,\"#0d0887\"],[0.1111111111111111,\"#46039f\"],[0.2222222222222222,\"#7201a8\"],[0.3333333333333333,\"#9c179e\"],[0.4444444444444444,\"#bd3786\"],[0.5555555555555556,\"#d8576b\"],[0.6666666666666666,\"#ed7953\"],[0.7777777777777778,\"#fb9f3a\"],[0.8888888888888888,\"#fdca26\"],[1.0,\"#f0f921\"]],\"sequentialminus\":[[0.0,\"#0d0887\"],[0.1111111111111111,\"#46039f\"],[0.2222222222222222,\"#7201a8\"],[0.3333333333333333,\"#9c179e\"],[0.4444444444444444,\"#bd3786\"],[0.5555555555555556,\"#d8576b\"],[0.6666666666666666,\"#ed7953\"],[0.7777777777777778,\"#fb9f3a\"],[0.8888888888888888,\"#fdca26\"],[1.0,\"#f0f921\"]]},\"colorway\":[\"#636efa\",\"#EF553B\",\"#00cc96\",\"#ab63fa\",\"#FFA15A\",\"#19d3f3\",\"#FF6692\",\"#B6E880\",\"#FF97FF\",\"#FECB52\"],\"font\":{\"color\":\"#2a3f5f\"},\"geo\":{\"bgcolor\":\"white\",\"lakecolor\":\"white\",\"landcolor\":\"#E5ECF6\",\"showlakes\":true,\"showland\":true,\"subunitcolor\":\"white\"},\"hoverlabel\":{\"align\":\"left\"},\"hovermode\":\"closest\",\"mapbox\":{\"style\":\"light\"},\"paper_bgcolor\":\"white\",\"plot_bgcolor\":\"#E5ECF6\",\"polar\":{\"angularaxis\":{\"gridcolor\":\"white\",\"linecolor\":\"white\",\"ticks\":\"\"},\"bgcolor\":\"#E5ECF6\",\"radialaxis\":{\"gridcolor\":\"white\",\"linecolor\":\"white\",\"ticks\":\"\"}},\"scene\":{\"xaxis\":{\"backgroundcolor\":\"#E5ECF6\",\"gridcolor\":\"white\",\"gridwidth\":2,\"linecolor\":\"white\",\"showbackground\":true,\"ticks\":\"\",\"zerolinecolor\":\"white\"},\"yaxis\":{\"backgroundcolor\":\"#E5ECF6\",\"gridcolor\":\"white\",\"gridwidth\":2,\"linecolor\":\"white\",\"showbackground\":true,\"ticks\":\"\",\"zerolinecolor\":\"white\"},\"zaxis\":{\"backgroundcolor\":\"#E5ECF6\",\"gridcolor\":\"white\",\"gridwidth\":2,\"linecolor\":\"white\",\"showbackground\":true,\"ticks\":\"\",\"zerolinecolor\":\"white\"}},\"shapedefaults\":{\"line\":{\"color\":\"#2a3f5f\"}},\"ternary\":{\"aaxis\":{\"gridcolor\":\"white\",\"linecolor\":\"white\",\"ticks\":\"\"},\"baxis\":{\"gridcolor\":\"white\",\"linecolor\":\"white\",\"ticks\":\"\"},\"bgcolor\":\"#E5ECF6\",\"caxis\":{\"gridcolor\":\"white\",\"linecolor\":\"white\",\"ticks\":\"\"}},\"title\":{\"x\":0.05},\"xaxis\":{\"automargin\":true,\"gridcolor\":\"white\",\"linecolor\":\"white\",\"ticks\":\"\",\"title\":{\"standoff\":15},\"zerolinecolor\":\"white\",\"zerolinewidth\":2},\"yaxis\":{\"automargin\":true,\"gridcolor\":\"white\",\"linecolor\":\"white\",\"ticks\":\"\",\"title\":{\"standoff\":15},\"zerolinecolor\":\"white\",\"zerolinewidth\":2}}},\"xaxis\":{\"anchor\":\"y\",\"domain\":[0.0,1.0],\"title\":{\"text\":\"year_added\"},\"tickmode\":\"linear\",\"tick0\":2008,\"dtick\":1},\"yaxis\":{\"anchor\":\"x\",\"domain\":[0.0,1.0],\"title\":{\"text\":\"show_id\"}}},                        {\"responsive\": true}                    ).then(function(){\n",
              "                            \n",
              "var gd = document.getElementById('8bb12595-78b3-4a5b-a4c6-f4426ad8203a');\n",
              "var x = new MutationObserver(function (mutations, observer) {{\n",
              "        var display = window.getComputedStyle(gd).display;\n",
              "        if (!display || display === 'none') {{\n",
              "            console.log([gd, 'removed!']);\n",
              "            Plotly.purge(gd);\n",
              "            observer.disconnect();\n",
              "        }}\n",
              "}});\n",
              "\n",
              "// Listen for the removal of the full notebook cells\n",
              "var notebookContainer = gd.closest('#notebook-container');\n",
              "if (notebookContainer) {{\n",
              "    x.observe(notebookContainer, {childList: true});\n",
              "}}\n",
              "\n",
              "// Listen for the clearing of the current output cell\n",
              "var outputEl = gd.closest('.output');\n",
              "if (outputEl) {{\n",
              "    x.observe(outputEl, {childList: true});\n",
              "}}\n",
              "\n",
              "                        })                };                });            </script>        </div>"
            ]
          },
          "metadata": {},
          "output_type": "display_data"
        }
      ],
      "source": [
        "fig = go.Figure(px.line(df_agg, x='year_added', y='show_id'))\n",
        "\n",
        "fig.update_layout(\n",
        "    xaxis = dict(\n",
        "        tickmode = 'linear',\n",
        "        tick0 = 2008,\n",
        "        dtick = 1\n",
        "    )\n",
        ")\n"
      ]
    },
    {
      "cell_type": "code",
      "execution_count": null,
      "id": "98696f17",
      "metadata": {
        "id": "98696f17",
        "outputId": "0ef856cc-ae18-42a8-cc85-25aef49e33aa"
      },
      "outputs": [
        {
          "data": {
            "application/vnd.plotly.v1+json": {
              "config": {
                "plotlyServerURL": "https://plot.ly"
              },
              "data": [
                {
                  "hovertemplate": "year_added=%{x}<br>show_id=%{y}<extra></extra>",
                  "legendgroup": "",
                  "line": {
                    "color": "#636efa",
                    "dash": "solid"
                  },
                  "marker": {
                    "symbol": "circle"
                  },
                  "mode": "lines",
                  "name": "",
                  "orientation": "v",
                  "showlegend": false,
                  "type": "scatter",
                  "x": [
                    2008,
                    2009,
                    2010,
                    2011,
                    2012,
                    2013,
                    2014,
                    2015,
                    2016,
                    2017,
                    2018,
                    2019,
                    2020,
                    2021
                  ],
                  "xaxis": "x",
                  "y": [
                    2,
                    2,
                    1,
                    13,
                    3,
                    11,
                    24,
                    82,
                    429,
                    1188,
                    1649,
                    2016,
                    1879,
                    1498
                  ],
                  "yaxis": "y"
                }
              ],
              "layout": {
                "legend": {
                  "tracegroupgap": 0
                },
                "margin": {
                  "t": 60
                },
                "template": {
                  "data": {
                    "bar": [
                      {
                        "error_x": {
                          "color": "#2a3f5f"
                        },
                        "error_y": {
                          "color": "#2a3f5f"
                        },
                        "marker": {
                          "line": {
                            "color": "#E5ECF6",
                            "width": 0.5
                          },
                          "pattern": {
                            "fillmode": "overlay",
                            "size": 10,
                            "solidity": 0.2
                          }
                        },
                        "type": "bar"
                      }
                    ],
                    "barpolar": [
                      {
                        "marker": {
                          "line": {
                            "color": "#E5ECF6",
                            "width": 0.5
                          },
                          "pattern": {
                            "fillmode": "overlay",
                            "size": 10,
                            "solidity": 0.2
                          }
                        },
                        "type": "barpolar"
                      }
                    ],
                    "carpet": [
                      {
                        "aaxis": {
                          "endlinecolor": "#2a3f5f",
                          "gridcolor": "white",
                          "linecolor": "white",
                          "minorgridcolor": "white",
                          "startlinecolor": "#2a3f5f"
                        },
                        "baxis": {
                          "endlinecolor": "#2a3f5f",
                          "gridcolor": "white",
                          "linecolor": "white",
                          "minorgridcolor": "white",
                          "startlinecolor": "#2a3f5f"
                        },
                        "type": "carpet"
                      }
                    ],
                    "choropleth": [
                      {
                        "colorbar": {
                          "outlinewidth": 0,
                          "ticks": ""
                        },
                        "type": "choropleth"
                      }
                    ],
                    "contour": [
                      {
                        "colorbar": {
                          "outlinewidth": 0,
                          "ticks": ""
                        },
                        "colorscale": [
                          [
                            0,
                            "#0d0887"
                          ],
                          [
                            0.1111111111111111,
                            "#46039f"
                          ],
                          [
                            0.2222222222222222,
                            "#7201a8"
                          ],
                          [
                            0.3333333333333333,
                            "#9c179e"
                          ],
                          [
                            0.4444444444444444,
                            "#bd3786"
                          ],
                          [
                            0.5555555555555556,
                            "#d8576b"
                          ],
                          [
                            0.6666666666666666,
                            "#ed7953"
                          ],
                          [
                            0.7777777777777778,
                            "#fb9f3a"
                          ],
                          [
                            0.8888888888888888,
                            "#fdca26"
                          ],
                          [
                            1,
                            "#f0f921"
                          ]
                        ],
                        "type": "contour"
                      }
                    ],
                    "contourcarpet": [
                      {
                        "colorbar": {
                          "outlinewidth": 0,
                          "ticks": ""
                        },
                        "type": "contourcarpet"
                      }
                    ],
                    "heatmap": [
                      {
                        "colorbar": {
                          "outlinewidth": 0,
                          "ticks": ""
                        },
                        "colorscale": [
                          [
                            0,
                            "#0d0887"
                          ],
                          [
                            0.1111111111111111,
                            "#46039f"
                          ],
                          [
                            0.2222222222222222,
                            "#7201a8"
                          ],
                          [
                            0.3333333333333333,
                            "#9c179e"
                          ],
                          [
                            0.4444444444444444,
                            "#bd3786"
                          ],
                          [
                            0.5555555555555556,
                            "#d8576b"
                          ],
                          [
                            0.6666666666666666,
                            "#ed7953"
                          ],
                          [
                            0.7777777777777778,
                            "#fb9f3a"
                          ],
                          [
                            0.8888888888888888,
                            "#fdca26"
                          ],
                          [
                            1,
                            "#f0f921"
                          ]
                        ],
                        "type": "heatmap"
                      }
                    ],
                    "heatmapgl": [
                      {
                        "colorbar": {
                          "outlinewidth": 0,
                          "ticks": ""
                        },
                        "colorscale": [
                          [
                            0,
                            "#0d0887"
                          ],
                          [
                            0.1111111111111111,
                            "#46039f"
                          ],
                          [
                            0.2222222222222222,
                            "#7201a8"
                          ],
                          [
                            0.3333333333333333,
                            "#9c179e"
                          ],
                          [
                            0.4444444444444444,
                            "#bd3786"
                          ],
                          [
                            0.5555555555555556,
                            "#d8576b"
                          ],
                          [
                            0.6666666666666666,
                            "#ed7953"
                          ],
                          [
                            0.7777777777777778,
                            "#fb9f3a"
                          ],
                          [
                            0.8888888888888888,
                            "#fdca26"
                          ],
                          [
                            1,
                            "#f0f921"
                          ]
                        ],
                        "type": "heatmapgl"
                      }
                    ],
                    "histogram": [
                      {
                        "marker": {
                          "pattern": {
                            "fillmode": "overlay",
                            "size": 10,
                            "solidity": 0.2
                          }
                        },
                        "type": "histogram"
                      }
                    ],
                    "histogram2d": [
                      {
                        "colorbar": {
                          "outlinewidth": 0,
                          "ticks": ""
                        },
                        "colorscale": [
                          [
                            0,
                            "#0d0887"
                          ],
                          [
                            0.1111111111111111,
                            "#46039f"
                          ],
                          [
                            0.2222222222222222,
                            "#7201a8"
                          ],
                          [
                            0.3333333333333333,
                            "#9c179e"
                          ],
                          [
                            0.4444444444444444,
                            "#bd3786"
                          ],
                          [
                            0.5555555555555556,
                            "#d8576b"
                          ],
                          [
                            0.6666666666666666,
                            "#ed7953"
                          ],
                          [
                            0.7777777777777778,
                            "#fb9f3a"
                          ],
                          [
                            0.8888888888888888,
                            "#fdca26"
                          ],
                          [
                            1,
                            "#f0f921"
                          ]
                        ],
                        "type": "histogram2d"
                      }
                    ],
                    "histogram2dcontour": [
                      {
                        "colorbar": {
                          "outlinewidth": 0,
                          "ticks": ""
                        },
                        "colorscale": [
                          [
                            0,
                            "#0d0887"
                          ],
                          [
                            0.1111111111111111,
                            "#46039f"
                          ],
                          [
                            0.2222222222222222,
                            "#7201a8"
                          ],
                          [
                            0.3333333333333333,
                            "#9c179e"
                          ],
                          [
                            0.4444444444444444,
                            "#bd3786"
                          ],
                          [
                            0.5555555555555556,
                            "#d8576b"
                          ],
                          [
                            0.6666666666666666,
                            "#ed7953"
                          ],
                          [
                            0.7777777777777778,
                            "#fb9f3a"
                          ],
                          [
                            0.8888888888888888,
                            "#fdca26"
                          ],
                          [
                            1,
                            "#f0f921"
                          ]
                        ],
                        "type": "histogram2dcontour"
                      }
                    ],
                    "mesh3d": [
                      {
                        "colorbar": {
                          "outlinewidth": 0,
                          "ticks": ""
                        },
                        "type": "mesh3d"
                      }
                    ],
                    "parcoords": [
                      {
                        "line": {
                          "colorbar": {
                            "outlinewidth": 0,
                            "ticks": ""
                          }
                        },
                        "type": "parcoords"
                      }
                    ],
                    "pie": [
                      {
                        "automargin": true,
                        "type": "pie"
                      }
                    ],
                    "scatter": [
                      {
                        "marker": {
                          "colorbar": {
                            "outlinewidth": 0,
                            "ticks": ""
                          }
                        },
                        "type": "scatter"
                      }
                    ],
                    "scatter3d": [
                      {
                        "line": {
                          "colorbar": {
                            "outlinewidth": 0,
                            "ticks": ""
                          }
                        },
                        "marker": {
                          "colorbar": {
                            "outlinewidth": 0,
                            "ticks": ""
                          }
                        },
                        "type": "scatter3d"
                      }
                    ],
                    "scattercarpet": [
                      {
                        "marker": {
                          "colorbar": {
                            "outlinewidth": 0,
                            "ticks": ""
                          }
                        },
                        "type": "scattercarpet"
                      }
                    ],
                    "scattergeo": [
                      {
                        "marker": {
                          "colorbar": {
                            "outlinewidth": 0,
                            "ticks": ""
                          }
                        },
                        "type": "scattergeo"
                      }
                    ],
                    "scattergl": [
                      {
                        "marker": {
                          "colorbar": {
                            "outlinewidth": 0,
                            "ticks": ""
                          }
                        },
                        "type": "scattergl"
                      }
                    ],
                    "scattermapbox": [
                      {
                        "marker": {
                          "colorbar": {
                            "outlinewidth": 0,
                            "ticks": ""
                          }
                        },
                        "type": "scattermapbox"
                      }
                    ],
                    "scatterpolar": [
                      {
                        "marker": {
                          "colorbar": {
                            "outlinewidth": 0,
                            "ticks": ""
                          }
                        },
                        "type": "scatterpolar"
                      }
                    ],
                    "scatterpolargl": [
                      {
                        "marker": {
                          "colorbar": {
                            "outlinewidth": 0,
                            "ticks": ""
                          }
                        },
                        "type": "scatterpolargl"
                      }
                    ],
                    "scatterternary": [
                      {
                        "marker": {
                          "colorbar": {
                            "outlinewidth": 0,
                            "ticks": ""
                          }
                        },
                        "type": "scatterternary"
                      }
                    ],
                    "surface": [
                      {
                        "colorbar": {
                          "outlinewidth": 0,
                          "ticks": ""
                        },
                        "colorscale": [
                          [
                            0,
                            "#0d0887"
                          ],
                          [
                            0.1111111111111111,
                            "#46039f"
                          ],
                          [
                            0.2222222222222222,
                            "#7201a8"
                          ],
                          [
                            0.3333333333333333,
                            "#9c179e"
                          ],
                          [
                            0.4444444444444444,
                            "#bd3786"
                          ],
                          [
                            0.5555555555555556,
                            "#d8576b"
                          ],
                          [
                            0.6666666666666666,
                            "#ed7953"
                          ],
                          [
                            0.7777777777777778,
                            "#fb9f3a"
                          ],
                          [
                            0.8888888888888888,
                            "#fdca26"
                          ],
                          [
                            1,
                            "#f0f921"
                          ]
                        ],
                        "type": "surface"
                      }
                    ],
                    "table": [
                      {
                        "cells": {
                          "fill": {
                            "color": "#EBF0F8"
                          },
                          "line": {
                            "color": "white"
                          }
                        },
                        "header": {
                          "fill": {
                            "color": "#C8D4E3"
                          },
                          "line": {
                            "color": "white"
                          }
                        },
                        "type": "table"
                      }
                    ]
                  },
                  "layout": {
                    "annotationdefaults": {
                      "arrowcolor": "#2a3f5f",
                      "arrowhead": 0,
                      "arrowwidth": 1
                    },
                    "autotypenumbers": "strict",
                    "coloraxis": {
                      "colorbar": {
                        "outlinewidth": 0,
                        "ticks": ""
                      }
                    },
                    "colorscale": {
                      "diverging": [
                        [
                          0,
                          "#8e0152"
                        ],
                        [
                          0.1,
                          "#c51b7d"
                        ],
                        [
                          0.2,
                          "#de77ae"
                        ],
                        [
                          0.3,
                          "#f1b6da"
                        ],
                        [
                          0.4,
                          "#fde0ef"
                        ],
                        [
                          0.5,
                          "#f7f7f7"
                        ],
                        [
                          0.6,
                          "#e6f5d0"
                        ],
                        [
                          0.7,
                          "#b8e186"
                        ],
                        [
                          0.8,
                          "#7fbc41"
                        ],
                        [
                          0.9,
                          "#4d9221"
                        ],
                        [
                          1,
                          "#276419"
                        ]
                      ],
                      "sequential": [
                        [
                          0,
                          "#0d0887"
                        ],
                        [
                          0.1111111111111111,
                          "#46039f"
                        ],
                        [
                          0.2222222222222222,
                          "#7201a8"
                        ],
                        [
                          0.3333333333333333,
                          "#9c179e"
                        ],
                        [
                          0.4444444444444444,
                          "#bd3786"
                        ],
                        [
                          0.5555555555555556,
                          "#d8576b"
                        ],
                        [
                          0.6666666666666666,
                          "#ed7953"
                        ],
                        [
                          0.7777777777777778,
                          "#fb9f3a"
                        ],
                        [
                          0.8888888888888888,
                          "#fdca26"
                        ],
                        [
                          1,
                          "#f0f921"
                        ]
                      ],
                      "sequentialminus": [
                        [
                          0,
                          "#0d0887"
                        ],
                        [
                          0.1111111111111111,
                          "#46039f"
                        ],
                        [
                          0.2222222222222222,
                          "#7201a8"
                        ],
                        [
                          0.3333333333333333,
                          "#9c179e"
                        ],
                        [
                          0.4444444444444444,
                          "#bd3786"
                        ],
                        [
                          0.5555555555555556,
                          "#d8576b"
                        ],
                        [
                          0.6666666666666666,
                          "#ed7953"
                        ],
                        [
                          0.7777777777777778,
                          "#fb9f3a"
                        ],
                        [
                          0.8888888888888888,
                          "#fdca26"
                        ],
                        [
                          1,
                          "#f0f921"
                        ]
                      ]
                    },
                    "colorway": [
                      "#636efa",
                      "#EF553B",
                      "#00cc96",
                      "#ab63fa",
                      "#FFA15A",
                      "#19d3f3",
                      "#FF6692",
                      "#B6E880",
                      "#FF97FF",
                      "#FECB52"
                    ],
                    "font": {
                      "color": "#2a3f5f"
                    },
                    "geo": {
                      "bgcolor": "white",
                      "lakecolor": "white",
                      "landcolor": "#E5ECF6",
                      "showlakes": true,
                      "showland": true,
                      "subunitcolor": "white"
                    },
                    "hoverlabel": {
                      "align": "left"
                    },
                    "hovermode": "closest",
                    "mapbox": {
                      "style": "light"
                    },
                    "paper_bgcolor": "white",
                    "plot_bgcolor": "#E5ECF6",
                    "polar": {
                      "angularaxis": {
                        "gridcolor": "white",
                        "linecolor": "white",
                        "ticks": ""
                      },
                      "bgcolor": "#E5ECF6",
                      "radialaxis": {
                        "gridcolor": "white",
                        "linecolor": "white",
                        "ticks": ""
                      }
                    },
                    "scene": {
                      "xaxis": {
                        "backgroundcolor": "#E5ECF6",
                        "gridcolor": "white",
                        "gridwidth": 2,
                        "linecolor": "white",
                        "showbackground": true,
                        "ticks": "",
                        "zerolinecolor": "white"
                      },
                      "yaxis": {
                        "backgroundcolor": "#E5ECF6",
                        "gridcolor": "white",
                        "gridwidth": 2,
                        "linecolor": "white",
                        "showbackground": true,
                        "ticks": "",
                        "zerolinecolor": "white"
                      },
                      "zaxis": {
                        "backgroundcolor": "#E5ECF6",
                        "gridcolor": "white",
                        "gridwidth": 2,
                        "linecolor": "white",
                        "showbackground": true,
                        "ticks": "",
                        "zerolinecolor": "white"
                      }
                    },
                    "shapedefaults": {
                      "line": {
                        "color": "#2a3f5f"
                      }
                    },
                    "ternary": {
                      "aaxis": {
                        "gridcolor": "white",
                        "linecolor": "white",
                        "ticks": ""
                      },
                      "baxis": {
                        "gridcolor": "white",
                        "linecolor": "white",
                        "ticks": ""
                      },
                      "bgcolor": "#E5ECF6",
                      "caxis": {
                        "gridcolor": "white",
                        "linecolor": "white",
                        "ticks": ""
                      }
                    },
                    "title": {
                      "x": 0.05
                    },
                    "xaxis": {
                      "automargin": true,
                      "gridcolor": "white",
                      "linecolor": "white",
                      "ticks": "",
                      "title": {
                        "standoff": 15
                      },
                      "zerolinecolor": "white",
                      "zerolinewidth": 2
                    },
                    "yaxis": {
                      "automargin": true,
                      "gridcolor": "white",
                      "linecolor": "white",
                      "ticks": "",
                      "title": {
                        "standoff": 15
                      },
                      "zerolinecolor": "white",
                      "zerolinewidth": 2
                    }
                  }
                },
                "xaxis": {
                  "anchor": "y",
                  "domain": [
                    0,
                    1
                  ],
                  "title": {
                    "text": "year_added"
                  }
                },
                "yaxis": {
                  "anchor": "x",
                  "domain": [
                    0,
                    1
                  ],
                  "title": {
                    "text": "show_id"
                  }
                }
              }
            },
            "text/html": [
              "<div>                            <div id=\"bdb7ece0-1cf8-4e62-8bbe-0c0c6e472c87\" class=\"plotly-graph-div\" style=\"height:525px; width:100%;\"></div>            <script type=\"text/javascript\">                require([\"plotly\"], function(Plotly) {                    window.PLOTLYENV=window.PLOTLYENV || {};                                    if (document.getElementById(\"bdb7ece0-1cf8-4e62-8bbe-0c0c6e472c87\")) {                    Plotly.newPlot(                        \"bdb7ece0-1cf8-4e62-8bbe-0c0c6e472c87\",                        [{\"hovertemplate\":\"year_added=%{x}<br>show_id=%{y}<extra></extra>\",\"legendgroup\":\"\",\"line\":{\"color\":\"#636efa\",\"dash\":\"solid\"},\"marker\":{\"symbol\":\"circle\"},\"mode\":\"lines\",\"name\":\"\",\"orientation\":\"v\",\"showlegend\":false,\"x\":[2008,2009,2010,2011,2012,2013,2014,2015,2016,2017,2018,2019,2020,2021],\"xaxis\":\"x\",\"y\":[2,2,1,13,3,11,24,82,429,1188,1649,2016,1879,1498],\"yaxis\":\"y\",\"type\":\"scatter\"}],                        {\"template\":{\"data\":{\"bar\":[{\"error_x\":{\"color\":\"#2a3f5f\"},\"error_y\":{\"color\":\"#2a3f5f\"},\"marker\":{\"line\":{\"color\":\"#E5ECF6\",\"width\":0.5},\"pattern\":{\"fillmode\":\"overlay\",\"size\":10,\"solidity\":0.2}},\"type\":\"bar\"}],\"barpolar\":[{\"marker\":{\"line\":{\"color\":\"#E5ECF6\",\"width\":0.5},\"pattern\":{\"fillmode\":\"overlay\",\"size\":10,\"solidity\":0.2}},\"type\":\"barpolar\"}],\"carpet\":[{\"aaxis\":{\"endlinecolor\":\"#2a3f5f\",\"gridcolor\":\"white\",\"linecolor\":\"white\",\"minorgridcolor\":\"white\",\"startlinecolor\":\"#2a3f5f\"},\"baxis\":{\"endlinecolor\":\"#2a3f5f\",\"gridcolor\":\"white\",\"linecolor\":\"white\",\"minorgridcolor\":\"white\",\"startlinecolor\":\"#2a3f5f\"},\"type\":\"carpet\"}],\"choropleth\":[{\"colorbar\":{\"outlinewidth\":0,\"ticks\":\"\"},\"type\":\"choropleth\"}],\"contour\":[{\"colorbar\":{\"outlinewidth\":0,\"ticks\":\"\"},\"colorscale\":[[0.0,\"#0d0887\"],[0.1111111111111111,\"#46039f\"],[0.2222222222222222,\"#7201a8\"],[0.3333333333333333,\"#9c179e\"],[0.4444444444444444,\"#bd3786\"],[0.5555555555555556,\"#d8576b\"],[0.6666666666666666,\"#ed7953\"],[0.7777777777777778,\"#fb9f3a\"],[0.8888888888888888,\"#fdca26\"],[1.0,\"#f0f921\"]],\"type\":\"contour\"}],\"contourcarpet\":[{\"colorbar\":{\"outlinewidth\":0,\"ticks\":\"\"},\"type\":\"contourcarpet\"}],\"heatmap\":[{\"colorbar\":{\"outlinewidth\":0,\"ticks\":\"\"},\"colorscale\":[[0.0,\"#0d0887\"],[0.1111111111111111,\"#46039f\"],[0.2222222222222222,\"#7201a8\"],[0.3333333333333333,\"#9c179e\"],[0.4444444444444444,\"#bd3786\"],[0.5555555555555556,\"#d8576b\"],[0.6666666666666666,\"#ed7953\"],[0.7777777777777778,\"#fb9f3a\"],[0.8888888888888888,\"#fdca26\"],[1.0,\"#f0f921\"]],\"type\":\"heatmap\"}],\"heatmapgl\":[{\"colorbar\":{\"outlinewidth\":0,\"ticks\":\"\"},\"colorscale\":[[0.0,\"#0d0887\"],[0.1111111111111111,\"#46039f\"],[0.2222222222222222,\"#7201a8\"],[0.3333333333333333,\"#9c179e\"],[0.4444444444444444,\"#bd3786\"],[0.5555555555555556,\"#d8576b\"],[0.6666666666666666,\"#ed7953\"],[0.7777777777777778,\"#fb9f3a\"],[0.8888888888888888,\"#fdca26\"],[1.0,\"#f0f921\"]],\"type\":\"heatmapgl\"}],\"histogram\":[{\"marker\":{\"pattern\":{\"fillmode\":\"overlay\",\"size\":10,\"solidity\":0.2}},\"type\":\"histogram\"}],\"histogram2d\":[{\"colorbar\":{\"outlinewidth\":0,\"ticks\":\"\"},\"colorscale\":[[0.0,\"#0d0887\"],[0.1111111111111111,\"#46039f\"],[0.2222222222222222,\"#7201a8\"],[0.3333333333333333,\"#9c179e\"],[0.4444444444444444,\"#bd3786\"],[0.5555555555555556,\"#d8576b\"],[0.6666666666666666,\"#ed7953\"],[0.7777777777777778,\"#fb9f3a\"],[0.8888888888888888,\"#fdca26\"],[1.0,\"#f0f921\"]],\"type\":\"histogram2d\"}],\"histogram2dcontour\":[{\"colorbar\":{\"outlinewidth\":0,\"ticks\":\"\"},\"colorscale\":[[0.0,\"#0d0887\"],[0.1111111111111111,\"#46039f\"],[0.2222222222222222,\"#7201a8\"],[0.3333333333333333,\"#9c179e\"],[0.4444444444444444,\"#bd3786\"],[0.5555555555555556,\"#d8576b\"],[0.6666666666666666,\"#ed7953\"],[0.7777777777777778,\"#fb9f3a\"],[0.8888888888888888,\"#fdca26\"],[1.0,\"#f0f921\"]],\"type\":\"histogram2dcontour\"}],\"mesh3d\":[{\"colorbar\":{\"outlinewidth\":0,\"ticks\":\"\"},\"type\":\"mesh3d\"}],\"parcoords\":[{\"line\":{\"colorbar\":{\"outlinewidth\":0,\"ticks\":\"\"}},\"type\":\"parcoords\"}],\"pie\":[{\"automargin\":true,\"type\":\"pie\"}],\"scatter\":[{\"marker\":{\"colorbar\":{\"outlinewidth\":0,\"ticks\":\"\"}},\"type\":\"scatter\"}],\"scatter3d\":[{\"line\":{\"colorbar\":{\"outlinewidth\":0,\"ticks\":\"\"}},\"marker\":{\"colorbar\":{\"outlinewidth\":0,\"ticks\":\"\"}},\"type\":\"scatter3d\"}],\"scattercarpet\":[{\"marker\":{\"colorbar\":{\"outlinewidth\":0,\"ticks\":\"\"}},\"type\":\"scattercarpet\"}],\"scattergeo\":[{\"marker\":{\"colorbar\":{\"outlinewidth\":0,\"ticks\":\"\"}},\"type\":\"scattergeo\"}],\"scattergl\":[{\"marker\":{\"colorbar\":{\"outlinewidth\":0,\"ticks\":\"\"}},\"type\":\"scattergl\"}],\"scattermapbox\":[{\"marker\":{\"colorbar\":{\"outlinewidth\":0,\"ticks\":\"\"}},\"type\":\"scattermapbox\"}],\"scatterpolar\":[{\"marker\":{\"colorbar\":{\"outlinewidth\":0,\"ticks\":\"\"}},\"type\":\"scatterpolar\"}],\"scatterpolargl\":[{\"marker\":{\"colorbar\":{\"outlinewidth\":0,\"ticks\":\"\"}},\"type\":\"scatterpolargl\"}],\"scatterternary\":[{\"marker\":{\"colorbar\":{\"outlinewidth\":0,\"ticks\":\"\"}},\"type\":\"scatterternary\"}],\"surface\":[{\"colorbar\":{\"outlinewidth\":0,\"ticks\":\"\"},\"colorscale\":[[0.0,\"#0d0887\"],[0.1111111111111111,\"#46039f\"],[0.2222222222222222,\"#7201a8\"],[0.3333333333333333,\"#9c179e\"],[0.4444444444444444,\"#bd3786\"],[0.5555555555555556,\"#d8576b\"],[0.6666666666666666,\"#ed7953\"],[0.7777777777777778,\"#fb9f3a\"],[0.8888888888888888,\"#fdca26\"],[1.0,\"#f0f921\"]],\"type\":\"surface\"}],\"table\":[{\"cells\":{\"fill\":{\"color\":\"#EBF0F8\"},\"line\":{\"color\":\"white\"}},\"header\":{\"fill\":{\"color\":\"#C8D4E3\"},\"line\":{\"color\":\"white\"}},\"type\":\"table\"}]},\"layout\":{\"annotationdefaults\":{\"arrowcolor\":\"#2a3f5f\",\"arrowhead\":0,\"arrowwidth\":1},\"autotypenumbers\":\"strict\",\"coloraxis\":{\"colorbar\":{\"outlinewidth\":0,\"ticks\":\"\"}},\"colorscale\":{\"diverging\":[[0,\"#8e0152\"],[0.1,\"#c51b7d\"],[0.2,\"#de77ae\"],[0.3,\"#f1b6da\"],[0.4,\"#fde0ef\"],[0.5,\"#f7f7f7\"],[0.6,\"#e6f5d0\"],[0.7,\"#b8e186\"],[0.8,\"#7fbc41\"],[0.9,\"#4d9221\"],[1,\"#276419\"]],\"sequential\":[[0.0,\"#0d0887\"],[0.1111111111111111,\"#46039f\"],[0.2222222222222222,\"#7201a8\"],[0.3333333333333333,\"#9c179e\"],[0.4444444444444444,\"#bd3786\"],[0.5555555555555556,\"#d8576b\"],[0.6666666666666666,\"#ed7953\"],[0.7777777777777778,\"#fb9f3a\"],[0.8888888888888888,\"#fdca26\"],[1.0,\"#f0f921\"]],\"sequentialminus\":[[0.0,\"#0d0887\"],[0.1111111111111111,\"#46039f\"],[0.2222222222222222,\"#7201a8\"],[0.3333333333333333,\"#9c179e\"],[0.4444444444444444,\"#bd3786\"],[0.5555555555555556,\"#d8576b\"],[0.6666666666666666,\"#ed7953\"],[0.7777777777777778,\"#fb9f3a\"],[0.8888888888888888,\"#fdca26\"],[1.0,\"#f0f921\"]]},\"colorway\":[\"#636efa\",\"#EF553B\",\"#00cc96\",\"#ab63fa\",\"#FFA15A\",\"#19d3f3\",\"#FF6692\",\"#B6E880\",\"#FF97FF\",\"#FECB52\"],\"font\":{\"color\":\"#2a3f5f\"},\"geo\":{\"bgcolor\":\"white\",\"lakecolor\":\"white\",\"landcolor\":\"#E5ECF6\",\"showlakes\":true,\"showland\":true,\"subunitcolor\":\"white\"},\"hoverlabel\":{\"align\":\"left\"},\"hovermode\":\"closest\",\"mapbox\":{\"style\":\"light\"},\"paper_bgcolor\":\"white\",\"plot_bgcolor\":\"#E5ECF6\",\"polar\":{\"angularaxis\":{\"gridcolor\":\"white\",\"linecolor\":\"white\",\"ticks\":\"\"},\"bgcolor\":\"#E5ECF6\",\"radialaxis\":{\"gridcolor\":\"white\",\"linecolor\":\"white\",\"ticks\":\"\"}},\"scene\":{\"xaxis\":{\"backgroundcolor\":\"#E5ECF6\",\"gridcolor\":\"white\",\"gridwidth\":2,\"linecolor\":\"white\",\"showbackground\":true,\"ticks\":\"\",\"zerolinecolor\":\"white\"},\"yaxis\":{\"backgroundcolor\":\"#E5ECF6\",\"gridcolor\":\"white\",\"gridwidth\":2,\"linecolor\":\"white\",\"showbackground\":true,\"ticks\":\"\",\"zerolinecolor\":\"white\"},\"zaxis\":{\"backgroundcolor\":\"#E5ECF6\",\"gridcolor\":\"white\",\"gridwidth\":2,\"linecolor\":\"white\",\"showbackground\":true,\"ticks\":\"\",\"zerolinecolor\":\"white\"}},\"shapedefaults\":{\"line\":{\"color\":\"#2a3f5f\"}},\"ternary\":{\"aaxis\":{\"gridcolor\":\"white\",\"linecolor\":\"white\",\"ticks\":\"\"},\"baxis\":{\"gridcolor\":\"white\",\"linecolor\":\"white\",\"ticks\":\"\"},\"bgcolor\":\"#E5ECF6\",\"caxis\":{\"gridcolor\":\"white\",\"linecolor\":\"white\",\"ticks\":\"\"}},\"title\":{\"x\":0.05},\"xaxis\":{\"automargin\":true,\"gridcolor\":\"white\",\"linecolor\":\"white\",\"ticks\":\"\",\"title\":{\"standoff\":15},\"zerolinecolor\":\"white\",\"zerolinewidth\":2},\"yaxis\":{\"automargin\":true,\"gridcolor\":\"white\",\"linecolor\":\"white\",\"ticks\":\"\",\"title\":{\"standoff\":15},\"zerolinecolor\":\"white\",\"zerolinewidth\":2}}},\"xaxis\":{\"anchor\":\"y\",\"domain\":[0.0,1.0],\"title\":{\"text\":\"year_added\"}},\"yaxis\":{\"anchor\":\"x\",\"domain\":[0.0,1.0],\"title\":{\"text\":\"show_id\"}},\"legend\":{\"tracegroupgap\":0},\"margin\":{\"t\":60}},                        {\"responsive\": true}                    ).then(function(){\n",
              "                            \n",
              "var gd = document.getElementById('bdb7ece0-1cf8-4e62-8bbe-0c0c6e472c87');\n",
              "var x = new MutationObserver(function (mutations, observer) {{\n",
              "        var display = window.getComputedStyle(gd).display;\n",
              "        if (!display || display === 'none') {{\n",
              "            console.log([gd, 'removed!']);\n",
              "            Plotly.purge(gd);\n",
              "            observer.disconnect();\n",
              "        }}\n",
              "}});\n",
              "\n",
              "// Listen for the removal of the full notebook cells\n",
              "var notebookContainer = gd.closest('#notebook-container');\n",
              "if (notebookContainer) {{\n",
              "    x.observe(notebookContainer, {childList: true});\n",
              "}}\n",
              "\n",
              "// Listen for the clearing of the current output cell\n",
              "var outputEl = gd.closest('.output');\n",
              "if (outputEl) {{\n",
              "    x.observe(outputEl, {childList: true});\n",
              "}}\n",
              "\n",
              "                        })                };                });            </script>        </div>"
            ]
          },
          "metadata": {},
          "output_type": "display_data"
        }
      ],
      "source": [
        "px.line(df_agg, x='year_added', y='show_id')"
      ]
    },
    {
      "cell_type": "code",
      "execution_count": null,
      "id": "7246a56d",
      "metadata": {
        "id": "7246a56d"
      },
      "outputs": [],
      "source": [
        "df_agg = df.groupby(['year_added', 'type']).agg({\n",
        "    'show_id': 'count'\n",
        "}).reset_index()"
      ]
    },
    {
      "cell_type": "code",
      "execution_count": null,
      "id": "fa2f8b2f",
      "metadata": {
        "id": "fa2f8b2f",
        "outputId": "844a39ea-3d27-4907-ffc7-f9d1040d0073"
      },
      "outputs": [
        {
          "data": {
            "text/html": [
              "<div>\n",
              "<style scoped>\n",
              "    .dataframe tbody tr th:only-of-type {\n",
              "        vertical-align: middle;\n",
              "    }\n",
              "\n",
              "    .dataframe tbody tr th {\n",
              "        vertical-align: top;\n",
              "    }\n",
              "\n",
              "    .dataframe thead th {\n",
              "        text-align: right;\n",
              "    }\n",
              "</style>\n",
              "<table border=\"1\" class=\"dataframe\">\n",
              "  <thead>\n",
              "    <tr style=\"text-align: right;\">\n",
              "      <th></th>\n",
              "      <th>year_added</th>\n",
              "      <th>type</th>\n",
              "      <th>show_id</th>\n",
              "    </tr>\n",
              "  </thead>\n",
              "  <tbody>\n",
              "    <tr>\n",
              "      <th>0</th>\n",
              "      <td>2008</td>\n",
              "      <td>Movie</td>\n",
              "      <td>1</td>\n",
              "    </tr>\n",
              "    <tr>\n",
              "      <th>1</th>\n",
              "      <td>2008</td>\n",
              "      <td>TV Show</td>\n",
              "      <td>1</td>\n",
              "    </tr>\n",
              "    <tr>\n",
              "      <th>2</th>\n",
              "      <td>2009</td>\n",
              "      <td>Movie</td>\n",
              "      <td>2</td>\n",
              "    </tr>\n",
              "    <tr>\n",
              "      <th>3</th>\n",
              "      <td>2010</td>\n",
              "      <td>Movie</td>\n",
              "      <td>1</td>\n",
              "    </tr>\n",
              "    <tr>\n",
              "      <th>4</th>\n",
              "      <td>2011</td>\n",
              "      <td>Movie</td>\n",
              "      <td>13</td>\n",
              "    </tr>\n",
              "    <tr>\n",
              "      <th>5</th>\n",
              "      <td>2012</td>\n",
              "      <td>Movie</td>\n",
              "      <td>3</td>\n",
              "    </tr>\n",
              "    <tr>\n",
              "      <th>6</th>\n",
              "      <td>2013</td>\n",
              "      <td>Movie</td>\n",
              "      <td>6</td>\n",
              "    </tr>\n",
              "    <tr>\n",
              "      <th>7</th>\n",
              "      <td>2013</td>\n",
              "      <td>TV Show</td>\n",
              "      <td>5</td>\n",
              "    </tr>\n",
              "    <tr>\n",
              "      <th>8</th>\n",
              "      <td>2014</td>\n",
              "      <td>Movie</td>\n",
              "      <td>19</td>\n",
              "    </tr>\n",
              "    <tr>\n",
              "      <th>9</th>\n",
              "      <td>2014</td>\n",
              "      <td>TV Show</td>\n",
              "      <td>5</td>\n",
              "    </tr>\n",
              "    <tr>\n",
              "      <th>10</th>\n",
              "      <td>2015</td>\n",
              "      <td>Movie</td>\n",
              "      <td>56</td>\n",
              "    </tr>\n",
              "    <tr>\n",
              "      <th>11</th>\n",
              "      <td>2015</td>\n",
              "      <td>TV Show</td>\n",
              "      <td>26</td>\n",
              "    </tr>\n",
              "    <tr>\n",
              "      <th>12</th>\n",
              "      <td>2016</td>\n",
              "      <td>Movie</td>\n",
              "      <td>253</td>\n",
              "    </tr>\n",
              "    <tr>\n",
              "      <th>13</th>\n",
              "      <td>2016</td>\n",
              "      <td>TV Show</td>\n",
              "      <td>176</td>\n",
              "    </tr>\n",
              "    <tr>\n",
              "      <th>14</th>\n",
              "      <td>2017</td>\n",
              "      <td>Movie</td>\n",
              "      <td>839</td>\n",
              "    </tr>\n",
              "    <tr>\n",
              "      <th>15</th>\n",
              "      <td>2017</td>\n",
              "      <td>TV Show</td>\n",
              "      <td>349</td>\n",
              "    </tr>\n",
              "    <tr>\n",
              "      <th>16</th>\n",
              "      <td>2018</td>\n",
              "      <td>Movie</td>\n",
              "      <td>1237</td>\n",
              "    </tr>\n",
              "    <tr>\n",
              "      <th>17</th>\n",
              "      <td>2018</td>\n",
              "      <td>TV Show</td>\n",
              "      <td>422</td>\n",
              "    </tr>\n",
              "    <tr>\n",
              "      <th>18</th>\n",
              "      <td>2019</td>\n",
              "      <td>Movie</td>\n",
              "      <td>1424</td>\n",
              "    </tr>\n",
              "    <tr>\n",
              "      <th>19</th>\n",
              "      <td>2019</td>\n",
              "      <td>TV Show</td>\n",
              "      <td>592</td>\n",
              "    </tr>\n",
              "    <tr>\n",
              "      <th>20</th>\n",
              "      <td>2020</td>\n",
              "      <td>Movie</td>\n",
              "      <td>1284</td>\n",
              "    </tr>\n",
              "    <tr>\n",
              "      <th>21</th>\n",
              "      <td>2020</td>\n",
              "      <td>TV Show</td>\n",
              "      <td>595</td>\n",
              "    </tr>\n",
              "    <tr>\n",
              "      <th>22</th>\n",
              "      <td>2021</td>\n",
              "      <td>Movie</td>\n",
              "      <td>993</td>\n",
              "    </tr>\n",
              "    <tr>\n",
              "      <th>23</th>\n",
              "      <td>2021</td>\n",
              "      <td>TV Show</td>\n",
              "      <td>505</td>\n",
              "    </tr>\n",
              "  </tbody>\n",
              "</table>\n",
              "</div>"
            ],
            "text/plain": [
              "    year_added     type  show_id\n",
              "0         2008    Movie        1\n",
              "1         2008  TV Show        1\n",
              "2         2009    Movie        2\n",
              "3         2010    Movie        1\n",
              "4         2011    Movie       13\n",
              "5         2012    Movie        3\n",
              "6         2013    Movie        6\n",
              "7         2013  TV Show        5\n",
              "8         2014    Movie       19\n",
              "9         2014  TV Show        5\n",
              "10        2015    Movie       56\n",
              "11        2015  TV Show       26\n",
              "12        2016    Movie      253\n",
              "13        2016  TV Show      176\n",
              "14        2017    Movie      839\n",
              "15        2017  TV Show      349\n",
              "16        2018    Movie     1237\n",
              "17        2018  TV Show      422\n",
              "18        2019    Movie     1424\n",
              "19        2019  TV Show      592\n",
              "20        2020    Movie     1284\n",
              "21        2020  TV Show      595\n",
              "22        2021    Movie      993\n",
              "23        2021  TV Show      505"
            ]
          },
          "execution_count": 202,
          "metadata": {},
          "output_type": "execute_result"
        }
      ],
      "source": [
        "df_agg"
      ]
    },
    {
      "cell_type": "code",
      "execution_count": null,
      "id": "29413f90",
      "metadata": {
        "id": "29413f90",
        "outputId": "07d80067-c002-459e-cc8f-f546296cb111"
      },
      "outputs": [
        {
          "data": {
            "application/vnd.plotly.v1+json": {
              "config": {
                "plotlyServerURL": "https://plot.ly"
              },
              "data": [
                {
                  "hovertemplate": "type=Movie<br>year_added=%{x}<br>show_id=%{y}<extra></extra>",
                  "legendgroup": "Movie",
                  "line": {
                    "color": "#636efa",
                    "dash": "solid"
                  },
                  "marker": {
                    "symbol": "circle"
                  },
                  "mode": "lines",
                  "name": "Movie",
                  "orientation": "v",
                  "showlegend": true,
                  "type": "scatter",
                  "x": [
                    2008,
                    2009,
                    2010,
                    2011,
                    2012,
                    2013,
                    2014,
                    2015,
                    2016,
                    2017,
                    2018,
                    2019,
                    2020,
                    2021
                  ],
                  "xaxis": "x",
                  "y": [
                    1,
                    2,
                    1,
                    13,
                    3,
                    6,
                    19,
                    56,
                    253,
                    839,
                    1237,
                    1424,
                    1284,
                    993
                  ],
                  "yaxis": "y"
                },
                {
                  "hovertemplate": "type=TV Show<br>year_added=%{x}<br>show_id=%{y}<extra></extra>",
                  "legendgroup": "TV Show",
                  "line": {
                    "color": "#EF553B",
                    "dash": "solid"
                  },
                  "marker": {
                    "symbol": "circle"
                  },
                  "mode": "lines",
                  "name": "TV Show",
                  "orientation": "v",
                  "showlegend": true,
                  "type": "scatter",
                  "x": [
                    2008,
                    2013,
                    2014,
                    2015,
                    2016,
                    2017,
                    2018,
                    2019,
                    2020,
                    2021
                  ],
                  "xaxis": "x",
                  "y": [
                    1,
                    5,
                    5,
                    26,
                    176,
                    349,
                    422,
                    592,
                    595,
                    505
                  ],
                  "yaxis": "y"
                }
              ],
              "layout": {
                "legend": {
                  "title": {
                    "text": "type"
                  },
                  "tracegroupgap": 0
                },
                "margin": {
                  "t": 60
                },
                "template": {
                  "data": {
                    "bar": [
                      {
                        "error_x": {
                          "color": "#2a3f5f"
                        },
                        "error_y": {
                          "color": "#2a3f5f"
                        },
                        "marker": {
                          "line": {
                            "color": "#E5ECF6",
                            "width": 0.5
                          },
                          "pattern": {
                            "fillmode": "overlay",
                            "size": 10,
                            "solidity": 0.2
                          }
                        },
                        "type": "bar"
                      }
                    ],
                    "barpolar": [
                      {
                        "marker": {
                          "line": {
                            "color": "#E5ECF6",
                            "width": 0.5
                          },
                          "pattern": {
                            "fillmode": "overlay",
                            "size": 10,
                            "solidity": 0.2
                          }
                        },
                        "type": "barpolar"
                      }
                    ],
                    "carpet": [
                      {
                        "aaxis": {
                          "endlinecolor": "#2a3f5f",
                          "gridcolor": "white",
                          "linecolor": "white",
                          "minorgridcolor": "white",
                          "startlinecolor": "#2a3f5f"
                        },
                        "baxis": {
                          "endlinecolor": "#2a3f5f",
                          "gridcolor": "white",
                          "linecolor": "white",
                          "minorgridcolor": "white",
                          "startlinecolor": "#2a3f5f"
                        },
                        "type": "carpet"
                      }
                    ],
                    "choropleth": [
                      {
                        "colorbar": {
                          "outlinewidth": 0,
                          "ticks": ""
                        },
                        "type": "choropleth"
                      }
                    ],
                    "contour": [
                      {
                        "colorbar": {
                          "outlinewidth": 0,
                          "ticks": ""
                        },
                        "colorscale": [
                          [
                            0,
                            "#0d0887"
                          ],
                          [
                            0.1111111111111111,
                            "#46039f"
                          ],
                          [
                            0.2222222222222222,
                            "#7201a8"
                          ],
                          [
                            0.3333333333333333,
                            "#9c179e"
                          ],
                          [
                            0.4444444444444444,
                            "#bd3786"
                          ],
                          [
                            0.5555555555555556,
                            "#d8576b"
                          ],
                          [
                            0.6666666666666666,
                            "#ed7953"
                          ],
                          [
                            0.7777777777777778,
                            "#fb9f3a"
                          ],
                          [
                            0.8888888888888888,
                            "#fdca26"
                          ],
                          [
                            1,
                            "#f0f921"
                          ]
                        ],
                        "type": "contour"
                      }
                    ],
                    "contourcarpet": [
                      {
                        "colorbar": {
                          "outlinewidth": 0,
                          "ticks": ""
                        },
                        "type": "contourcarpet"
                      }
                    ],
                    "heatmap": [
                      {
                        "colorbar": {
                          "outlinewidth": 0,
                          "ticks": ""
                        },
                        "colorscale": [
                          [
                            0,
                            "#0d0887"
                          ],
                          [
                            0.1111111111111111,
                            "#46039f"
                          ],
                          [
                            0.2222222222222222,
                            "#7201a8"
                          ],
                          [
                            0.3333333333333333,
                            "#9c179e"
                          ],
                          [
                            0.4444444444444444,
                            "#bd3786"
                          ],
                          [
                            0.5555555555555556,
                            "#d8576b"
                          ],
                          [
                            0.6666666666666666,
                            "#ed7953"
                          ],
                          [
                            0.7777777777777778,
                            "#fb9f3a"
                          ],
                          [
                            0.8888888888888888,
                            "#fdca26"
                          ],
                          [
                            1,
                            "#f0f921"
                          ]
                        ],
                        "type": "heatmap"
                      }
                    ],
                    "heatmapgl": [
                      {
                        "colorbar": {
                          "outlinewidth": 0,
                          "ticks": ""
                        },
                        "colorscale": [
                          [
                            0,
                            "#0d0887"
                          ],
                          [
                            0.1111111111111111,
                            "#46039f"
                          ],
                          [
                            0.2222222222222222,
                            "#7201a8"
                          ],
                          [
                            0.3333333333333333,
                            "#9c179e"
                          ],
                          [
                            0.4444444444444444,
                            "#bd3786"
                          ],
                          [
                            0.5555555555555556,
                            "#d8576b"
                          ],
                          [
                            0.6666666666666666,
                            "#ed7953"
                          ],
                          [
                            0.7777777777777778,
                            "#fb9f3a"
                          ],
                          [
                            0.8888888888888888,
                            "#fdca26"
                          ],
                          [
                            1,
                            "#f0f921"
                          ]
                        ],
                        "type": "heatmapgl"
                      }
                    ],
                    "histogram": [
                      {
                        "marker": {
                          "pattern": {
                            "fillmode": "overlay",
                            "size": 10,
                            "solidity": 0.2
                          }
                        },
                        "type": "histogram"
                      }
                    ],
                    "histogram2d": [
                      {
                        "colorbar": {
                          "outlinewidth": 0,
                          "ticks": ""
                        },
                        "colorscale": [
                          [
                            0,
                            "#0d0887"
                          ],
                          [
                            0.1111111111111111,
                            "#46039f"
                          ],
                          [
                            0.2222222222222222,
                            "#7201a8"
                          ],
                          [
                            0.3333333333333333,
                            "#9c179e"
                          ],
                          [
                            0.4444444444444444,
                            "#bd3786"
                          ],
                          [
                            0.5555555555555556,
                            "#d8576b"
                          ],
                          [
                            0.6666666666666666,
                            "#ed7953"
                          ],
                          [
                            0.7777777777777778,
                            "#fb9f3a"
                          ],
                          [
                            0.8888888888888888,
                            "#fdca26"
                          ],
                          [
                            1,
                            "#f0f921"
                          ]
                        ],
                        "type": "histogram2d"
                      }
                    ],
                    "histogram2dcontour": [
                      {
                        "colorbar": {
                          "outlinewidth": 0,
                          "ticks": ""
                        },
                        "colorscale": [
                          [
                            0,
                            "#0d0887"
                          ],
                          [
                            0.1111111111111111,
                            "#46039f"
                          ],
                          [
                            0.2222222222222222,
                            "#7201a8"
                          ],
                          [
                            0.3333333333333333,
                            "#9c179e"
                          ],
                          [
                            0.4444444444444444,
                            "#bd3786"
                          ],
                          [
                            0.5555555555555556,
                            "#d8576b"
                          ],
                          [
                            0.6666666666666666,
                            "#ed7953"
                          ],
                          [
                            0.7777777777777778,
                            "#fb9f3a"
                          ],
                          [
                            0.8888888888888888,
                            "#fdca26"
                          ],
                          [
                            1,
                            "#f0f921"
                          ]
                        ],
                        "type": "histogram2dcontour"
                      }
                    ],
                    "mesh3d": [
                      {
                        "colorbar": {
                          "outlinewidth": 0,
                          "ticks": ""
                        },
                        "type": "mesh3d"
                      }
                    ],
                    "parcoords": [
                      {
                        "line": {
                          "colorbar": {
                            "outlinewidth": 0,
                            "ticks": ""
                          }
                        },
                        "type": "parcoords"
                      }
                    ],
                    "pie": [
                      {
                        "automargin": true,
                        "type": "pie"
                      }
                    ],
                    "scatter": [
                      {
                        "marker": {
                          "colorbar": {
                            "outlinewidth": 0,
                            "ticks": ""
                          }
                        },
                        "type": "scatter"
                      }
                    ],
                    "scatter3d": [
                      {
                        "line": {
                          "colorbar": {
                            "outlinewidth": 0,
                            "ticks": ""
                          }
                        },
                        "marker": {
                          "colorbar": {
                            "outlinewidth": 0,
                            "ticks": ""
                          }
                        },
                        "type": "scatter3d"
                      }
                    ],
                    "scattercarpet": [
                      {
                        "marker": {
                          "colorbar": {
                            "outlinewidth": 0,
                            "ticks": ""
                          }
                        },
                        "type": "scattercarpet"
                      }
                    ],
                    "scattergeo": [
                      {
                        "marker": {
                          "colorbar": {
                            "outlinewidth": 0,
                            "ticks": ""
                          }
                        },
                        "type": "scattergeo"
                      }
                    ],
                    "scattergl": [
                      {
                        "marker": {
                          "colorbar": {
                            "outlinewidth": 0,
                            "ticks": ""
                          }
                        },
                        "type": "scattergl"
                      }
                    ],
                    "scattermapbox": [
                      {
                        "marker": {
                          "colorbar": {
                            "outlinewidth": 0,
                            "ticks": ""
                          }
                        },
                        "type": "scattermapbox"
                      }
                    ],
                    "scatterpolar": [
                      {
                        "marker": {
                          "colorbar": {
                            "outlinewidth": 0,
                            "ticks": ""
                          }
                        },
                        "type": "scatterpolar"
                      }
                    ],
                    "scatterpolargl": [
                      {
                        "marker": {
                          "colorbar": {
                            "outlinewidth": 0,
                            "ticks": ""
                          }
                        },
                        "type": "scatterpolargl"
                      }
                    ],
                    "scatterternary": [
                      {
                        "marker": {
                          "colorbar": {
                            "outlinewidth": 0,
                            "ticks": ""
                          }
                        },
                        "type": "scatterternary"
                      }
                    ],
                    "surface": [
                      {
                        "colorbar": {
                          "outlinewidth": 0,
                          "ticks": ""
                        },
                        "colorscale": [
                          [
                            0,
                            "#0d0887"
                          ],
                          [
                            0.1111111111111111,
                            "#46039f"
                          ],
                          [
                            0.2222222222222222,
                            "#7201a8"
                          ],
                          [
                            0.3333333333333333,
                            "#9c179e"
                          ],
                          [
                            0.4444444444444444,
                            "#bd3786"
                          ],
                          [
                            0.5555555555555556,
                            "#d8576b"
                          ],
                          [
                            0.6666666666666666,
                            "#ed7953"
                          ],
                          [
                            0.7777777777777778,
                            "#fb9f3a"
                          ],
                          [
                            0.8888888888888888,
                            "#fdca26"
                          ],
                          [
                            1,
                            "#f0f921"
                          ]
                        ],
                        "type": "surface"
                      }
                    ],
                    "table": [
                      {
                        "cells": {
                          "fill": {
                            "color": "#EBF0F8"
                          },
                          "line": {
                            "color": "white"
                          }
                        },
                        "header": {
                          "fill": {
                            "color": "#C8D4E3"
                          },
                          "line": {
                            "color": "white"
                          }
                        },
                        "type": "table"
                      }
                    ]
                  },
                  "layout": {
                    "annotationdefaults": {
                      "arrowcolor": "#2a3f5f",
                      "arrowhead": 0,
                      "arrowwidth": 1
                    },
                    "autotypenumbers": "strict",
                    "coloraxis": {
                      "colorbar": {
                        "outlinewidth": 0,
                        "ticks": ""
                      }
                    },
                    "colorscale": {
                      "diverging": [
                        [
                          0,
                          "#8e0152"
                        ],
                        [
                          0.1,
                          "#c51b7d"
                        ],
                        [
                          0.2,
                          "#de77ae"
                        ],
                        [
                          0.3,
                          "#f1b6da"
                        ],
                        [
                          0.4,
                          "#fde0ef"
                        ],
                        [
                          0.5,
                          "#f7f7f7"
                        ],
                        [
                          0.6,
                          "#e6f5d0"
                        ],
                        [
                          0.7,
                          "#b8e186"
                        ],
                        [
                          0.8,
                          "#7fbc41"
                        ],
                        [
                          0.9,
                          "#4d9221"
                        ],
                        [
                          1,
                          "#276419"
                        ]
                      ],
                      "sequential": [
                        [
                          0,
                          "#0d0887"
                        ],
                        [
                          0.1111111111111111,
                          "#46039f"
                        ],
                        [
                          0.2222222222222222,
                          "#7201a8"
                        ],
                        [
                          0.3333333333333333,
                          "#9c179e"
                        ],
                        [
                          0.4444444444444444,
                          "#bd3786"
                        ],
                        [
                          0.5555555555555556,
                          "#d8576b"
                        ],
                        [
                          0.6666666666666666,
                          "#ed7953"
                        ],
                        [
                          0.7777777777777778,
                          "#fb9f3a"
                        ],
                        [
                          0.8888888888888888,
                          "#fdca26"
                        ],
                        [
                          1,
                          "#f0f921"
                        ]
                      ],
                      "sequentialminus": [
                        [
                          0,
                          "#0d0887"
                        ],
                        [
                          0.1111111111111111,
                          "#46039f"
                        ],
                        [
                          0.2222222222222222,
                          "#7201a8"
                        ],
                        [
                          0.3333333333333333,
                          "#9c179e"
                        ],
                        [
                          0.4444444444444444,
                          "#bd3786"
                        ],
                        [
                          0.5555555555555556,
                          "#d8576b"
                        ],
                        [
                          0.6666666666666666,
                          "#ed7953"
                        ],
                        [
                          0.7777777777777778,
                          "#fb9f3a"
                        ],
                        [
                          0.8888888888888888,
                          "#fdca26"
                        ],
                        [
                          1,
                          "#f0f921"
                        ]
                      ]
                    },
                    "colorway": [
                      "#636efa",
                      "#EF553B",
                      "#00cc96",
                      "#ab63fa",
                      "#FFA15A",
                      "#19d3f3",
                      "#FF6692",
                      "#B6E880",
                      "#FF97FF",
                      "#FECB52"
                    ],
                    "font": {
                      "color": "#2a3f5f"
                    },
                    "geo": {
                      "bgcolor": "white",
                      "lakecolor": "white",
                      "landcolor": "#E5ECF6",
                      "showlakes": true,
                      "showland": true,
                      "subunitcolor": "white"
                    },
                    "hoverlabel": {
                      "align": "left"
                    },
                    "hovermode": "closest",
                    "mapbox": {
                      "style": "light"
                    },
                    "paper_bgcolor": "white",
                    "plot_bgcolor": "#E5ECF6",
                    "polar": {
                      "angularaxis": {
                        "gridcolor": "white",
                        "linecolor": "white",
                        "ticks": ""
                      },
                      "bgcolor": "#E5ECF6",
                      "radialaxis": {
                        "gridcolor": "white",
                        "linecolor": "white",
                        "ticks": ""
                      }
                    },
                    "scene": {
                      "xaxis": {
                        "backgroundcolor": "#E5ECF6",
                        "gridcolor": "white",
                        "gridwidth": 2,
                        "linecolor": "white",
                        "showbackground": true,
                        "ticks": "",
                        "zerolinecolor": "white"
                      },
                      "yaxis": {
                        "backgroundcolor": "#E5ECF6",
                        "gridcolor": "white",
                        "gridwidth": 2,
                        "linecolor": "white",
                        "showbackground": true,
                        "ticks": "",
                        "zerolinecolor": "white"
                      },
                      "zaxis": {
                        "backgroundcolor": "#E5ECF6",
                        "gridcolor": "white",
                        "gridwidth": 2,
                        "linecolor": "white",
                        "showbackground": true,
                        "ticks": "",
                        "zerolinecolor": "white"
                      }
                    },
                    "shapedefaults": {
                      "line": {
                        "color": "#2a3f5f"
                      }
                    },
                    "ternary": {
                      "aaxis": {
                        "gridcolor": "white",
                        "linecolor": "white",
                        "ticks": ""
                      },
                      "baxis": {
                        "gridcolor": "white",
                        "linecolor": "white",
                        "ticks": ""
                      },
                      "bgcolor": "#E5ECF6",
                      "caxis": {
                        "gridcolor": "white",
                        "linecolor": "white",
                        "ticks": ""
                      }
                    },
                    "title": {
                      "x": 0.05
                    },
                    "xaxis": {
                      "automargin": true,
                      "gridcolor": "white",
                      "linecolor": "white",
                      "ticks": "",
                      "title": {
                        "standoff": 15
                      },
                      "zerolinecolor": "white",
                      "zerolinewidth": 2
                    },
                    "yaxis": {
                      "automargin": true,
                      "gridcolor": "white",
                      "linecolor": "white",
                      "ticks": "",
                      "title": {
                        "standoff": 15
                      },
                      "zerolinecolor": "white",
                      "zerolinewidth": 2
                    }
                  }
                },
                "xaxis": {
                  "anchor": "y",
                  "domain": [
                    0,
                    1
                  ],
                  "title": {
                    "text": "year_added"
                  }
                },
                "yaxis": {
                  "anchor": "x",
                  "domain": [
                    0,
                    1
                  ],
                  "title": {
                    "text": "show_id"
                  }
                }
              }
            },
            "text/html": [
              "<div>                            <div id=\"86af0de2-bd1f-4a6e-9f77-966c8e0a17ad\" class=\"plotly-graph-div\" style=\"height:525px; width:100%;\"></div>            <script type=\"text/javascript\">                require([\"plotly\"], function(Plotly) {                    window.PLOTLYENV=window.PLOTLYENV || {};                                    if (document.getElementById(\"86af0de2-bd1f-4a6e-9f77-966c8e0a17ad\")) {                    Plotly.newPlot(                        \"86af0de2-bd1f-4a6e-9f77-966c8e0a17ad\",                        [{\"hovertemplate\":\"type=Movie<br>year_added=%{x}<br>show_id=%{y}<extra></extra>\",\"legendgroup\":\"Movie\",\"line\":{\"color\":\"#636efa\",\"dash\":\"solid\"},\"marker\":{\"symbol\":\"circle\"},\"mode\":\"lines\",\"name\":\"Movie\",\"orientation\":\"v\",\"showlegend\":true,\"x\":[2008,2009,2010,2011,2012,2013,2014,2015,2016,2017,2018,2019,2020,2021],\"xaxis\":\"x\",\"y\":[1,2,1,13,3,6,19,56,253,839,1237,1424,1284,993],\"yaxis\":\"y\",\"type\":\"scatter\"},{\"hovertemplate\":\"type=TV Show<br>year_added=%{x}<br>show_id=%{y}<extra></extra>\",\"legendgroup\":\"TV Show\",\"line\":{\"color\":\"#EF553B\",\"dash\":\"solid\"},\"marker\":{\"symbol\":\"circle\"},\"mode\":\"lines\",\"name\":\"TV Show\",\"orientation\":\"v\",\"showlegend\":true,\"x\":[2008,2013,2014,2015,2016,2017,2018,2019,2020,2021],\"xaxis\":\"x\",\"y\":[1,5,5,26,176,349,422,592,595,505],\"yaxis\":\"y\",\"type\":\"scatter\"}],                        {\"template\":{\"data\":{\"bar\":[{\"error_x\":{\"color\":\"#2a3f5f\"},\"error_y\":{\"color\":\"#2a3f5f\"},\"marker\":{\"line\":{\"color\":\"#E5ECF6\",\"width\":0.5},\"pattern\":{\"fillmode\":\"overlay\",\"size\":10,\"solidity\":0.2}},\"type\":\"bar\"}],\"barpolar\":[{\"marker\":{\"line\":{\"color\":\"#E5ECF6\",\"width\":0.5},\"pattern\":{\"fillmode\":\"overlay\",\"size\":10,\"solidity\":0.2}},\"type\":\"barpolar\"}],\"carpet\":[{\"aaxis\":{\"endlinecolor\":\"#2a3f5f\",\"gridcolor\":\"white\",\"linecolor\":\"white\",\"minorgridcolor\":\"white\",\"startlinecolor\":\"#2a3f5f\"},\"baxis\":{\"endlinecolor\":\"#2a3f5f\",\"gridcolor\":\"white\",\"linecolor\":\"white\",\"minorgridcolor\":\"white\",\"startlinecolor\":\"#2a3f5f\"},\"type\":\"carpet\"}],\"choropleth\":[{\"colorbar\":{\"outlinewidth\":0,\"ticks\":\"\"},\"type\":\"choropleth\"}],\"contour\":[{\"colorbar\":{\"outlinewidth\":0,\"ticks\":\"\"},\"colorscale\":[[0.0,\"#0d0887\"],[0.1111111111111111,\"#46039f\"],[0.2222222222222222,\"#7201a8\"],[0.3333333333333333,\"#9c179e\"],[0.4444444444444444,\"#bd3786\"],[0.5555555555555556,\"#d8576b\"],[0.6666666666666666,\"#ed7953\"],[0.7777777777777778,\"#fb9f3a\"],[0.8888888888888888,\"#fdca26\"],[1.0,\"#f0f921\"]],\"type\":\"contour\"}],\"contourcarpet\":[{\"colorbar\":{\"outlinewidth\":0,\"ticks\":\"\"},\"type\":\"contourcarpet\"}],\"heatmap\":[{\"colorbar\":{\"outlinewidth\":0,\"ticks\":\"\"},\"colorscale\":[[0.0,\"#0d0887\"],[0.1111111111111111,\"#46039f\"],[0.2222222222222222,\"#7201a8\"],[0.3333333333333333,\"#9c179e\"],[0.4444444444444444,\"#bd3786\"],[0.5555555555555556,\"#d8576b\"],[0.6666666666666666,\"#ed7953\"],[0.7777777777777778,\"#fb9f3a\"],[0.8888888888888888,\"#fdca26\"],[1.0,\"#f0f921\"]],\"type\":\"heatmap\"}],\"heatmapgl\":[{\"colorbar\":{\"outlinewidth\":0,\"ticks\":\"\"},\"colorscale\":[[0.0,\"#0d0887\"],[0.1111111111111111,\"#46039f\"],[0.2222222222222222,\"#7201a8\"],[0.3333333333333333,\"#9c179e\"],[0.4444444444444444,\"#bd3786\"],[0.5555555555555556,\"#d8576b\"],[0.6666666666666666,\"#ed7953\"],[0.7777777777777778,\"#fb9f3a\"],[0.8888888888888888,\"#fdca26\"],[1.0,\"#f0f921\"]],\"type\":\"heatmapgl\"}],\"histogram\":[{\"marker\":{\"pattern\":{\"fillmode\":\"overlay\",\"size\":10,\"solidity\":0.2}},\"type\":\"histogram\"}],\"histogram2d\":[{\"colorbar\":{\"outlinewidth\":0,\"ticks\":\"\"},\"colorscale\":[[0.0,\"#0d0887\"],[0.1111111111111111,\"#46039f\"],[0.2222222222222222,\"#7201a8\"],[0.3333333333333333,\"#9c179e\"],[0.4444444444444444,\"#bd3786\"],[0.5555555555555556,\"#d8576b\"],[0.6666666666666666,\"#ed7953\"],[0.7777777777777778,\"#fb9f3a\"],[0.8888888888888888,\"#fdca26\"],[1.0,\"#f0f921\"]],\"type\":\"histogram2d\"}],\"histogram2dcontour\":[{\"colorbar\":{\"outlinewidth\":0,\"ticks\":\"\"},\"colorscale\":[[0.0,\"#0d0887\"],[0.1111111111111111,\"#46039f\"],[0.2222222222222222,\"#7201a8\"],[0.3333333333333333,\"#9c179e\"],[0.4444444444444444,\"#bd3786\"],[0.5555555555555556,\"#d8576b\"],[0.6666666666666666,\"#ed7953\"],[0.7777777777777778,\"#fb9f3a\"],[0.8888888888888888,\"#fdca26\"],[1.0,\"#f0f921\"]],\"type\":\"histogram2dcontour\"}],\"mesh3d\":[{\"colorbar\":{\"outlinewidth\":0,\"ticks\":\"\"},\"type\":\"mesh3d\"}],\"parcoords\":[{\"line\":{\"colorbar\":{\"outlinewidth\":0,\"ticks\":\"\"}},\"type\":\"parcoords\"}],\"pie\":[{\"automargin\":true,\"type\":\"pie\"}],\"scatter\":[{\"marker\":{\"colorbar\":{\"outlinewidth\":0,\"ticks\":\"\"}},\"type\":\"scatter\"}],\"scatter3d\":[{\"line\":{\"colorbar\":{\"outlinewidth\":0,\"ticks\":\"\"}},\"marker\":{\"colorbar\":{\"outlinewidth\":0,\"ticks\":\"\"}},\"type\":\"scatter3d\"}],\"scattercarpet\":[{\"marker\":{\"colorbar\":{\"outlinewidth\":0,\"ticks\":\"\"}},\"type\":\"scattercarpet\"}],\"scattergeo\":[{\"marker\":{\"colorbar\":{\"outlinewidth\":0,\"ticks\":\"\"}},\"type\":\"scattergeo\"}],\"scattergl\":[{\"marker\":{\"colorbar\":{\"outlinewidth\":0,\"ticks\":\"\"}},\"type\":\"scattergl\"}],\"scattermapbox\":[{\"marker\":{\"colorbar\":{\"outlinewidth\":0,\"ticks\":\"\"}},\"type\":\"scattermapbox\"}],\"scatterpolar\":[{\"marker\":{\"colorbar\":{\"outlinewidth\":0,\"ticks\":\"\"}},\"type\":\"scatterpolar\"}],\"scatterpolargl\":[{\"marker\":{\"colorbar\":{\"outlinewidth\":0,\"ticks\":\"\"}},\"type\":\"scatterpolargl\"}],\"scatterternary\":[{\"marker\":{\"colorbar\":{\"outlinewidth\":0,\"ticks\":\"\"}},\"type\":\"scatterternary\"}],\"surface\":[{\"colorbar\":{\"outlinewidth\":0,\"ticks\":\"\"},\"colorscale\":[[0.0,\"#0d0887\"],[0.1111111111111111,\"#46039f\"],[0.2222222222222222,\"#7201a8\"],[0.3333333333333333,\"#9c179e\"],[0.4444444444444444,\"#bd3786\"],[0.5555555555555556,\"#d8576b\"],[0.6666666666666666,\"#ed7953\"],[0.7777777777777778,\"#fb9f3a\"],[0.8888888888888888,\"#fdca26\"],[1.0,\"#f0f921\"]],\"type\":\"surface\"}],\"table\":[{\"cells\":{\"fill\":{\"color\":\"#EBF0F8\"},\"line\":{\"color\":\"white\"}},\"header\":{\"fill\":{\"color\":\"#C8D4E3\"},\"line\":{\"color\":\"white\"}},\"type\":\"table\"}]},\"layout\":{\"annotationdefaults\":{\"arrowcolor\":\"#2a3f5f\",\"arrowhead\":0,\"arrowwidth\":1},\"autotypenumbers\":\"strict\",\"coloraxis\":{\"colorbar\":{\"outlinewidth\":0,\"ticks\":\"\"}},\"colorscale\":{\"diverging\":[[0,\"#8e0152\"],[0.1,\"#c51b7d\"],[0.2,\"#de77ae\"],[0.3,\"#f1b6da\"],[0.4,\"#fde0ef\"],[0.5,\"#f7f7f7\"],[0.6,\"#e6f5d0\"],[0.7,\"#b8e186\"],[0.8,\"#7fbc41\"],[0.9,\"#4d9221\"],[1,\"#276419\"]],\"sequential\":[[0.0,\"#0d0887\"],[0.1111111111111111,\"#46039f\"],[0.2222222222222222,\"#7201a8\"],[0.3333333333333333,\"#9c179e\"],[0.4444444444444444,\"#bd3786\"],[0.5555555555555556,\"#d8576b\"],[0.6666666666666666,\"#ed7953\"],[0.7777777777777778,\"#fb9f3a\"],[0.8888888888888888,\"#fdca26\"],[1.0,\"#f0f921\"]],\"sequentialminus\":[[0.0,\"#0d0887\"],[0.1111111111111111,\"#46039f\"],[0.2222222222222222,\"#7201a8\"],[0.3333333333333333,\"#9c179e\"],[0.4444444444444444,\"#bd3786\"],[0.5555555555555556,\"#d8576b\"],[0.6666666666666666,\"#ed7953\"],[0.7777777777777778,\"#fb9f3a\"],[0.8888888888888888,\"#fdca26\"],[1.0,\"#f0f921\"]]},\"colorway\":[\"#636efa\",\"#EF553B\",\"#00cc96\",\"#ab63fa\",\"#FFA15A\",\"#19d3f3\",\"#FF6692\",\"#B6E880\",\"#FF97FF\",\"#FECB52\"],\"font\":{\"color\":\"#2a3f5f\"},\"geo\":{\"bgcolor\":\"white\",\"lakecolor\":\"white\",\"landcolor\":\"#E5ECF6\",\"showlakes\":true,\"showland\":true,\"subunitcolor\":\"white\"},\"hoverlabel\":{\"align\":\"left\"},\"hovermode\":\"closest\",\"mapbox\":{\"style\":\"light\"},\"paper_bgcolor\":\"white\",\"plot_bgcolor\":\"#E5ECF6\",\"polar\":{\"angularaxis\":{\"gridcolor\":\"white\",\"linecolor\":\"white\",\"ticks\":\"\"},\"bgcolor\":\"#E5ECF6\",\"radialaxis\":{\"gridcolor\":\"white\",\"linecolor\":\"white\",\"ticks\":\"\"}},\"scene\":{\"xaxis\":{\"backgroundcolor\":\"#E5ECF6\",\"gridcolor\":\"white\",\"gridwidth\":2,\"linecolor\":\"white\",\"showbackground\":true,\"ticks\":\"\",\"zerolinecolor\":\"white\"},\"yaxis\":{\"backgroundcolor\":\"#E5ECF6\",\"gridcolor\":\"white\",\"gridwidth\":2,\"linecolor\":\"white\",\"showbackground\":true,\"ticks\":\"\",\"zerolinecolor\":\"white\"},\"zaxis\":{\"backgroundcolor\":\"#E5ECF6\",\"gridcolor\":\"white\",\"gridwidth\":2,\"linecolor\":\"white\",\"showbackground\":true,\"ticks\":\"\",\"zerolinecolor\":\"white\"}},\"shapedefaults\":{\"line\":{\"color\":\"#2a3f5f\"}},\"ternary\":{\"aaxis\":{\"gridcolor\":\"white\",\"linecolor\":\"white\",\"ticks\":\"\"},\"baxis\":{\"gridcolor\":\"white\",\"linecolor\":\"white\",\"ticks\":\"\"},\"bgcolor\":\"#E5ECF6\",\"caxis\":{\"gridcolor\":\"white\",\"linecolor\":\"white\",\"ticks\":\"\"}},\"title\":{\"x\":0.05},\"xaxis\":{\"automargin\":true,\"gridcolor\":\"white\",\"linecolor\":\"white\",\"ticks\":\"\",\"title\":{\"standoff\":15},\"zerolinecolor\":\"white\",\"zerolinewidth\":2},\"yaxis\":{\"automargin\":true,\"gridcolor\":\"white\",\"linecolor\":\"white\",\"ticks\":\"\",\"title\":{\"standoff\":15},\"zerolinecolor\":\"white\",\"zerolinewidth\":2}}},\"xaxis\":{\"anchor\":\"y\",\"domain\":[0.0,1.0],\"title\":{\"text\":\"year_added\"}},\"yaxis\":{\"anchor\":\"x\",\"domain\":[0.0,1.0],\"title\":{\"text\":\"show_id\"}},\"legend\":{\"title\":{\"text\":\"type\"},\"tracegroupgap\":0},\"margin\":{\"t\":60}},                        {\"responsive\": true}                    ).then(function(){\n",
              "                            \n",
              "var gd = document.getElementById('86af0de2-bd1f-4a6e-9f77-966c8e0a17ad');\n",
              "var x = new MutationObserver(function (mutations, observer) {{\n",
              "        var display = window.getComputedStyle(gd).display;\n",
              "        if (!display || display === 'none') {{\n",
              "            console.log([gd, 'removed!']);\n",
              "            Plotly.purge(gd);\n",
              "            observer.disconnect();\n",
              "        }}\n",
              "}});\n",
              "\n",
              "// Listen for the removal of the full notebook cells\n",
              "var notebookContainer = gd.closest('#notebook-container');\n",
              "if (notebookContainer) {{\n",
              "    x.observe(notebookContainer, {childList: true});\n",
              "}}\n",
              "\n",
              "// Listen for the clearing of the current output cell\n",
              "var outputEl = gd.closest('.output');\n",
              "if (outputEl) {{\n",
              "    x.observe(outputEl, {childList: true});\n",
              "}}\n",
              "\n",
              "                        })                };                });            </script>        </div>"
            ]
          },
          "metadata": {},
          "output_type": "display_data"
        }
      ],
      "source": [
        "df_agg = df.groupby(['year_added', 'type']).agg({\n",
        "    'show_id': 'count'\n",
        "}).reset_index()\n",
        "fig2 = px.line(df_agg, x='year_added', y='show_id', color='type')\n",
        "fig2.show()"
      ]
    },
    {
      "cell_type": "code",
      "execution_count": null,
      "id": "12fcd442",
      "metadata": {
        "id": "12fcd442",
        "outputId": "1df12b79-e784-41ec-b515-528d63e134f7"
      },
      "outputs": [
        {
          "data": {
            "application/vnd.plotly.v1+json": {
              "config": {
                "plotlyServerURL": "https://plot.ly"
              },
              "data": [
                {
                  "hovertemplate": "type=Movie<br>month_added=%{x}<br>show_id=%{y}<extra></extra>",
                  "legendgroup": "Movie",
                  "line": {
                    "color": "#636efa",
                    "dash": "solid"
                  },
                  "marker": {
                    "symbol": "circle"
                  },
                  "mode": "lines",
                  "name": "Movie",
                  "orientation": "v",
                  "showlegend": true,
                  "type": "scatter",
                  "x": [
                    1,
                    2,
                    3,
                    4,
                    5,
                    6,
                    7,
                    8,
                    9,
                    10,
                    11,
                    12
                  ],
                  "xaxis": "x",
                  "y": [
                    546,
                    382,
                    529,
                    550,
                    439,
                    492,
                    565,
                    519,
                    519,
                    545,
                    498,
                    547
                  ],
                  "yaxis": "y"
                },
                {
                  "hovertemplate": "type=TV Show<br>month_added=%{x}<br>show_id=%{y}<extra></extra>",
                  "legendgroup": "TV Show",
                  "line": {
                    "color": "#EF553B",
                    "dash": "solid"
                  },
                  "marker": {
                    "symbol": "circle"
                  },
                  "mode": "lines",
                  "name": "TV Show",
                  "orientation": "v",
                  "showlegend": true,
                  "type": "scatter",
                  "x": [
                    1,
                    2,
                    3,
                    4,
                    5,
                    6,
                    7,
                    8,
                    9,
                    10,
                    11,
                    12
                  ],
                  "xaxis": "x",
                  "y": [
                    192,
                    183,
                    214,
                    215,
                    195,
                    237,
                    262,
                    236,
                    253,
                    216,
                    207,
                    266
                  ],
                  "yaxis": "y"
                }
              ],
              "layout": {
                "legend": {
                  "title": {
                    "text": "type"
                  },
                  "tracegroupgap": 0
                },
                "margin": {
                  "t": 60
                },
                "template": {
                  "data": {
                    "bar": [
                      {
                        "error_x": {
                          "color": "#2a3f5f"
                        },
                        "error_y": {
                          "color": "#2a3f5f"
                        },
                        "marker": {
                          "line": {
                            "color": "#E5ECF6",
                            "width": 0.5
                          },
                          "pattern": {
                            "fillmode": "overlay",
                            "size": 10,
                            "solidity": 0.2
                          }
                        },
                        "type": "bar"
                      }
                    ],
                    "barpolar": [
                      {
                        "marker": {
                          "line": {
                            "color": "#E5ECF6",
                            "width": 0.5
                          },
                          "pattern": {
                            "fillmode": "overlay",
                            "size": 10,
                            "solidity": 0.2
                          }
                        },
                        "type": "barpolar"
                      }
                    ],
                    "carpet": [
                      {
                        "aaxis": {
                          "endlinecolor": "#2a3f5f",
                          "gridcolor": "white",
                          "linecolor": "white",
                          "minorgridcolor": "white",
                          "startlinecolor": "#2a3f5f"
                        },
                        "baxis": {
                          "endlinecolor": "#2a3f5f",
                          "gridcolor": "white",
                          "linecolor": "white",
                          "minorgridcolor": "white",
                          "startlinecolor": "#2a3f5f"
                        },
                        "type": "carpet"
                      }
                    ],
                    "choropleth": [
                      {
                        "colorbar": {
                          "outlinewidth": 0,
                          "ticks": ""
                        },
                        "type": "choropleth"
                      }
                    ],
                    "contour": [
                      {
                        "colorbar": {
                          "outlinewidth": 0,
                          "ticks": ""
                        },
                        "colorscale": [
                          [
                            0,
                            "#0d0887"
                          ],
                          [
                            0.1111111111111111,
                            "#46039f"
                          ],
                          [
                            0.2222222222222222,
                            "#7201a8"
                          ],
                          [
                            0.3333333333333333,
                            "#9c179e"
                          ],
                          [
                            0.4444444444444444,
                            "#bd3786"
                          ],
                          [
                            0.5555555555555556,
                            "#d8576b"
                          ],
                          [
                            0.6666666666666666,
                            "#ed7953"
                          ],
                          [
                            0.7777777777777778,
                            "#fb9f3a"
                          ],
                          [
                            0.8888888888888888,
                            "#fdca26"
                          ],
                          [
                            1,
                            "#f0f921"
                          ]
                        ],
                        "type": "contour"
                      }
                    ],
                    "contourcarpet": [
                      {
                        "colorbar": {
                          "outlinewidth": 0,
                          "ticks": ""
                        },
                        "type": "contourcarpet"
                      }
                    ],
                    "heatmap": [
                      {
                        "colorbar": {
                          "outlinewidth": 0,
                          "ticks": ""
                        },
                        "colorscale": [
                          [
                            0,
                            "#0d0887"
                          ],
                          [
                            0.1111111111111111,
                            "#46039f"
                          ],
                          [
                            0.2222222222222222,
                            "#7201a8"
                          ],
                          [
                            0.3333333333333333,
                            "#9c179e"
                          ],
                          [
                            0.4444444444444444,
                            "#bd3786"
                          ],
                          [
                            0.5555555555555556,
                            "#d8576b"
                          ],
                          [
                            0.6666666666666666,
                            "#ed7953"
                          ],
                          [
                            0.7777777777777778,
                            "#fb9f3a"
                          ],
                          [
                            0.8888888888888888,
                            "#fdca26"
                          ],
                          [
                            1,
                            "#f0f921"
                          ]
                        ],
                        "type": "heatmap"
                      }
                    ],
                    "heatmapgl": [
                      {
                        "colorbar": {
                          "outlinewidth": 0,
                          "ticks": ""
                        },
                        "colorscale": [
                          [
                            0,
                            "#0d0887"
                          ],
                          [
                            0.1111111111111111,
                            "#46039f"
                          ],
                          [
                            0.2222222222222222,
                            "#7201a8"
                          ],
                          [
                            0.3333333333333333,
                            "#9c179e"
                          ],
                          [
                            0.4444444444444444,
                            "#bd3786"
                          ],
                          [
                            0.5555555555555556,
                            "#d8576b"
                          ],
                          [
                            0.6666666666666666,
                            "#ed7953"
                          ],
                          [
                            0.7777777777777778,
                            "#fb9f3a"
                          ],
                          [
                            0.8888888888888888,
                            "#fdca26"
                          ],
                          [
                            1,
                            "#f0f921"
                          ]
                        ],
                        "type": "heatmapgl"
                      }
                    ],
                    "histogram": [
                      {
                        "marker": {
                          "pattern": {
                            "fillmode": "overlay",
                            "size": 10,
                            "solidity": 0.2
                          }
                        },
                        "type": "histogram"
                      }
                    ],
                    "histogram2d": [
                      {
                        "colorbar": {
                          "outlinewidth": 0,
                          "ticks": ""
                        },
                        "colorscale": [
                          [
                            0,
                            "#0d0887"
                          ],
                          [
                            0.1111111111111111,
                            "#46039f"
                          ],
                          [
                            0.2222222222222222,
                            "#7201a8"
                          ],
                          [
                            0.3333333333333333,
                            "#9c179e"
                          ],
                          [
                            0.4444444444444444,
                            "#bd3786"
                          ],
                          [
                            0.5555555555555556,
                            "#d8576b"
                          ],
                          [
                            0.6666666666666666,
                            "#ed7953"
                          ],
                          [
                            0.7777777777777778,
                            "#fb9f3a"
                          ],
                          [
                            0.8888888888888888,
                            "#fdca26"
                          ],
                          [
                            1,
                            "#f0f921"
                          ]
                        ],
                        "type": "histogram2d"
                      }
                    ],
                    "histogram2dcontour": [
                      {
                        "colorbar": {
                          "outlinewidth": 0,
                          "ticks": ""
                        },
                        "colorscale": [
                          [
                            0,
                            "#0d0887"
                          ],
                          [
                            0.1111111111111111,
                            "#46039f"
                          ],
                          [
                            0.2222222222222222,
                            "#7201a8"
                          ],
                          [
                            0.3333333333333333,
                            "#9c179e"
                          ],
                          [
                            0.4444444444444444,
                            "#bd3786"
                          ],
                          [
                            0.5555555555555556,
                            "#d8576b"
                          ],
                          [
                            0.6666666666666666,
                            "#ed7953"
                          ],
                          [
                            0.7777777777777778,
                            "#fb9f3a"
                          ],
                          [
                            0.8888888888888888,
                            "#fdca26"
                          ],
                          [
                            1,
                            "#f0f921"
                          ]
                        ],
                        "type": "histogram2dcontour"
                      }
                    ],
                    "mesh3d": [
                      {
                        "colorbar": {
                          "outlinewidth": 0,
                          "ticks": ""
                        },
                        "type": "mesh3d"
                      }
                    ],
                    "parcoords": [
                      {
                        "line": {
                          "colorbar": {
                            "outlinewidth": 0,
                            "ticks": ""
                          }
                        },
                        "type": "parcoords"
                      }
                    ],
                    "pie": [
                      {
                        "automargin": true,
                        "type": "pie"
                      }
                    ],
                    "scatter": [
                      {
                        "marker": {
                          "colorbar": {
                            "outlinewidth": 0,
                            "ticks": ""
                          }
                        },
                        "type": "scatter"
                      }
                    ],
                    "scatter3d": [
                      {
                        "line": {
                          "colorbar": {
                            "outlinewidth": 0,
                            "ticks": ""
                          }
                        },
                        "marker": {
                          "colorbar": {
                            "outlinewidth": 0,
                            "ticks": ""
                          }
                        },
                        "type": "scatter3d"
                      }
                    ],
                    "scattercarpet": [
                      {
                        "marker": {
                          "colorbar": {
                            "outlinewidth": 0,
                            "ticks": ""
                          }
                        },
                        "type": "scattercarpet"
                      }
                    ],
                    "scattergeo": [
                      {
                        "marker": {
                          "colorbar": {
                            "outlinewidth": 0,
                            "ticks": ""
                          }
                        },
                        "type": "scattergeo"
                      }
                    ],
                    "scattergl": [
                      {
                        "marker": {
                          "colorbar": {
                            "outlinewidth": 0,
                            "ticks": ""
                          }
                        },
                        "type": "scattergl"
                      }
                    ],
                    "scattermapbox": [
                      {
                        "marker": {
                          "colorbar": {
                            "outlinewidth": 0,
                            "ticks": ""
                          }
                        },
                        "type": "scattermapbox"
                      }
                    ],
                    "scatterpolar": [
                      {
                        "marker": {
                          "colorbar": {
                            "outlinewidth": 0,
                            "ticks": ""
                          }
                        },
                        "type": "scatterpolar"
                      }
                    ],
                    "scatterpolargl": [
                      {
                        "marker": {
                          "colorbar": {
                            "outlinewidth": 0,
                            "ticks": ""
                          }
                        },
                        "type": "scatterpolargl"
                      }
                    ],
                    "scatterternary": [
                      {
                        "marker": {
                          "colorbar": {
                            "outlinewidth": 0,
                            "ticks": ""
                          }
                        },
                        "type": "scatterternary"
                      }
                    ],
                    "surface": [
                      {
                        "colorbar": {
                          "outlinewidth": 0,
                          "ticks": ""
                        },
                        "colorscale": [
                          [
                            0,
                            "#0d0887"
                          ],
                          [
                            0.1111111111111111,
                            "#46039f"
                          ],
                          [
                            0.2222222222222222,
                            "#7201a8"
                          ],
                          [
                            0.3333333333333333,
                            "#9c179e"
                          ],
                          [
                            0.4444444444444444,
                            "#bd3786"
                          ],
                          [
                            0.5555555555555556,
                            "#d8576b"
                          ],
                          [
                            0.6666666666666666,
                            "#ed7953"
                          ],
                          [
                            0.7777777777777778,
                            "#fb9f3a"
                          ],
                          [
                            0.8888888888888888,
                            "#fdca26"
                          ],
                          [
                            1,
                            "#f0f921"
                          ]
                        ],
                        "type": "surface"
                      }
                    ],
                    "table": [
                      {
                        "cells": {
                          "fill": {
                            "color": "#EBF0F8"
                          },
                          "line": {
                            "color": "white"
                          }
                        },
                        "header": {
                          "fill": {
                            "color": "#C8D4E3"
                          },
                          "line": {
                            "color": "white"
                          }
                        },
                        "type": "table"
                      }
                    ]
                  },
                  "layout": {
                    "annotationdefaults": {
                      "arrowcolor": "#2a3f5f",
                      "arrowhead": 0,
                      "arrowwidth": 1
                    },
                    "autotypenumbers": "strict",
                    "coloraxis": {
                      "colorbar": {
                        "outlinewidth": 0,
                        "ticks": ""
                      }
                    },
                    "colorscale": {
                      "diverging": [
                        [
                          0,
                          "#8e0152"
                        ],
                        [
                          0.1,
                          "#c51b7d"
                        ],
                        [
                          0.2,
                          "#de77ae"
                        ],
                        [
                          0.3,
                          "#f1b6da"
                        ],
                        [
                          0.4,
                          "#fde0ef"
                        ],
                        [
                          0.5,
                          "#f7f7f7"
                        ],
                        [
                          0.6,
                          "#e6f5d0"
                        ],
                        [
                          0.7,
                          "#b8e186"
                        ],
                        [
                          0.8,
                          "#7fbc41"
                        ],
                        [
                          0.9,
                          "#4d9221"
                        ],
                        [
                          1,
                          "#276419"
                        ]
                      ],
                      "sequential": [
                        [
                          0,
                          "#0d0887"
                        ],
                        [
                          0.1111111111111111,
                          "#46039f"
                        ],
                        [
                          0.2222222222222222,
                          "#7201a8"
                        ],
                        [
                          0.3333333333333333,
                          "#9c179e"
                        ],
                        [
                          0.4444444444444444,
                          "#bd3786"
                        ],
                        [
                          0.5555555555555556,
                          "#d8576b"
                        ],
                        [
                          0.6666666666666666,
                          "#ed7953"
                        ],
                        [
                          0.7777777777777778,
                          "#fb9f3a"
                        ],
                        [
                          0.8888888888888888,
                          "#fdca26"
                        ],
                        [
                          1,
                          "#f0f921"
                        ]
                      ],
                      "sequentialminus": [
                        [
                          0,
                          "#0d0887"
                        ],
                        [
                          0.1111111111111111,
                          "#46039f"
                        ],
                        [
                          0.2222222222222222,
                          "#7201a8"
                        ],
                        [
                          0.3333333333333333,
                          "#9c179e"
                        ],
                        [
                          0.4444444444444444,
                          "#bd3786"
                        ],
                        [
                          0.5555555555555556,
                          "#d8576b"
                        ],
                        [
                          0.6666666666666666,
                          "#ed7953"
                        ],
                        [
                          0.7777777777777778,
                          "#fb9f3a"
                        ],
                        [
                          0.8888888888888888,
                          "#fdca26"
                        ],
                        [
                          1,
                          "#f0f921"
                        ]
                      ]
                    },
                    "colorway": [
                      "#636efa",
                      "#EF553B",
                      "#00cc96",
                      "#ab63fa",
                      "#FFA15A",
                      "#19d3f3",
                      "#FF6692",
                      "#B6E880",
                      "#FF97FF",
                      "#FECB52"
                    ],
                    "font": {
                      "color": "#2a3f5f"
                    },
                    "geo": {
                      "bgcolor": "white",
                      "lakecolor": "white",
                      "landcolor": "#E5ECF6",
                      "showlakes": true,
                      "showland": true,
                      "subunitcolor": "white"
                    },
                    "hoverlabel": {
                      "align": "left"
                    },
                    "hovermode": "closest",
                    "mapbox": {
                      "style": "light"
                    },
                    "paper_bgcolor": "white",
                    "plot_bgcolor": "#E5ECF6",
                    "polar": {
                      "angularaxis": {
                        "gridcolor": "white",
                        "linecolor": "white",
                        "ticks": ""
                      },
                      "bgcolor": "#E5ECF6",
                      "radialaxis": {
                        "gridcolor": "white",
                        "linecolor": "white",
                        "ticks": ""
                      }
                    },
                    "scene": {
                      "xaxis": {
                        "backgroundcolor": "#E5ECF6",
                        "gridcolor": "white",
                        "gridwidth": 2,
                        "linecolor": "white",
                        "showbackground": true,
                        "ticks": "",
                        "zerolinecolor": "white"
                      },
                      "yaxis": {
                        "backgroundcolor": "#E5ECF6",
                        "gridcolor": "white",
                        "gridwidth": 2,
                        "linecolor": "white",
                        "showbackground": true,
                        "ticks": "",
                        "zerolinecolor": "white"
                      },
                      "zaxis": {
                        "backgroundcolor": "#E5ECF6",
                        "gridcolor": "white",
                        "gridwidth": 2,
                        "linecolor": "white",
                        "showbackground": true,
                        "ticks": "",
                        "zerolinecolor": "white"
                      }
                    },
                    "shapedefaults": {
                      "line": {
                        "color": "#2a3f5f"
                      }
                    },
                    "ternary": {
                      "aaxis": {
                        "gridcolor": "white",
                        "linecolor": "white",
                        "ticks": ""
                      },
                      "baxis": {
                        "gridcolor": "white",
                        "linecolor": "white",
                        "ticks": ""
                      },
                      "bgcolor": "#E5ECF6",
                      "caxis": {
                        "gridcolor": "white",
                        "linecolor": "white",
                        "ticks": ""
                      }
                    },
                    "title": {
                      "x": 0.05
                    },
                    "xaxis": {
                      "automargin": true,
                      "gridcolor": "white",
                      "linecolor": "white",
                      "ticks": "",
                      "title": {
                        "standoff": 15
                      },
                      "zerolinecolor": "white",
                      "zerolinewidth": 2
                    },
                    "yaxis": {
                      "automargin": true,
                      "gridcolor": "white",
                      "linecolor": "white",
                      "ticks": "",
                      "title": {
                        "standoff": 15
                      },
                      "zerolinecolor": "white",
                      "zerolinewidth": 2
                    }
                  }
                },
                "xaxis": {
                  "anchor": "y",
                  "domain": [
                    0,
                    1
                  ],
                  "title": {
                    "text": "month_added"
                  }
                },
                "yaxis": {
                  "anchor": "x",
                  "domain": [
                    0,
                    1
                  ],
                  "title": {
                    "text": "show_id"
                  }
                }
              }
            },
            "text/html": [
              "<div>                            <div id=\"2b8eecae-c7d8-455e-bb4e-2f22e8040881\" class=\"plotly-graph-div\" style=\"height:525px; width:100%;\"></div>            <script type=\"text/javascript\">                require([\"plotly\"], function(Plotly) {                    window.PLOTLYENV=window.PLOTLYENV || {};                                    if (document.getElementById(\"2b8eecae-c7d8-455e-bb4e-2f22e8040881\")) {                    Plotly.newPlot(                        \"2b8eecae-c7d8-455e-bb4e-2f22e8040881\",                        [{\"hovertemplate\":\"type=Movie<br>month_added=%{x}<br>show_id=%{y}<extra></extra>\",\"legendgroup\":\"Movie\",\"line\":{\"color\":\"#636efa\",\"dash\":\"solid\"},\"marker\":{\"symbol\":\"circle\"},\"mode\":\"lines\",\"name\":\"Movie\",\"orientation\":\"v\",\"showlegend\":true,\"x\":[1,2,3,4,5,6,7,8,9,10,11,12],\"xaxis\":\"x\",\"y\":[546,382,529,550,439,492,565,519,519,545,498,547],\"yaxis\":\"y\",\"type\":\"scatter\"},{\"hovertemplate\":\"type=TV Show<br>month_added=%{x}<br>show_id=%{y}<extra></extra>\",\"legendgroup\":\"TV Show\",\"line\":{\"color\":\"#EF553B\",\"dash\":\"solid\"},\"marker\":{\"symbol\":\"circle\"},\"mode\":\"lines\",\"name\":\"TV Show\",\"orientation\":\"v\",\"showlegend\":true,\"x\":[1,2,3,4,5,6,7,8,9,10,11,12],\"xaxis\":\"x\",\"y\":[192,183,214,215,195,237,262,236,253,216,207,266],\"yaxis\":\"y\",\"type\":\"scatter\"}],                        {\"template\":{\"data\":{\"bar\":[{\"error_x\":{\"color\":\"#2a3f5f\"},\"error_y\":{\"color\":\"#2a3f5f\"},\"marker\":{\"line\":{\"color\":\"#E5ECF6\",\"width\":0.5},\"pattern\":{\"fillmode\":\"overlay\",\"size\":10,\"solidity\":0.2}},\"type\":\"bar\"}],\"barpolar\":[{\"marker\":{\"line\":{\"color\":\"#E5ECF6\",\"width\":0.5},\"pattern\":{\"fillmode\":\"overlay\",\"size\":10,\"solidity\":0.2}},\"type\":\"barpolar\"}],\"carpet\":[{\"aaxis\":{\"endlinecolor\":\"#2a3f5f\",\"gridcolor\":\"white\",\"linecolor\":\"white\",\"minorgridcolor\":\"white\",\"startlinecolor\":\"#2a3f5f\"},\"baxis\":{\"endlinecolor\":\"#2a3f5f\",\"gridcolor\":\"white\",\"linecolor\":\"white\",\"minorgridcolor\":\"white\",\"startlinecolor\":\"#2a3f5f\"},\"type\":\"carpet\"}],\"choropleth\":[{\"colorbar\":{\"outlinewidth\":0,\"ticks\":\"\"},\"type\":\"choropleth\"}],\"contour\":[{\"colorbar\":{\"outlinewidth\":0,\"ticks\":\"\"},\"colorscale\":[[0.0,\"#0d0887\"],[0.1111111111111111,\"#46039f\"],[0.2222222222222222,\"#7201a8\"],[0.3333333333333333,\"#9c179e\"],[0.4444444444444444,\"#bd3786\"],[0.5555555555555556,\"#d8576b\"],[0.6666666666666666,\"#ed7953\"],[0.7777777777777778,\"#fb9f3a\"],[0.8888888888888888,\"#fdca26\"],[1.0,\"#f0f921\"]],\"type\":\"contour\"}],\"contourcarpet\":[{\"colorbar\":{\"outlinewidth\":0,\"ticks\":\"\"},\"type\":\"contourcarpet\"}],\"heatmap\":[{\"colorbar\":{\"outlinewidth\":0,\"ticks\":\"\"},\"colorscale\":[[0.0,\"#0d0887\"],[0.1111111111111111,\"#46039f\"],[0.2222222222222222,\"#7201a8\"],[0.3333333333333333,\"#9c179e\"],[0.4444444444444444,\"#bd3786\"],[0.5555555555555556,\"#d8576b\"],[0.6666666666666666,\"#ed7953\"],[0.7777777777777778,\"#fb9f3a\"],[0.8888888888888888,\"#fdca26\"],[1.0,\"#f0f921\"]],\"type\":\"heatmap\"}],\"heatmapgl\":[{\"colorbar\":{\"outlinewidth\":0,\"ticks\":\"\"},\"colorscale\":[[0.0,\"#0d0887\"],[0.1111111111111111,\"#46039f\"],[0.2222222222222222,\"#7201a8\"],[0.3333333333333333,\"#9c179e\"],[0.4444444444444444,\"#bd3786\"],[0.5555555555555556,\"#d8576b\"],[0.6666666666666666,\"#ed7953\"],[0.7777777777777778,\"#fb9f3a\"],[0.8888888888888888,\"#fdca26\"],[1.0,\"#f0f921\"]],\"type\":\"heatmapgl\"}],\"histogram\":[{\"marker\":{\"pattern\":{\"fillmode\":\"overlay\",\"size\":10,\"solidity\":0.2}},\"type\":\"histogram\"}],\"histogram2d\":[{\"colorbar\":{\"outlinewidth\":0,\"ticks\":\"\"},\"colorscale\":[[0.0,\"#0d0887\"],[0.1111111111111111,\"#46039f\"],[0.2222222222222222,\"#7201a8\"],[0.3333333333333333,\"#9c179e\"],[0.4444444444444444,\"#bd3786\"],[0.5555555555555556,\"#d8576b\"],[0.6666666666666666,\"#ed7953\"],[0.7777777777777778,\"#fb9f3a\"],[0.8888888888888888,\"#fdca26\"],[1.0,\"#f0f921\"]],\"type\":\"histogram2d\"}],\"histogram2dcontour\":[{\"colorbar\":{\"outlinewidth\":0,\"ticks\":\"\"},\"colorscale\":[[0.0,\"#0d0887\"],[0.1111111111111111,\"#46039f\"],[0.2222222222222222,\"#7201a8\"],[0.3333333333333333,\"#9c179e\"],[0.4444444444444444,\"#bd3786\"],[0.5555555555555556,\"#d8576b\"],[0.6666666666666666,\"#ed7953\"],[0.7777777777777778,\"#fb9f3a\"],[0.8888888888888888,\"#fdca26\"],[1.0,\"#f0f921\"]],\"type\":\"histogram2dcontour\"}],\"mesh3d\":[{\"colorbar\":{\"outlinewidth\":0,\"ticks\":\"\"},\"type\":\"mesh3d\"}],\"parcoords\":[{\"line\":{\"colorbar\":{\"outlinewidth\":0,\"ticks\":\"\"}},\"type\":\"parcoords\"}],\"pie\":[{\"automargin\":true,\"type\":\"pie\"}],\"scatter\":[{\"marker\":{\"colorbar\":{\"outlinewidth\":0,\"ticks\":\"\"}},\"type\":\"scatter\"}],\"scatter3d\":[{\"line\":{\"colorbar\":{\"outlinewidth\":0,\"ticks\":\"\"}},\"marker\":{\"colorbar\":{\"outlinewidth\":0,\"ticks\":\"\"}},\"type\":\"scatter3d\"}],\"scattercarpet\":[{\"marker\":{\"colorbar\":{\"outlinewidth\":0,\"ticks\":\"\"}},\"type\":\"scattercarpet\"}],\"scattergeo\":[{\"marker\":{\"colorbar\":{\"outlinewidth\":0,\"ticks\":\"\"}},\"type\":\"scattergeo\"}],\"scattergl\":[{\"marker\":{\"colorbar\":{\"outlinewidth\":0,\"ticks\":\"\"}},\"type\":\"scattergl\"}],\"scattermapbox\":[{\"marker\":{\"colorbar\":{\"outlinewidth\":0,\"ticks\":\"\"}},\"type\":\"scattermapbox\"}],\"scatterpolar\":[{\"marker\":{\"colorbar\":{\"outlinewidth\":0,\"ticks\":\"\"}},\"type\":\"scatterpolar\"}],\"scatterpolargl\":[{\"marker\":{\"colorbar\":{\"outlinewidth\":0,\"ticks\":\"\"}},\"type\":\"scatterpolargl\"}],\"scatterternary\":[{\"marker\":{\"colorbar\":{\"outlinewidth\":0,\"ticks\":\"\"}},\"type\":\"scatterternary\"}],\"surface\":[{\"colorbar\":{\"outlinewidth\":0,\"ticks\":\"\"},\"colorscale\":[[0.0,\"#0d0887\"],[0.1111111111111111,\"#46039f\"],[0.2222222222222222,\"#7201a8\"],[0.3333333333333333,\"#9c179e\"],[0.4444444444444444,\"#bd3786\"],[0.5555555555555556,\"#d8576b\"],[0.6666666666666666,\"#ed7953\"],[0.7777777777777778,\"#fb9f3a\"],[0.8888888888888888,\"#fdca26\"],[1.0,\"#f0f921\"]],\"type\":\"surface\"}],\"table\":[{\"cells\":{\"fill\":{\"color\":\"#EBF0F8\"},\"line\":{\"color\":\"white\"}},\"header\":{\"fill\":{\"color\":\"#C8D4E3\"},\"line\":{\"color\":\"white\"}},\"type\":\"table\"}]},\"layout\":{\"annotationdefaults\":{\"arrowcolor\":\"#2a3f5f\",\"arrowhead\":0,\"arrowwidth\":1},\"autotypenumbers\":\"strict\",\"coloraxis\":{\"colorbar\":{\"outlinewidth\":0,\"ticks\":\"\"}},\"colorscale\":{\"diverging\":[[0,\"#8e0152\"],[0.1,\"#c51b7d\"],[0.2,\"#de77ae\"],[0.3,\"#f1b6da\"],[0.4,\"#fde0ef\"],[0.5,\"#f7f7f7\"],[0.6,\"#e6f5d0\"],[0.7,\"#b8e186\"],[0.8,\"#7fbc41\"],[0.9,\"#4d9221\"],[1,\"#276419\"]],\"sequential\":[[0.0,\"#0d0887\"],[0.1111111111111111,\"#46039f\"],[0.2222222222222222,\"#7201a8\"],[0.3333333333333333,\"#9c179e\"],[0.4444444444444444,\"#bd3786\"],[0.5555555555555556,\"#d8576b\"],[0.6666666666666666,\"#ed7953\"],[0.7777777777777778,\"#fb9f3a\"],[0.8888888888888888,\"#fdca26\"],[1.0,\"#f0f921\"]],\"sequentialminus\":[[0.0,\"#0d0887\"],[0.1111111111111111,\"#46039f\"],[0.2222222222222222,\"#7201a8\"],[0.3333333333333333,\"#9c179e\"],[0.4444444444444444,\"#bd3786\"],[0.5555555555555556,\"#d8576b\"],[0.6666666666666666,\"#ed7953\"],[0.7777777777777778,\"#fb9f3a\"],[0.8888888888888888,\"#fdca26\"],[1.0,\"#f0f921\"]]},\"colorway\":[\"#636efa\",\"#EF553B\",\"#00cc96\",\"#ab63fa\",\"#FFA15A\",\"#19d3f3\",\"#FF6692\",\"#B6E880\",\"#FF97FF\",\"#FECB52\"],\"font\":{\"color\":\"#2a3f5f\"},\"geo\":{\"bgcolor\":\"white\",\"lakecolor\":\"white\",\"landcolor\":\"#E5ECF6\",\"showlakes\":true,\"showland\":true,\"subunitcolor\":\"white\"},\"hoverlabel\":{\"align\":\"left\"},\"hovermode\":\"closest\",\"mapbox\":{\"style\":\"light\"},\"paper_bgcolor\":\"white\",\"plot_bgcolor\":\"#E5ECF6\",\"polar\":{\"angularaxis\":{\"gridcolor\":\"white\",\"linecolor\":\"white\",\"ticks\":\"\"},\"bgcolor\":\"#E5ECF6\",\"radialaxis\":{\"gridcolor\":\"white\",\"linecolor\":\"white\",\"ticks\":\"\"}},\"scene\":{\"xaxis\":{\"backgroundcolor\":\"#E5ECF6\",\"gridcolor\":\"white\",\"gridwidth\":2,\"linecolor\":\"white\",\"showbackground\":true,\"ticks\":\"\",\"zerolinecolor\":\"white\"},\"yaxis\":{\"backgroundcolor\":\"#E5ECF6\",\"gridcolor\":\"white\",\"gridwidth\":2,\"linecolor\":\"white\",\"showbackground\":true,\"ticks\":\"\",\"zerolinecolor\":\"white\"},\"zaxis\":{\"backgroundcolor\":\"#E5ECF6\",\"gridcolor\":\"white\",\"gridwidth\":2,\"linecolor\":\"white\",\"showbackground\":true,\"ticks\":\"\",\"zerolinecolor\":\"white\"}},\"shapedefaults\":{\"line\":{\"color\":\"#2a3f5f\"}},\"ternary\":{\"aaxis\":{\"gridcolor\":\"white\",\"linecolor\":\"white\",\"ticks\":\"\"},\"baxis\":{\"gridcolor\":\"white\",\"linecolor\":\"white\",\"ticks\":\"\"},\"bgcolor\":\"#E5ECF6\",\"caxis\":{\"gridcolor\":\"white\",\"linecolor\":\"white\",\"ticks\":\"\"}},\"title\":{\"x\":0.05},\"xaxis\":{\"automargin\":true,\"gridcolor\":\"white\",\"linecolor\":\"white\",\"ticks\":\"\",\"title\":{\"standoff\":15},\"zerolinecolor\":\"white\",\"zerolinewidth\":2},\"yaxis\":{\"automargin\":true,\"gridcolor\":\"white\",\"linecolor\":\"white\",\"ticks\":\"\",\"title\":{\"standoff\":15},\"zerolinecolor\":\"white\",\"zerolinewidth\":2}}},\"xaxis\":{\"anchor\":\"y\",\"domain\":[0.0,1.0],\"title\":{\"text\":\"month_added\"}},\"yaxis\":{\"anchor\":\"x\",\"domain\":[0.0,1.0],\"title\":{\"text\":\"show_id\"}},\"legend\":{\"title\":{\"text\":\"type\"},\"tracegroupgap\":0},\"margin\":{\"t\":60}},                        {\"responsive\": true}                    ).then(function(){\n",
              "                            \n",
              "var gd = document.getElementById('2b8eecae-c7d8-455e-bb4e-2f22e8040881');\n",
              "var x = new MutationObserver(function (mutations, observer) {{\n",
              "        var display = window.getComputedStyle(gd).display;\n",
              "        if (!display || display === 'none') {{\n",
              "            console.log([gd, 'removed!']);\n",
              "            Plotly.purge(gd);\n",
              "            observer.disconnect();\n",
              "        }}\n",
              "}});\n",
              "\n",
              "// Listen for the removal of the full notebook cells\n",
              "var notebookContainer = gd.closest('#notebook-container');\n",
              "if (notebookContainer) {{\n",
              "    x.observe(notebookContainer, {childList: true});\n",
              "}}\n",
              "\n",
              "// Listen for the clearing of the current output cell\n",
              "var outputEl = gd.closest('.output');\n",
              "if (outputEl) {{\n",
              "    x.observe(outputEl, {childList: true});\n",
              "}}\n",
              "\n",
              "                        })                };                });            </script>        </div>"
            ]
          },
          "metadata": {},
          "output_type": "display_data"
        }
      ],
      "source": [
        "# month_added\n",
        "df_agg = df.groupby(['month_added', 'type']).agg({\n",
        "    'show_id': 'count'\n",
        "}).reset_index()\n",
        "\n",
        "fig = px.line(df_agg, x='month_added', y='show_id', color='type')\n",
        "fig.show()\n",
        "\n"
      ]
    },
    {
      "cell_type": "code",
      "execution_count": null,
      "id": "82a8579b",
      "metadata": {
        "id": "82a8579b"
      },
      "outputs": [],
      "source": [
        "from dash import Dash, html, dcc"
      ]
    },
    {
      "cell_type": "code",
      "execution_count": null,
      "id": "66b7d1e6",
      "metadata": {
        "id": "66b7d1e6",
        "outputId": "f4dd33b3-756c-4e8a-ead1-151ae92e7223"
      },
      "outputs": [
        {
          "data": {
            "text/html": [
              "<div>\n",
              "<style scoped>\n",
              "    .dataframe tbody tr th:only-of-type {\n",
              "        vertical-align: middle;\n",
              "    }\n",
              "\n",
              "    .dataframe tbody tr th {\n",
              "        vertical-align: top;\n",
              "    }\n",
              "\n",
              "    .dataframe thead th {\n",
              "        text-align: right;\n",
              "    }\n",
              "</style>\n",
              "<table border=\"1\" class=\"dataframe\">\n",
              "  <thead>\n",
              "    <tr style=\"text-align: right;\">\n",
              "      <th></th>\n",
              "      <th>show_id</th>\n",
              "      <th>type</th>\n",
              "      <th>title</th>\n",
              "      <th>director</th>\n",
              "      <th>cast</th>\n",
              "      <th>country</th>\n",
              "      <th>date_added</th>\n",
              "      <th>release_year</th>\n",
              "      <th>rating</th>\n",
              "      <th>duration</th>\n",
              "      <th>listed_in</th>\n",
              "      <th>description</th>\n",
              "      <th>date_added_cleaned</th>\n",
              "      <th>year_added</th>\n",
              "      <th>month_added</th>\n",
              "      <th>month_name</th>\n",
              "      <th>season_count</th>\n",
              "      <th>duration_cleaned</th>\n",
              "      <th>is_horror</th>\n",
              "    </tr>\n",
              "  </thead>\n",
              "  <tbody>\n",
              "    <tr>\n",
              "      <th>6066</th>\n",
              "      <td>s6067</td>\n",
              "      <td>TV Show</td>\n",
              "      <td>A Young Doctor's Notebook and Other Stories</td>\n",
              "      <td>unknown</td>\n",
              "      <td>Daniel Radcliffe, Jon Hamm, Adam Godley, Chris...</td>\n",
              "      <td>United Kingdom</td>\n",
              "      <td>NaN</td>\n",
              "      <td>2013</td>\n",
              "      <td>TV-MA</td>\n",
              "      <td>2 Seasons</td>\n",
              "      <td>British TV Shows, TV Comedies, TV Dramas</td>\n",
              "      <td>Set during the Russian Revolution, this comic ...</td>\n",
              "      <td>NaT</td>\n",
              "      <td>&lt;NA&gt;</td>\n",
              "      <td>&lt;NA&gt;</td>\n",
              "      <td>NaN</td>\n",
              "      <td>2</td>\n",
              "      <td>&lt;NA&gt;</td>\n",
              "      <td>False</td>\n",
              "    </tr>\n",
              "    <tr>\n",
              "      <th>6174</th>\n",
              "      <td>s6175</td>\n",
              "      <td>TV Show</td>\n",
              "      <td>Anthony Bourdain: Parts Unknown</td>\n",
              "      <td>unknown</td>\n",
              "      <td>Anthony Bourdain</td>\n",
              "      <td>United States</td>\n",
              "      <td>NaN</td>\n",
              "      <td>2018</td>\n",
              "      <td>TV-PG</td>\n",
              "      <td>5 Seasons</td>\n",
              "      <td>Docuseries</td>\n",
              "      <td>This CNN original series has chef Anthony Bour...</td>\n",
              "      <td>NaT</td>\n",
              "      <td>&lt;NA&gt;</td>\n",
              "      <td>&lt;NA&gt;</td>\n",
              "      <td>NaN</td>\n",
              "      <td>5</td>\n",
              "      <td>&lt;NA&gt;</td>\n",
              "      <td>False</td>\n",
              "    </tr>\n",
              "    <tr>\n",
              "      <th>6795</th>\n",
              "      <td>s6796</td>\n",
              "      <td>TV Show</td>\n",
              "      <td>Frasier</td>\n",
              "      <td>unknown</td>\n",
              "      <td>Kelsey Grammer, Jane Leeves, David Hyde Pierce...</td>\n",
              "      <td>United States</td>\n",
              "      <td>NaN</td>\n",
              "      <td>2003</td>\n",
              "      <td>TV-PG</td>\n",
              "      <td>11 Seasons</td>\n",
              "      <td>Classic &amp; Cult TV, TV Comedies</td>\n",
              "      <td>Frasier Crane is a snooty but lovable Seattle ...</td>\n",
              "      <td>NaT</td>\n",
              "      <td>&lt;NA&gt;</td>\n",
              "      <td>&lt;NA&gt;</td>\n",
              "      <td>NaN</td>\n",
              "      <td>11</td>\n",
              "      <td>&lt;NA&gt;</td>\n",
              "      <td>False</td>\n",
              "    </tr>\n",
              "    <tr>\n",
              "      <th>6806</th>\n",
              "      <td>s6807</td>\n",
              "      <td>TV Show</td>\n",
              "      <td>Friends</td>\n",
              "      <td>unknown</td>\n",
              "      <td>Jennifer Aniston, Courteney Cox, Lisa Kudrow, ...</td>\n",
              "      <td>United States</td>\n",
              "      <td>NaN</td>\n",
              "      <td>2003</td>\n",
              "      <td>TV-14</td>\n",
              "      <td>10 Seasons</td>\n",
              "      <td>Classic &amp; Cult TV, TV Comedies</td>\n",
              "      <td>This hit sitcom follows the merry misadventure...</td>\n",
              "      <td>NaT</td>\n",
              "      <td>&lt;NA&gt;</td>\n",
              "      <td>&lt;NA&gt;</td>\n",
              "      <td>NaN</td>\n",
              "      <td>10</td>\n",
              "      <td>&lt;NA&gt;</td>\n",
              "      <td>False</td>\n",
              "    </tr>\n",
              "    <tr>\n",
              "      <th>6901</th>\n",
              "      <td>s6902</td>\n",
              "      <td>TV Show</td>\n",
              "      <td>Gunslinger Girl</td>\n",
              "      <td>unknown</td>\n",
              "      <td>Yuuka Nanri, Kanako Mitsuhashi, Eri Sendai, Am...</td>\n",
              "      <td>Japan</td>\n",
              "      <td>NaN</td>\n",
              "      <td>2008</td>\n",
              "      <td>TV-14</td>\n",
              "      <td>2 Seasons</td>\n",
              "      <td>Anime Series, Crime TV Shows</td>\n",
              "      <td>On the surface, the Social Welfare Agency appe...</td>\n",
              "      <td>NaT</td>\n",
              "      <td>&lt;NA&gt;</td>\n",
              "      <td>&lt;NA&gt;</td>\n",
              "      <td>NaN</td>\n",
              "      <td>2</td>\n",
              "      <td>&lt;NA&gt;</td>\n",
              "      <td>False</td>\n",
              "    </tr>\n",
              "    <tr>\n",
              "      <th>7196</th>\n",
              "      <td>s7197</td>\n",
              "      <td>TV Show</td>\n",
              "      <td>Kikoriki</td>\n",
              "      <td>unknown</td>\n",
              "      <td>Igor Dmitriev</td>\n",
              "      <td>unknown</td>\n",
              "      <td>NaN</td>\n",
              "      <td>2010</td>\n",
              "      <td>TV-Y</td>\n",
              "      <td>2 Seasons</td>\n",
              "      <td>Kids' TV</td>\n",
              "      <td>A wacky rabbit and his gang of animal pals hav...</td>\n",
              "      <td>NaT</td>\n",
              "      <td>&lt;NA&gt;</td>\n",
              "      <td>&lt;NA&gt;</td>\n",
              "      <td>NaN</td>\n",
              "      <td>2</td>\n",
              "      <td>&lt;NA&gt;</td>\n",
              "      <td>False</td>\n",
              "    </tr>\n",
              "    <tr>\n",
              "      <th>7254</th>\n",
              "      <td>s7255</td>\n",
              "      <td>TV Show</td>\n",
              "      <td>La Familia P. Luche</td>\n",
              "      <td>unknown</td>\n",
              "      <td>Eugenio Derbez, Consuelo Duval, Luis Manuel Áv...</td>\n",
              "      <td>United States</td>\n",
              "      <td>NaN</td>\n",
              "      <td>2012</td>\n",
              "      <td>TV-14</td>\n",
              "      <td>3 Seasons</td>\n",
              "      <td>International TV Shows, Spanish-Language TV Sh...</td>\n",
              "      <td>This irreverent sitcom featues Ludovico, Feder...</td>\n",
              "      <td>NaT</td>\n",
              "      <td>&lt;NA&gt;</td>\n",
              "      <td>&lt;NA&gt;</td>\n",
              "      <td>NaN</td>\n",
              "      <td>3</td>\n",
              "      <td>&lt;NA&gt;</td>\n",
              "      <td>False</td>\n",
              "    </tr>\n",
              "    <tr>\n",
              "      <th>7406</th>\n",
              "      <td>s7407</td>\n",
              "      <td>TV Show</td>\n",
              "      <td>Maron</td>\n",
              "      <td>unknown</td>\n",
              "      <td>Marc Maron, Judd Hirsch, Josh Brener, Nora Zeh...</td>\n",
              "      <td>United States</td>\n",
              "      <td>NaN</td>\n",
              "      <td>2016</td>\n",
              "      <td>TV-MA</td>\n",
              "      <td>4 Seasons</td>\n",
              "      <td>TV Comedies</td>\n",
              "      <td>Marc Maron stars as Marc Maron, who interviews...</td>\n",
              "      <td>NaT</td>\n",
              "      <td>&lt;NA&gt;</td>\n",
              "      <td>&lt;NA&gt;</td>\n",
              "      <td>NaN</td>\n",
              "      <td>4</td>\n",
              "      <td>&lt;NA&gt;</td>\n",
              "      <td>False</td>\n",
              "    </tr>\n",
              "    <tr>\n",
              "      <th>7847</th>\n",
              "      <td>s7848</td>\n",
              "      <td>TV Show</td>\n",
              "      <td>Red vs. Blue</td>\n",
              "      <td>unknown</td>\n",
              "      <td>Burnie Burns, Jason Saldaña, Gustavo Sorola, G...</td>\n",
              "      <td>United States</td>\n",
              "      <td>NaN</td>\n",
              "      <td>2015</td>\n",
              "      <td>NR</td>\n",
              "      <td>13 Seasons</td>\n",
              "      <td>TV Action &amp; Adventure, TV Comedies, TV Sci-Fi ...</td>\n",
              "      <td>This parody of first-person shooter games, mil...</td>\n",
              "      <td>NaT</td>\n",
              "      <td>&lt;NA&gt;</td>\n",
              "      <td>&lt;NA&gt;</td>\n",
              "      <td>NaN</td>\n",
              "      <td>13</td>\n",
              "      <td>&lt;NA&gt;</td>\n",
              "      <td>False</td>\n",
              "    </tr>\n",
              "    <tr>\n",
              "      <th>8182</th>\n",
              "      <td>s8183</td>\n",
              "      <td>TV Show</td>\n",
              "      <td>The Adventures of Figaro Pho</td>\n",
              "      <td>unknown</td>\n",
              "      <td>Luke Jurevicius, Craig Behenna, Charlotte Haml...</td>\n",
              "      <td>Australia</td>\n",
              "      <td>NaN</td>\n",
              "      <td>2015</td>\n",
              "      <td>TV-Y7</td>\n",
              "      <td>2 Seasons</td>\n",
              "      <td>Kids' TV, TV Comedies</td>\n",
              "      <td>Imagine your worst fears, then multiply them: ...</td>\n",
              "      <td>NaT</td>\n",
              "      <td>&lt;NA&gt;</td>\n",
              "      <td>&lt;NA&gt;</td>\n",
              "      <td>NaN</td>\n",
              "      <td>2</td>\n",
              "      <td>&lt;NA&gt;</td>\n",
              "      <td>False</td>\n",
              "    </tr>\n",
              "  </tbody>\n",
              "</table>\n",
              "</div>"
            ],
            "text/plain": [
              "     show_id     type                                        title director  \\\n",
              "6066   s6067  TV Show  A Young Doctor's Notebook and Other Stories  unknown   \n",
              "6174   s6175  TV Show              Anthony Bourdain: Parts Unknown  unknown   \n",
              "6795   s6796  TV Show                                      Frasier  unknown   \n",
              "6806   s6807  TV Show                                      Friends  unknown   \n",
              "6901   s6902  TV Show                              Gunslinger Girl  unknown   \n",
              "7196   s7197  TV Show                                     Kikoriki  unknown   \n",
              "7254   s7255  TV Show                          La Familia P. Luche  unknown   \n",
              "7406   s7407  TV Show                                        Maron  unknown   \n",
              "7847   s7848  TV Show                                 Red vs. Blue  unknown   \n",
              "8182   s8183  TV Show                 The Adventures of Figaro Pho  unknown   \n",
              "\n",
              "                                                   cast         country  \\\n",
              "6066  Daniel Radcliffe, Jon Hamm, Adam Godley, Chris...  United Kingdom   \n",
              "6174                                   Anthony Bourdain   United States   \n",
              "6795  Kelsey Grammer, Jane Leeves, David Hyde Pierce...   United States   \n",
              "6806  Jennifer Aniston, Courteney Cox, Lisa Kudrow, ...   United States   \n",
              "6901  Yuuka Nanri, Kanako Mitsuhashi, Eri Sendai, Am...           Japan   \n",
              "7196                                      Igor Dmitriev         unknown   \n",
              "7254  Eugenio Derbez, Consuelo Duval, Luis Manuel Áv...   United States   \n",
              "7406  Marc Maron, Judd Hirsch, Josh Brener, Nora Zeh...   United States   \n",
              "7847  Burnie Burns, Jason Saldaña, Gustavo Sorola, G...   United States   \n",
              "8182  Luke Jurevicius, Craig Behenna, Charlotte Haml...       Australia   \n",
              "\n",
              "     date_added  release_year rating    duration  \\\n",
              "6066        NaN          2013  TV-MA   2 Seasons   \n",
              "6174        NaN          2018  TV-PG   5 Seasons   \n",
              "6795        NaN          2003  TV-PG  11 Seasons   \n",
              "6806        NaN          2003  TV-14  10 Seasons   \n",
              "6901        NaN          2008  TV-14   2 Seasons   \n",
              "7196        NaN          2010   TV-Y   2 Seasons   \n",
              "7254        NaN          2012  TV-14   3 Seasons   \n",
              "7406        NaN          2016  TV-MA   4 Seasons   \n",
              "7847        NaN          2015     NR  13 Seasons   \n",
              "8182        NaN          2015  TV-Y7   2 Seasons   \n",
              "\n",
              "                                              listed_in  \\\n",
              "6066           British TV Shows, TV Comedies, TV Dramas   \n",
              "6174                                         Docuseries   \n",
              "6795                     Classic & Cult TV, TV Comedies   \n",
              "6806                     Classic & Cult TV, TV Comedies   \n",
              "6901                       Anime Series, Crime TV Shows   \n",
              "7196                                           Kids' TV   \n",
              "7254  International TV Shows, Spanish-Language TV Sh...   \n",
              "7406                                        TV Comedies   \n",
              "7847  TV Action & Adventure, TV Comedies, TV Sci-Fi ...   \n",
              "8182                              Kids' TV, TV Comedies   \n",
              "\n",
              "                                            description date_added_cleaned  \\\n",
              "6066  Set during the Russian Revolution, this comic ...                NaT   \n",
              "6174  This CNN original series has chef Anthony Bour...                NaT   \n",
              "6795  Frasier Crane is a snooty but lovable Seattle ...                NaT   \n",
              "6806  This hit sitcom follows the merry misadventure...                NaT   \n",
              "6901  On the surface, the Social Welfare Agency appe...                NaT   \n",
              "7196  A wacky rabbit and his gang of animal pals hav...                NaT   \n",
              "7254  This irreverent sitcom featues Ludovico, Feder...                NaT   \n",
              "7406  Marc Maron stars as Marc Maron, who interviews...                NaT   \n",
              "7847  This parody of first-person shooter games, mil...                NaT   \n",
              "8182  Imagine your worst fears, then multiply them: ...                NaT   \n",
              "\n",
              "      year_added  month_added month_name  season_count  duration_cleaned  \\\n",
              "6066        <NA>         <NA>        NaN             2              <NA>   \n",
              "6174        <NA>         <NA>        NaN             5              <NA>   \n",
              "6795        <NA>         <NA>        NaN            11              <NA>   \n",
              "6806        <NA>         <NA>        NaN            10              <NA>   \n",
              "6901        <NA>         <NA>        NaN             2              <NA>   \n",
              "7196        <NA>         <NA>        NaN             2              <NA>   \n",
              "7254        <NA>         <NA>        NaN             3              <NA>   \n",
              "7406        <NA>         <NA>        NaN             4              <NA>   \n",
              "7847        <NA>         <NA>        NaN            13              <NA>   \n",
              "8182        <NA>         <NA>        NaN             2              <NA>   \n",
              "\n",
              "      is_horror  \n",
              "6066      False  \n",
              "6174      False  \n",
              "6795      False  \n",
              "6806      False  \n",
              "6901      False  \n",
              "7196      False  \n",
              "7254      False  \n",
              "7406      False  \n",
              "7847      False  \n",
              "8182      False  "
            ]
          },
          "execution_count": 157,
          "metadata": {},
          "output_type": "execute_result"
        }
      ],
      "source": [
        "df[df['year_added'].isna()]"
      ]
    },
    {
      "cell_type": "code",
      "execution_count": null,
      "id": "7a4b350a",
      "metadata": {
        "id": "7a4b350a"
      },
      "outputs": [],
      "source": [
        "df['year_added'] = df['year_added'].fillna(int(df['year_added'].mean()))"
      ]
    },
    {
      "cell_type": "code",
      "execution_count": null,
      "id": "39b34d29",
      "metadata": {
        "id": "39b34d29"
      },
      "outputs": [],
      "source": [
        "unique_years = list(df['year_added'].unique())"
      ]
    },
    {
      "cell_type": "code",
      "execution_count": null,
      "id": "c428fcb4",
      "metadata": {
        "id": "c428fcb4"
      },
      "outputs": [],
      "source": [
        "unique_years.sort()"
      ]
    },
    {
      "cell_type": "code",
      "execution_count": null,
      "id": "02255d3e",
      "metadata": {
        "id": "02255d3e",
        "outputId": "3b5cc32a-a235-43fa-812d-523fcadd612f"
      },
      "outputs": [
        {
          "data": {
            "text/plain": [
              "[2008,\n",
              " 2009,\n",
              " 2010,\n",
              " 2011,\n",
              " 2012,\n",
              " 2013,\n",
              " 2014,\n",
              " 2015,\n",
              " 2016,\n",
              " 2017,\n",
              " 2018,\n",
              " 2019,\n",
              " 2020,\n",
              " 2021]"
            ]
          },
          "execution_count": 161,
          "metadata": {},
          "output_type": "execute_result"
        }
      ],
      "source": [
        "unique_years"
      ]
    },
    {
      "cell_type": "code",
      "execution_count": null,
      "id": "92a2ef82",
      "metadata": {
        "id": "92a2ef82"
      },
      "outputs": [],
      "source": [
        "from dash import dash_table, Input, Output, html"
      ]
    },
    {
      "cell_type": "code",
      "execution_count": null,
      "id": "0da42515",
      "metadata": {
        "id": "0da42515",
        "outputId": "e3c320d0-8757-4dcc-9330-aace27cbc749"
      },
      "outputs": [
        {
          "data": {
            "text/html": [
              "<div>\n",
              "<style scoped>\n",
              "    .dataframe tbody tr th:only-of-type {\n",
              "        vertical-align: middle;\n",
              "    }\n",
              "\n",
              "    .dataframe tbody tr th {\n",
              "        vertical-align: top;\n",
              "    }\n",
              "\n",
              "    .dataframe thead th {\n",
              "        text-align: right;\n",
              "    }\n",
              "</style>\n",
              "<table border=\"1\" class=\"dataframe\">\n",
              "  <thead>\n",
              "    <tr style=\"text-align: right;\">\n",
              "      <th></th>\n",
              "      <th>show_id</th>\n",
              "      <th>type</th>\n",
              "      <th>title</th>\n",
              "      <th>director</th>\n",
              "      <th>cast</th>\n",
              "      <th>country</th>\n",
              "      <th>date_added</th>\n",
              "      <th>release_year</th>\n",
              "      <th>rating</th>\n",
              "      <th>duration</th>\n",
              "      <th>listed_in</th>\n",
              "      <th>description</th>\n",
              "      <th>date_added_cleaned</th>\n",
              "      <th>year_added</th>\n",
              "      <th>month_added</th>\n",
              "      <th>month_name</th>\n",
              "      <th>season_count</th>\n",
              "      <th>duration_cleaned</th>\n",
              "      <th>is_horror</th>\n",
              "    </tr>\n",
              "  </thead>\n",
              "  <tbody>\n",
              "    <tr>\n",
              "      <th>0</th>\n",
              "      <td>s1</td>\n",
              "      <td>Movie</td>\n",
              "      <td>Dick Johnson Is Dead</td>\n",
              "      <td>Kirsten Johnson</td>\n",
              "      <td>unknown</td>\n",
              "      <td>United States</td>\n",
              "      <td>September 25, 2021</td>\n",
              "      <td>2020</td>\n",
              "      <td>PG-13</td>\n",
              "      <td>90 min</td>\n",
              "      <td>Documentaries</td>\n",
              "      <td>As her father nears the end of his life, filmm...</td>\n",
              "      <td>2021-09-25</td>\n",
              "      <td>2021</td>\n",
              "      <td>9</td>\n",
              "      <td>September</td>\n",
              "      <td>&lt;NA&gt;</td>\n",
              "      <td>90</td>\n",
              "      <td>False</td>\n",
              "    </tr>\n",
              "    <tr>\n",
              "      <th>1</th>\n",
              "      <td>s2</td>\n",
              "      <td>TV Show</td>\n",
              "      <td>Blood &amp; Water</td>\n",
              "      <td>unknown</td>\n",
              "      <td>Ama Qamata, Khosi Ngema, Gail Mabalane, Thaban...</td>\n",
              "      <td>South Africa</td>\n",
              "      <td>September 24, 2021</td>\n",
              "      <td>2021</td>\n",
              "      <td>TV-MA</td>\n",
              "      <td>2 Seasons</td>\n",
              "      <td>International TV Shows, TV Dramas, TV Mysteries</td>\n",
              "      <td>After crossing paths at a party, a Cape Town t...</td>\n",
              "      <td>2021-09-24</td>\n",
              "      <td>2021</td>\n",
              "      <td>9</td>\n",
              "      <td>September</td>\n",
              "      <td>2</td>\n",
              "      <td>&lt;NA&gt;</td>\n",
              "      <td>False</td>\n",
              "    </tr>\n",
              "  </tbody>\n",
              "</table>\n",
              "</div>"
            ],
            "text/plain": [
              "  show_id     type                 title         director  \\\n",
              "0      s1    Movie  Dick Johnson Is Dead  Kirsten Johnson   \n",
              "1      s2  TV Show         Blood & Water          unknown   \n",
              "\n",
              "                                                cast        country  \\\n",
              "0                                            unknown  United States   \n",
              "1  Ama Qamata, Khosi Ngema, Gail Mabalane, Thaban...   South Africa   \n",
              "\n",
              "           date_added  release_year rating   duration  \\\n",
              "0  September 25, 2021          2020  PG-13     90 min   \n",
              "1  September 24, 2021          2021  TV-MA  2 Seasons   \n",
              "\n",
              "                                         listed_in  \\\n",
              "0                                    Documentaries   \n",
              "1  International TV Shows, TV Dramas, TV Mysteries   \n",
              "\n",
              "                                         description date_added_cleaned  \\\n",
              "0  As her father nears the end of his life, filmm...         2021-09-25   \n",
              "1  After crossing paths at a party, a Cape Town t...         2021-09-24   \n",
              "\n",
              "   year_added  month_added month_name  season_count  duration_cleaned  \\\n",
              "0        2021            9  September          <NA>                90   \n",
              "1        2021            9  September             2              <NA>   \n",
              "\n",
              "   is_horror  \n",
              "0      False  \n",
              "1      False  "
            ]
          },
          "execution_count": 163,
          "metadata": {},
          "output_type": "execute_result"
        }
      ],
      "source": [
        "df.head(2)"
      ]
    },
    {
      "cell_type": "code",
      "execution_count": null,
      "id": "154de0ed",
      "metadata": {
        "id": "154de0ed"
      },
      "outputs": [],
      "source": [
        "df.drop(columns='description', inplace=True)"
      ]
    },
    {
      "cell_type": "code",
      "execution_count": null,
      "id": "e90271c3",
      "metadata": {
        "id": "e90271c3",
        "outputId": "04275704-2b28-4dc0-9af1-75a01264f4c5"
      },
      "outputs": [
        {
          "data": {
            "text/plain": [
              "show_id                  0\n",
              "type                     0\n",
              "title                    0\n",
              "director                 0\n",
              "cast                     0\n",
              "country                  0\n",
              "date_added              10\n",
              "release_year             0\n",
              "rating                   4\n",
              "duration                 0\n",
              "listed_in                0\n",
              "date_added_cleaned      10\n",
              "year_added               0\n",
              "month_added             10\n",
              "month_name              10\n",
              "season_count          6131\n",
              "duration_cleaned      2679\n",
              "is_horror                0\n",
              "dtype: int64"
            ]
          },
          "execution_count": 165,
          "metadata": {},
          "output_type": "execute_result"
        }
      ],
      "source": [
        "df.isna().sum()"
      ]
    },
    {
      "cell_type": "code",
      "execution_count": null,
      "id": "6e0e1c0f",
      "metadata": {
        "id": "6e0e1c0f"
      },
      "outputs": [],
      "source": [
        "df = df.astype('O')"
      ]
    },
    {
      "cell_type": "code",
      "execution_count": null,
      "id": "ae3dd784",
      "metadata": {
        "id": "ae3dd784"
      },
      "outputs": [],
      "source": [
        "df = df.fillna(method='ffill').fillna(method='bfill')"
      ]
    },
    {
      "cell_type": "code",
      "execution_count": null,
      "id": "80315630",
      "metadata": {
        "id": "80315630",
        "outputId": "2e59464b-4f3b-4cde-d9ae-92cfe31829a9"
      },
      "outputs": [
        {
          "data": {
            "text/plain": [
              "show_id               0\n",
              "type                  0\n",
              "title                 0\n",
              "director              0\n",
              "cast                  0\n",
              "country               0\n",
              "date_added            0\n",
              "release_year          0\n",
              "rating                0\n",
              "duration              0\n",
              "listed_in             0\n",
              "date_added_cleaned    0\n",
              "year_added            0\n",
              "month_added           0\n",
              "month_name            0\n",
              "season_count          0\n",
              "duration_cleaned      0\n",
              "is_horror             0\n",
              "dtype: int64"
            ]
          },
          "execution_count": 174,
          "metadata": {},
          "output_type": "execute_result"
        }
      ],
      "source": [
        "df.isna().sum()"
      ]
    },
    {
      "cell_type": "code",
      "execution_count": null,
      "id": "381c5a89",
      "metadata": {
        "id": "381c5a89",
        "outputId": "603c1b8e-3d72-4455-8366-befbe4a9c20d"
      },
      "outputs": [
        {
          "name": "stdout",
          "output_type": "stream",
          "text": [
            "<class 'pandas.core.frame.DataFrame'>\n",
            "RangeIndex: 8807 entries, 0 to 8806\n",
            "Data columns (total 18 columns):\n",
            " #   Column              Non-Null Count  Dtype         \n",
            "---  ------              --------------  -----         \n",
            " 0   show_id             8807 non-null   object        \n",
            " 1   type                8807 non-null   object        \n",
            " 2   title               8807 non-null   object        \n",
            " 3   director            8807 non-null   object        \n",
            " 4   cast                8807 non-null   object        \n",
            " 5   country             8807 non-null   object        \n",
            " 6   date_added          8807 non-null   object        \n",
            " 7   release_year        8807 non-null   int64         \n",
            " 8   rating              8807 non-null   object        \n",
            " 9   duration            8807 non-null   object        \n",
            " 10  listed_in           8807 non-null   object        \n",
            " 11  date_added_cleaned  8807 non-null   datetime64[ns]\n",
            " 12  year_added          8807 non-null   int64         \n",
            " 13  month_added         8807 non-null   int64         \n",
            " 14  month_name          8807 non-null   object        \n",
            " 15  season_count        8807 non-null   int64         \n",
            " 16  duration_cleaned    8807 non-null   int64         \n",
            " 17  is_horror           8807 non-null   bool          \n",
            "dtypes: bool(1), datetime64[ns](1), int64(5), object(11)\n",
            "memory usage: 1.2+ MB\n"
          ]
        }
      ],
      "source": [
        "df.info()"
      ]
    },
    {
      "cell_type": "code",
      "execution_count": null,
      "id": "7b3d9985",
      "metadata": {
        "id": "7b3d9985",
        "outputId": "5daa1e64-d5ab-4892-d0a8-beade8f36506"
      },
      "outputs": [
        {
          "data": {
            "text/html": [
              "<div>\n",
              "<style scoped>\n",
              "    .dataframe tbody tr th:only-of-type {\n",
              "        vertical-align: middle;\n",
              "    }\n",
              "\n",
              "    .dataframe tbody tr th {\n",
              "        vertical-align: top;\n",
              "    }\n",
              "\n",
              "    .dataframe thead th {\n",
              "        text-align: right;\n",
              "    }\n",
              "</style>\n",
              "<table border=\"1\" class=\"dataframe\">\n",
              "  <thead>\n",
              "    <tr style=\"text-align: right;\">\n",
              "      <th></th>\n",
              "      <th>show_id</th>\n",
              "      <th>type</th>\n",
              "      <th>title</th>\n",
              "      <th>director</th>\n",
              "      <th>cast</th>\n",
              "      <th>country</th>\n",
              "      <th>date_added</th>\n",
              "      <th>release_year</th>\n",
              "      <th>rating</th>\n",
              "      <th>duration</th>\n",
              "      <th>listed_in</th>\n",
              "      <th>date_added_cleaned</th>\n",
              "      <th>year_added</th>\n",
              "      <th>month_added</th>\n",
              "      <th>month_name</th>\n",
              "      <th>season_count</th>\n",
              "      <th>duration_cleaned</th>\n",
              "      <th>is_horror</th>\n",
              "    </tr>\n",
              "  </thead>\n",
              "  <tbody>\n",
              "    <tr>\n",
              "      <th>0</th>\n",
              "      <td>s1</td>\n",
              "      <td>Movie</td>\n",
              "      <td>Dick Johnson Is Dead</td>\n",
              "      <td>Kirsten Johnson</td>\n",
              "      <td>unknown</td>\n",
              "      <td>United States</td>\n",
              "      <td>September 25, 2021</td>\n",
              "      <td>2020</td>\n",
              "      <td>PG-13</td>\n",
              "      <td>90 min</td>\n",
              "      <td>Documentaries</td>\n",
              "      <td>2021-09-25</td>\n",
              "      <td>2021</td>\n",
              "      <td>9</td>\n",
              "      <td>September</td>\n",
              "      <td>2</td>\n",
              "      <td>90</td>\n",
              "      <td>False</td>\n",
              "    </tr>\n",
              "    <tr>\n",
              "      <th>1</th>\n",
              "      <td>s2</td>\n",
              "      <td>TV Show</td>\n",
              "      <td>Blood &amp; Water</td>\n",
              "      <td>unknown</td>\n",
              "      <td>Ama Qamata, Khosi Ngema, Gail Mabalane, Thaban...</td>\n",
              "      <td>South Africa</td>\n",
              "      <td>September 24, 2021</td>\n",
              "      <td>2021</td>\n",
              "      <td>TV-MA</td>\n",
              "      <td>2 Seasons</td>\n",
              "      <td>International TV Shows, TV Dramas, TV Mysteries</td>\n",
              "      <td>2021-09-24</td>\n",
              "      <td>2021</td>\n",
              "      <td>9</td>\n",
              "      <td>September</td>\n",
              "      <td>2</td>\n",
              "      <td>90</td>\n",
              "      <td>False</td>\n",
              "    </tr>\n",
              "    <tr>\n",
              "      <th>2</th>\n",
              "      <td>s3</td>\n",
              "      <td>TV Show</td>\n",
              "      <td>Ganglands</td>\n",
              "      <td>Julien Leclercq</td>\n",
              "      <td>Sami Bouajila, Tracy Gotoas, Samuel Jouy, Nabi...</td>\n",
              "      <td>unknown</td>\n",
              "      <td>September 24, 2021</td>\n",
              "      <td>2021</td>\n",
              "      <td>TV-MA</td>\n",
              "      <td>1 Season</td>\n",
              "      <td>Crime TV Shows, International TV Shows, TV Act...</td>\n",
              "      <td>2021-09-24</td>\n",
              "      <td>2021</td>\n",
              "      <td>9</td>\n",
              "      <td>September</td>\n",
              "      <td>1</td>\n",
              "      <td>90</td>\n",
              "      <td>False</td>\n",
              "    </tr>\n",
              "    <tr>\n",
              "      <th>3</th>\n",
              "      <td>s4</td>\n",
              "      <td>TV Show</td>\n",
              "      <td>Jailbirds New Orleans</td>\n",
              "      <td>unknown</td>\n",
              "      <td>unknown</td>\n",
              "      <td>unknown</td>\n",
              "      <td>September 24, 2021</td>\n",
              "      <td>2021</td>\n",
              "      <td>TV-MA</td>\n",
              "      <td>1 Season</td>\n",
              "      <td>Docuseries, Reality TV</td>\n",
              "      <td>2021-09-24</td>\n",
              "      <td>2021</td>\n",
              "      <td>9</td>\n",
              "      <td>September</td>\n",
              "      <td>1</td>\n",
              "      <td>90</td>\n",
              "      <td>False</td>\n",
              "    </tr>\n",
              "    <tr>\n",
              "      <th>4</th>\n",
              "      <td>s5</td>\n",
              "      <td>TV Show</td>\n",
              "      <td>Kota Factory</td>\n",
              "      <td>unknown</td>\n",
              "      <td>Mayur More, Jitendra Kumar, Ranjan Raj, Alam K...</td>\n",
              "      <td>India</td>\n",
              "      <td>September 24, 2021</td>\n",
              "      <td>2021</td>\n",
              "      <td>TV-MA</td>\n",
              "      <td>2 Seasons</td>\n",
              "      <td>International TV Shows, Romantic TV Shows, TV ...</td>\n",
              "      <td>2021-09-24</td>\n",
              "      <td>2021</td>\n",
              "      <td>9</td>\n",
              "      <td>September</td>\n",
              "      <td>2</td>\n",
              "      <td>90</td>\n",
              "      <td>False</td>\n",
              "    </tr>\n",
              "  </tbody>\n",
              "</table>\n",
              "</div>"
            ],
            "text/plain": [
              "  show_id     type                  title         director  \\\n",
              "0      s1    Movie   Dick Johnson Is Dead  Kirsten Johnson   \n",
              "1      s2  TV Show          Blood & Water          unknown   \n",
              "2      s3  TV Show              Ganglands  Julien Leclercq   \n",
              "3      s4  TV Show  Jailbirds New Orleans          unknown   \n",
              "4      s5  TV Show           Kota Factory          unknown   \n",
              "\n",
              "                                                cast        country  \\\n",
              "0                                            unknown  United States   \n",
              "1  Ama Qamata, Khosi Ngema, Gail Mabalane, Thaban...   South Africa   \n",
              "2  Sami Bouajila, Tracy Gotoas, Samuel Jouy, Nabi...        unknown   \n",
              "3                                            unknown        unknown   \n",
              "4  Mayur More, Jitendra Kumar, Ranjan Raj, Alam K...          India   \n",
              "\n",
              "           date_added  release_year rating   duration  \\\n",
              "0  September 25, 2021          2020  PG-13     90 min   \n",
              "1  September 24, 2021          2021  TV-MA  2 Seasons   \n",
              "2  September 24, 2021          2021  TV-MA   1 Season   \n",
              "3  September 24, 2021          2021  TV-MA   1 Season   \n",
              "4  September 24, 2021          2021  TV-MA  2 Seasons   \n",
              "\n",
              "                                           listed_in date_added_cleaned  \\\n",
              "0                                      Documentaries         2021-09-25   \n",
              "1    International TV Shows, TV Dramas, TV Mysteries         2021-09-24   \n",
              "2  Crime TV Shows, International TV Shows, TV Act...         2021-09-24   \n",
              "3                             Docuseries, Reality TV         2021-09-24   \n",
              "4  International TV Shows, Romantic TV Shows, TV ...         2021-09-24   \n",
              "\n",
              "   year_added  month_added month_name  season_count  duration_cleaned  \\\n",
              "0        2021            9  September             2                90   \n",
              "1        2021            9  September             2                90   \n",
              "2        2021            9  September             1                90   \n",
              "3        2021            9  September             1                90   \n",
              "4        2021            9  September             2                90   \n",
              "\n",
              "   is_horror  \n",
              "0      False  \n",
              "1      False  \n",
              "2      False  \n",
              "3      False  \n",
              "4      False  "
            ]
          },
          "execution_count": 169,
          "metadata": {},
          "output_type": "execute_result"
        }
      ],
      "source": [
        "df.head()"
      ]
    },
    {
      "cell_type": "code",
      "execution_count": null,
      "id": "bf8bf1bb",
      "metadata": {
        "id": "bf8bf1bb"
      },
      "outputs": [],
      "source": [
        "for column in df.columns:\n",
        "    try:\n",
        "        df[column] = df[column].astype(int)\n",
        "    except:\n",
        "        pass"
      ]
    },
    {
      "cell_type": "code",
      "execution_count": null,
      "id": "92dbf152",
      "metadata": {
        "id": "92dbf152",
        "outputId": "57a6d36e-7358-48e1-c13d-dd23e3e4918e"
      },
      "outputs": [
        {
          "name": "stdout",
          "output_type": "stream",
          "text": [
            "<class 'pandas.core.frame.DataFrame'>\n",
            "RangeIndex: 8807 entries, 0 to 8806\n",
            "Data columns (total 18 columns):\n",
            " #   Column              Non-Null Count  Dtype         \n",
            "---  ------              --------------  -----         \n",
            " 0   show_id             8807 non-null   object        \n",
            " 1   type                8807 non-null   object        \n",
            " 2   title               8807 non-null   object        \n",
            " 3   director            8807 non-null   object        \n",
            " 4   cast                8807 non-null   object        \n",
            " 5   country             8807 non-null   object        \n",
            " 6   date_added          8807 non-null   object        \n",
            " 7   release_year        8807 non-null   int32         \n",
            " 8   rating              8807 non-null   object        \n",
            " 9   duration            8807 non-null   object        \n",
            " 10  listed_in           8807 non-null   object        \n",
            " 11  date_added_cleaned  8807 non-null   datetime64[ns]\n",
            " 12  year_added          8807 non-null   int32         \n",
            " 13  month_added         8807 non-null   int32         \n",
            " 14  month_name          8807 non-null   object        \n",
            " 15  season_count        8807 non-null   int32         \n",
            " 16  duration_cleaned    8807 non-null   int32         \n",
            " 17  is_horror           8807 non-null   int32         \n",
            "dtypes: datetime64[ns](1), int32(6), object(11)\n",
            "memory usage: 1.0+ MB\n"
          ]
        }
      ],
      "source": [
        "df.info()"
      ]
    },
    {
      "cell_type": "code",
      "execution_count": null,
      "id": "e5af8f21",
      "metadata": {
        "id": "e5af8f21"
      },
      "outputs": [],
      "source": [
        "import dash_bootstrap_components as dbc\n"
      ]
    },
    {
      "cell_type": "code",
      "execution_count": null,
      "id": "a8c823ce",
      "metadata": {
        "id": "a8c823ce"
      },
      "outputs": [],
      "source": [
        "df.drop(columns='cast', inplace=True)"
      ]
    },
    {
      "cell_type": "code",
      "execution_count": null,
      "id": "34a45d8d",
      "metadata": {
        "id": "34a45d8d"
      },
      "outputs": [],
      "source": [
        "def filter_year(df, year):\n",
        "    df = df[df['year_added'] <= year]\n",
        "    return df"
      ]
    },
    {
      "cell_type": "code",
      "execution_count": null,
      "id": "8dea4a15",
      "metadata": {
        "id": "8dea4a15"
      },
      "outputs": [],
      "source": [
        "def get_graph(df, year):\n",
        "    df = filter_year(df, year)\n",
        "    df_agg = df.groupby(['year_added', 'type']).agg({\n",
        "        'show_id': 'count'\n",
        "    }).reset_index()\n",
        "    fig2 = px.line(df_agg, x='year_added', y='show_id', color='type')\n",
        "    return fig2"
      ]
    },
    {
      "cell_type": "code",
      "execution_count": null,
      "id": "95c34537",
      "metadata": {
        "id": "95c34537"
      },
      "outputs": [],
      "source": [
        "def get_table(df, year):\n",
        "    df = filter_year(df, year)\n",
        "    mtable = dash_table.DataTable(df.to_dict('records'),\n",
        "        [{\"name\": i, \"id\": i} for i in df.columns],\n",
        "     style_data={\n",
        "                    'color': 'black',\n",
        "                    'backgroundColor': 'white'\n",
        "                },\n",
        "    style_data_conditional=[\n",
        "        {\n",
        "            'if': {'row_index': 'odd'},\n",
        "            'backgroundColor': 'rgb(220, 220, 220)',\n",
        "        }\n",
        "    ],\n",
        "    style_header={\n",
        "        'backgroundColor': 'rgb(210, 210, 210)',\n",
        "        'color': 'black',\n",
        "        'fontWeight': 'bold'\n",
        "    },\n",
        "    page_current=0,\n",
        "    page_size=5,\n",
        "    style_table={'overflowX': 'auto'},\n",
        "    ),\n",
        "\n",
        "    return mtable"
      ]
    },
    {
      "cell_type": "code",
      "execution_count": null,
      "id": "20645ff9",
      "metadata": {
        "id": "20645ff9",
        "outputId": "28ac6aad-f286-4648-dbfd-cd917d94893b"
      },
      "outputs": [
        {
          "name": "stdout",
          "output_type": "stream",
          "text": [
            "Dash is running on http://127.0.0.1:8050/\n",
            "\n",
            "Dash is running on http://127.0.0.1:8050/\n",
            "\n",
            "Dash is running on http://127.0.0.1:8050/\n",
            "\n",
            "Dash is running on http://127.0.0.1:8050/\n",
            "\n",
            "Dash is running on http://127.0.0.1:8050/\n",
            "\n",
            "Dash is running on http://127.0.0.1:8050/\n",
            "\n",
            "Dash is running on http://127.0.0.1:8050/\n",
            "\n",
            "Dash is running on http://127.0.0.1:8050/\n",
            "\n",
            "Dash is running on http://127.0.0.1:8050/\n",
            "\n",
            "Dash is running on http://127.0.0.1:8050/\n",
            "\n",
            "Dash is running on http://127.0.0.1:8050/\n",
            "\n",
            "Dash is running on http://127.0.0.1:8050/\n",
            "\n",
            "Dash is running on http://127.0.0.1:8050/\n",
            "\n",
            "Dash is running on http://127.0.0.1:8050/\n",
            "\n",
            "Dash is running on http://127.0.0.1:8050/\n",
            "\n",
            "Dash is running on http://127.0.0.1:8050/\n",
            "\n",
            "Dash is running on http://127.0.0.1:8050/\n",
            "\n",
            "Dash is running on http://127.0.0.1:8050/\n",
            "\n",
            "Dash is running on http://127.0.0.1:8050/\n",
            "\n",
            "Dash is running on http://127.0.0.1:8050/\n",
            "\n",
            "Dash is running on http://127.0.0.1:8050/\n",
            "\n",
            "Dash is running on http://127.0.0.1:8050/\n",
            "\n",
            "Dash is running on http://127.0.0.1:8050/\n",
            "\n",
            "Dash is running on http://127.0.0.1:8050/\n",
            "\n",
            "Dash is running on http://127.0.0.1:8050/\n",
            "\n",
            "Dash is running on http://127.0.0.1:8050/\n",
            "\n",
            "Dash is running on http://127.0.0.1:8050/\n",
            "\n",
            "Dash is running on http://127.0.0.1:8050/\n",
            "\n",
            " * Serving Flask app '__main__' (lazy loading)\n",
            " * Environment: production\n",
            "\u001b[31m   WARNING: This is a development server. Do not use it in a production deployment.\u001b[0m\n",
            "\u001b[2m   Use a production WSGI server instead.\u001b[0m\n",
            " * Debug mode: off\n",
            "None\n",
            "2010\n",
            "2017\n",
            "2019\n"
          ]
        }
      ],
      "source": [
        "app = Dash(__name__,\n",
        "          external_stylesheets=[dbc.themes.BOOTSTRAP])\n",
        "\n",
        "\n",
        "\n",
        "\n",
        "\n",
        "app.layout = html.Div([\n",
        "    html.H1('Netflix Dashboard'),\n",
        "    dcc.Dropdown(\n",
        "    id='year-select',\n",
        "    options = [\n",
        "        {'label': year, 'value': year} for year in unique_years\n",
        "    ]\n",
        "    ),\n",
        "    html.Div(\n",
        "    className='row justify-content-md-center',\n",
        "        style={\n",
        "            'margin-top': '2%'\n",
        "        },\n",
        "        children=[\n",
        "    html.Div(\n",
        "    className='col-md-auto',\n",
        "    style={'width': '75%'},\n",
        "    id='output-table',\n",
        "    children=[\n",
        "\n",
        "    ])\n",
        "\n",
        "        ]\n",
        "\n",
        "    ),\n",
        "\n",
        "\n",
        "\n",
        "\n",
        "        html.Div(\n",
        "    className='row justify-content-md-center',\n",
        "        style={\n",
        "            'margin-top': '2%'\n",
        "        },\n",
        "        children=[\n",
        "    html.Div(\n",
        "    className='col-md-auto',\n",
        "    style={'width': '40%'},\n",
        "    children=[\n",
        "\n",
        "        dcc.Graph(figure=fig)\n",
        "    ]),\n",
        "    html.Div(\n",
        "    className='col-md-auto',\n",
        "    style={'width': '40%'},\n",
        "    children=[\n",
        "\n",
        "        dcc.Graph(id='output-graph')\n",
        "    ])\n",
        "        ])\n",
        "\n",
        "\n",
        "\n",
        "])\n",
        "\n",
        "\n",
        "@app.callback(\n",
        "Output('output-table', 'children'),\n",
        "Output('output-graph', 'figure'),\n",
        "Input('year-select', 'value')\n",
        ")\n",
        "def filter_table_callback(year):\n",
        "    print(year)\n",
        "    return get_table(df, year), get_graph(df, year)\n",
        "\n",
        "\n",
        "\n",
        "app.run_server(debug=False)"
      ]
    },
    {
      "cell_type": "code",
      "execution_count": null,
      "id": "fcd7c6f4",
      "metadata": {
        "id": "fcd7c6f4"
      },
      "outputs": [],
      "source": []
    },
    {
      "cell_type": "code",
      "execution_count": null,
      "id": "8cf1c64e",
      "metadata": {
        "id": "8cf1c64e"
      },
      "outputs": [],
      "source": []
    },
    {
      "cell_type": "code",
      "execution_count": null,
      "id": "e2d1545e",
      "metadata": {
        "id": "e2d1545e"
      },
      "outputs": [],
      "source": []
    }
  ],
  "metadata": {
    "kernelspec": {
      "display_name": "Python 3 (ipykernel)",
      "language": "python",
      "name": "python3"
    },
    "language_info": {
      "codemirror_mode": {
        "name": "ipython",
        "version": 3
      },
      "file_extension": ".py",
      "mimetype": "text/x-python",
      "name": "python",
      "nbconvert_exporter": "python",
      "pygments_lexer": "ipython3",
      "version": "3.8.5"
    },
    "colab": {
      "provenance": [],
      "include_colab_link": true
    }
  },
  "nbformat": 4,
  "nbformat_minor": 5
}